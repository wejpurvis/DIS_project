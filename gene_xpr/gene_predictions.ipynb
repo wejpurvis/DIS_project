{
 "cells": [
  {
   "cell_type": "markdown",
   "metadata": {},
   "source": [
    "## Gene predictions\n",
    "\n",
    "This notebook predicts the gene expressions at various points in time."
   ]
  },
  {
   "cell_type": "code",
   "execution_count": 51,
   "metadata": {},
   "outputs": [],
   "source": [
    "# Importing libraries\n",
    "import jax\n",
    "import gpjax as gpx\n",
    "import jax.numpy as jnp\n",
    "import optax as ox\n",
    "import jax.random as jr\n",
    "\n",
    "import sys\n",
    "import os\n",
    "abs_path = os.path.abspath('../src')\n",
    "sys.path.append(abs_path)\n",
    "from p53_data import JAXP53_Data, dataset_3d, generate_test_times\n",
    "from kernels import latent_kernel\n",
    "from custom_gps import p53_posterior\n",
    "from plotter import plot_gp\n",
    "\n",
    "\n",
    "import matplotlib as mpl\n",
    "import matplotlib.pyplot as plt\n",
    "from matplotlib import rcParams\n",
    "jax.config.update(\"jax_enable_x64\", True)\n",
    "key = jr.PRNGKey(42)\n",
    "\n",
    "plt.style.use(\n",
    "    \"https://raw.githubusercontent.com/JaxGaussianProcesses/GPJax/main/docs/examples/gpjax.mplstyle\"\n",
    ")\n",
    "\n",
    "# Check if LaTeX is in notebook path\n",
    "if os.environ.get(\"PATH\") is not None:\n",
    "    if \"TeX\" not in os.environ[\"PATH\"]:\n",
    "        os.environ[\"PATH\"] += os.pathsep + \"/Library/TeX/texbin\"\n",
    "\n",
    "cols = rcParams[\"axes.prop_cycle\"].by_key()[\"color\"]"
   ]
  },
  {
   "cell_type": "code",
   "execution_count": 52,
   "metadata": {},
   "outputs": [
    {
     "name": "stdout",
     "output_type": "stream",
     "text": [
      "The autoreload extension is already loaded. To reload it, use:\n",
      "  %reload_ext autoreload\n"
     ]
    }
   ],
   "source": [
    "%load_ext autoreload\n",
    "%autoreload 2"
   ]
  },
  {
   "cell_type": "code",
   "execution_count": 65,
   "metadata": {},
   "outputs": [],
   "source": [
    "# Gene predictions only uses Kxx kernel\n",
    "import tensorflow_probability.substrates.jax.bijectors as tfb\n",
    "from dataclasses import dataclass\n",
    "from gpjax.base import param_field\n",
    "from jaxtyping import Float\n",
    "from gpjax.typing import (\n",
    "    Array,\n",
    "    ScalarFloat,\n",
    ")\n",
    "from jaxtyping import Int\n",
    "\n",
    "@dataclass\n",
    "class kxx(gpx.kernels.AbstractKernel):\n",
    "    initial_sensitivities = jnp.array([1.0, 1.0, 1.0, 1.0, 1.0], dtype=jnp.float64)\n",
    "\n",
    "    true_s: Float[Array, \"1 5\"] = param_field(\n",
    "        initial_sensitivities,\n",
    "        bijector=tfb.Softplus(),\n",
    "        metadata={\"name\": \" kxx_sensitivities\"},\n",
    "        trainable=True,\n",
    "    )\n",
    "\n",
    "    # Degradation rates of the genes\n",
    "    initial_decays = jnp.array([0.4, 0.4, 0.4, 0.4, 0.4], dtype=jnp.float64)\n",
    "\n",
    "    true_d: Float[Array, \"1 5\"] = param_field(\n",
    "        initial_decays,\n",
    "        bijector=tfb.Softplus(),\n",
    "        metadata={\"name\": \" kxx_degradations\"},\n",
    "        trainable=True,\n",
    "    )\n",
    "\n",
    "    # Lengthscale constrained to be between 0.5 and 3.5\n",
    "    l_bijector = tfb.Sigmoid(low=0.5, high=3.5)\n",
    "\n",
    "    initial_lengthscale = jnp.array(2.5, dtype=jnp.float64)\n",
    "\n",
    "    l: Float[Array, \" O\"] = param_field(\n",
    "        initial_lengthscale, bijector=l_bijector, metadata={\"name\": \"lengthscale\"}\n",
    "    )\n",
    "\n",
    "    def __call__(self, x: Float[Array, \" D\"], y: Float[Array, \" D\"]) -> ScalarFloat:\n",
    "        \"\"\"\n",
    "        Compute Kxx kernel (for gene expression predictions)\n",
    "        \"\"\"\n",
    "\n",
    "        # Get gene indices\n",
    "        j = x[1].astype(int)\n",
    "        k = y[1].astype(int)\n",
    "\n",
    "        # Extract data\n",
    "        x = x[0]\n",
    "        y = y[0]\n",
    "\n",
    "        # Equation 5\n",
    "        # Equation 5\n",
    "\n",
    "        mult = self.true_s[j] * self.true_s[k] * self.l * jnp.sqrt(jnp.pi) * 0.5\n",
    "        second_term = self.h(k, j, y, x) + self.h(j, k, x, y)\n",
    "\n",
    "        kxx = mult * second_term\n",
    "\n",
    "        return kxx.squeeze()\n",
    "    \n",
    "    def h(self, j: Int[Array, \" O\"], k: Int[Array, \" O\"], x, y):\n",
    "\n",
    "        dist = y - x\n",
    "        \n",
    "        multiplier = jnp.exp(self.gamma(k) ** 2) / (self.true_d[j] + self.true_d[k])\n",
    "\n",
    "        first_multiplier = jnp.exp(-self.true_d[k] * dist)\n",
    "\n",
    "        first_erf_terms = jax.scipy.special.erf(\n",
    "            (dist / self.l) - self.gamma(k)\n",
    "        ) + jax.scipy.special.erf(x / self.l + self.gamma(k))\n",
    "\n",
    "        second_multiplier = jnp.exp(-(self.true_d[k] * y + self.true_d[j] * x))\n",
    "\n",
    "        second_erf_terms = jax.scipy.special.erf(\n",
    "            (y / self.l) - self.gamma(k)\n",
    "        ) + jax.scipy.special.erf(self.gamma(k))\n",
    "\n",
    "        result = multiplier * (\n",
    "            jnp.multiply(first_multiplier, first_erf_terms)\n",
    "            - jnp.multiply(second_multiplier, second_erf_terms)\n",
    "        )\n",
    "\n",
    "        return result\n",
    "\n",
    "    def gamma(self, k: Int[Array, \" O\"]) -> ScalarFloat:\n",
    "        # Gamma term for h function\n",
    "        return (self.true_d[k] * self.l) / 2"
   ]
  },
  {
   "cell_type": "code",
   "execution_count": 66,
   "metadata": {},
   "outputs": [],
   "source": [
    "def clean_legend(ax):\n",
    "    handles, labels = ax.get_legend_handles_labels()\n",
    "    by_label = dict(zip(labels, handles))\n",
    "    ax.legend(by_label.values(), by_label.keys())"
   ]
  },
  {
   "cell_type": "code",
   "execution_count": 74,
   "metadata": {},
   "outputs": [],
   "source": [
    "def generate_test_times_xpr(t=80):\n",
    "    times = jnp.linspace(0, 13, t)\n",
    "    gene_indices = jnp.repeat(1, t)\n",
    "    testing_times = jnp.stack((times, gene_indices, jnp.repeat(1, t)), axis=-1)\n",
    "    return testing_times"
   ]
  },
  {
   "cell_type": "code",
   "execution_count": 67,
   "metadata": {},
   "outputs": [],
   "source": [
    "p53_data = JAXP53_Data(replicate=0, data_dir='../data')\n",
    "training_times, gene_expressions, variances = dataset_3d(p53_data)"
   ]
  },
  {
   "cell_type": "code",
   "execution_count": 92,
   "metadata": {},
   "outputs": [
    {
     "data": {
      "text/plain": [
       "Array([[0.21770547, 0.98287555, 2.85188244, 2.74521598, 2.6086432 ,\n",
       "        1.47332117, 1.52914597]], dtype=float64)"
      ]
     },
     "execution_count": 92,
     "metadata": {},
     "output_type": "execute_result"
    }
   ],
   "source": [
    "p53_data.gene_expressions[:, 0]"
   ]
  },
  {
   "cell_type": "code",
   "execution_count": 95,
   "metadata": {},
   "outputs": [
    {
     "data": {
      "text/plain": [
       "Array([[0.21770547],\n",
       "       [0.98287555],\n",
       "       [2.85188244],\n",
       "       [2.74521598],\n",
       "       [2.6086432 ],\n",
       "       [1.47332117],\n",
       "       [1.52914597]], dtype=float64)"
      ]
     },
     "execution_count": 95,
     "metadata": {},
     "output_type": "execute_result"
    }
   ],
   "source": [
    "gene_expressions[:7]"
   ]
  },
  {
   "cell_type": "code",
   "execution_count": 96,
   "metadata": {},
   "outputs": [
    {
     "data": {
      "text/plain": [
       "Array([[ 0.,  0.,  1.],\n",
       "       [ 2.,  0.,  1.],\n",
       "       [ 4.,  0.,  1.],\n",
       "       [ 6.,  0.,  1.],\n",
       "       [ 8.,  0.,  1.],\n",
       "       [10.,  0.,  1.],\n",
       "       [12.,  0.,  1.]], dtype=float64)"
      ]
     },
     "execution_count": 96,
     "metadata": {},
     "output_type": "execute_result"
    }
   ],
   "source": [
    "training_times[:7]"
   ]
  },
  {
   "cell_type": "code",
   "execution_count": null,
   "metadata": {},
   "outputs": [],
   "source": []
  },
  {
   "cell_type": "code",
   "execution_count": 100,
   "metadata": {},
   "outputs": [],
   "source": [
    "# Get training data for 1st gene\n",
    "index = (35 // 5) * 1\n",
    "gene_1_times = training_times[:index]\n",
    "gene_1_expressions = gene_expressions[:index]"
   ]
  },
  {
   "cell_type": "code",
   "execution_count": 101,
   "metadata": {},
   "outputs": [],
   "source": [
    "D = gpx.Dataset(gene_1_times, gene_1_expressions)\n",
    "\n",
    "xtest = generate_test_times_xpr(t=80)"
   ]
  },
  {
   "cell_type": "code",
   "execution_count": 108,
   "metadata": {},
   "outputs": [],
   "source": [
    "meanf = gpx.mean_functions.Zero()\n",
    "#meanf = latent_mean()\n",
    "#kernel = latent_kernel()\n",
    "kernel = kxx()\n",
    "\n",
    "# Define prior\n",
    "prior = gpx.gps.Prior(mean_function=meanf, kernel=kernel)"
   ]
  },
  {
   "cell_type": "code",
   "execution_count": 109,
   "metadata": {},
   "outputs": [],
   "source": [
    "# Constructing the posterior\n",
    "likelihood = gpx.likelihoods.Gaussian(num_datapoints=D.n)\n",
    "posterior = prior * likelihood"
   ]
  },
  {
   "cell_type": "code",
   "execution_count": 110,
   "metadata": {},
   "outputs": [
    {
     "data": {
      "text/plain": [
       "Array(11.04899887, dtype=float64)"
      ]
     },
     "execution_count": 110,
     "metadata": {},
     "output_type": "execute_result"
    }
   ],
   "source": [
    "negative_mll = gpx.objectives.ConjugateMLL(negative=True)\n",
    "negative_mll(posterior, train_data=D)"
   ]
  },
  {
   "cell_type": "code",
   "execution_count": 111,
   "metadata": {},
   "outputs": [
    {
     "name": "stderr",
     "output_type": "stream",
     "text": [
      "  0%|          | 0/100 [00:00<?, ?it/s]"
     ]
    },
    {
     "name": "stderr",
     "output_type": "stream",
     "text": [
      "Running: 100%|██████████| 100/100 [00:01<00:00, 96.56it/s, Value=8.54]\n"
     ]
    }
   ],
   "source": [
    "opt_posterior, history = gpx.fit(model=posterior, objective=negative_mll, train_data=D,optim=ox.adam(0.01), key=key, num_iters=100)"
   ]
  },
  {
   "cell_type": "code",
   "execution_count": 112,
   "metadata": {},
   "outputs": [],
   "source": [
    "latent_dist = opt_posterior.predict(xtest, train_data=D)\n",
    "\n",
    "predictive_mean = latent_dist.mean()\n",
    "predictive_std = latent_dist.stddev()"
   ]
  },
  {
   "cell_type": "code",
   "execution_count": 114,
   "metadata": {},
   "outputs": [
    {
     "data": {
      "text/plain": [
       "<matplotlib.legend.Legend at 0x337b6dcf0>"
      ]
     },
     "execution_count": 114,
     "metadata": {},
     "output_type": "execute_result"
    },
    {
     "data": {
      "image/png": "[encoded data removed]",
      "text/plain": [
       "<Figure size 900x300 with 1 Axes>"
      ]
     },
     "metadata": {},
     "output_type": "display_data"
    }
   ],
   "source": [
    "fig, ax = plt.subplots(figsize=(7.5, 2.5))\n",
    "ax.scatter(p53_data.timepoints, p53_data.gene_expressions[:, 0], color=\"orange\", label=\"Training Data\")\n",
    "ax.fill_between(\n",
    "    xtest[:,0],\n",
    "    predictive_mean - 2 * predictive_std,\n",
    "    predictive_mean + 2 * predictive_std,\n",
    "    alpha=0.2,\n",
    "    label=\"Two sigma\",\n",
    "    color=cols[1],\n",
    ")\n",
    "ax.plot(\n",
    "    xtest[:,0],\n",
    "    predictive_mean - 2 * predictive_std,\n",
    "    linestyle=\"--\",\n",
    "    linewidth=1,\n",
    "    color=cols[1],\n",
    ")\n",
    "ax.plot(\n",
    "    xtest[:,0],\n",
    "    predictive_mean + 2 * predictive_std,\n",
    "    linestyle=\"--\",\n",
    "    linewidth=1,\n",
    "    color=cols[1],\n",
    ")\n",
    "\n",
    "\n",
    "ax.plot(xtest[:,0], predictive_mean, label=\"Predictive mean\", color=cols[1])\n",
    "ax.legend(loc=\"center left\", bbox_to_anchor=(0.975, 0.5))"
   ]
  }
 ],
 "metadata": {
  "kernelspec": {
   "display_name": "gpjax_wp289",
   "language": "python",
   "name": "python3"
  },
  "language_info": {
   "codemirror_mode": {
    "name": "ipython",
    "version": 3
   },
   "file_extension": ".py",
   "mimetype": "text/x-python",
   "name": "python",
   "nbconvert_exporter": "python",
   "pygments_lexer": "ipython3",
   "version": "3.10.14"
  }
 },
 "nbformat": 4,
 "nbformat_minor": 2
}
