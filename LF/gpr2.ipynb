{
 "cells": [
  {
   "cell_type": "markdown",
   "metadata": {},
   "source": [
    "# LF"
   ]
  },
  {
   "cell_type": "code",
   "execution_count": 1,
   "metadata": {},
   "outputs": [
    {
     "name": "stderr",
     "output_type": "stream",
     "text": [
      "/opt/anaconda3/envs/project_wp289/lib/python3.11/site-packages/cola/backends/backends.py:75: UserWarning: torch.utils._pytree._register_pytree_node is deprecated. Please use torch.utils._pytree.register_pytree_node instead.\n",
      "  torch.utils._pytree._register_pytree_node(cls, tree_flatten, tree_unflatten)\n"
     ]
    }
   ],
   "source": [
    "import numpy as np\n",
    "import gpjax as gpx\n",
    "import os\n",
    "import jax\n",
    "import matplotlib.pyplot as plt\n",
    "import jax.random as jr\n",
    "\n",
    "from dataclasses import dataclass, field\n",
    "\n",
    "from beartype.typing import Union\n",
    "import jax.numpy as jnp\n",
    "from jaxtyping import Float\n",
    "import tensorflow_probability.substrates.jax.bijectors as tfb\n",
    "import tensorflow_probability.substrates.jax.distributions as tfd\n",
    "\n",
    "from gpjax.base import param_field, static_field\n",
    "from gpjax.kernels.base import AbstractKernel\n",
    "from gpjax.kernels.stationary.utils import squared_distance\n",
    "from gpjax.typing import (\n",
    "    Array,\n",
    "    ScalarFloat,\n",
    ")\n",
    "\n",
    "from beartype.typing import Callable\n",
    "from jaxtyping import Int\n",
    "\n",
    "from p53_data import JAXP53_Data, dataset_3d, flatten_dataset_jax\n",
    "jax.config.update('jax_enable_x64', True)\n",
    "\n",
    "from matplotlib import rcParams\n",
    "\n",
    "plt.style.use(\"https://raw.githubusercontent.com/JaxGaussianProcesses/GPJax/main/docs/examples/gpjax.mplstyle\")\n",
    "\n",
    "# Check if LaTeX is in notebook path\n",
    "if os.environ.get('PATH') is not None:\n",
    "    if 'TeX' not in os.environ['PATH']:\n",
    "        os.environ['PATH'] += os.pathsep + '/Library/TeX/texbin'\n",
    "\n",
    "colors = rcParams[\"axes.prop_cycle\"].by_key()[\"color\"]\n",
    "\n",
    "import tensorflow_probability.substrates.jax.bijectors as tfb\n",
    "\n",
    "key = jr.PRNGKey(42)"
   ]
  },
  {
   "cell_type": "code",
   "execution_count": 2,
   "metadata": {},
   "outputs": [],
   "source": [
    "p53_data = JAXP53_Data(replicate=2)\n",
    "training_times, gene_expressions = dataset_3d(p53_data)"
   ]
  },
  {
   "cell_type": "code",
   "execution_count": 3,
   "metadata": {},
   "outputs": [],
   "source": [
    "# Generate test points (t, i, 1):\n",
    "def gen_test_times(t=100):\n",
    "    \"\"\"\n",
    "    Generate testing times for the model of shape (N, 3) where N is the number of testing times. Default is N = 100\n",
    "    \"\"\"\n",
    "    times = jnp.linspace(0, 12, t)\n",
    "    # Gene indices shouldn't matter\n",
    "    gene_indices = jnp.repeat(-1, t)\n",
    "    testing_times = jnp.stack((times, gene_indices, jnp.repeat(0,t)), axis=-1)\n",
    "    return testing_times"
   ]
  },
  {
   "cell_type": "code",
   "execution_count": 63,
   "metadata": {},
   "outputs": [
    {
     "data": {
      "text/plain": [
       "(18, 3)"
      ]
     },
     "execution_count": 63,
     "metadata": {},
     "output_type": "execute_result"
    }
   ],
   "source": [
    "t18 = gen_test_times(18)\n",
    "\n",
    "t18.shape"
   ]
  },
  {
   "cell_type": "code",
   "execution_count": 4,
   "metadata": {},
   "outputs": [],
   "source": [
    "@dataclass\n",
    "class p53_kxx(gpx.kernels.AbstractKernel):\n",
    "    r\"Covariance function for expressions of genes j and k at times t and t'\"\n",
    "\n",
    "    name: str = 'k_xx'\n",
    "\n",
    "    # BUG: crashes when using unconstrained parameters\n",
    "\n",
    "    # Sensitivities of the genes\n",
    "    initial_constrained_s = jnp.array([1.0,1.0,1.0,1.0,1.0], dtype=jnp.float64)\n",
    "    initial_unconstrained_s = tfb.Softplus().inverse(initial_constrained_s)\n",
    "    \n",
    "    true_s: Float[Array, \"1 5\"] = param_field(initial_constrained_s, bijector= tfb.Softplus(), metadata={\"name\": \" kxx_sensitivities\"}, trainable=True)\n",
    "    \n",
    "    # Degradation rates of the genes\n",
    "    initial_constrained_d = jnp.array([0.4,0.4,0.4,0.4,0.4], dtype=jnp.float64)\n",
    "    initial_unconstrained_d = tfb.Softplus().inverse(initial_constrained_d)\n",
    "\n",
    "    true_d: Float[Array, \"1 5\"] = param_field(initial_constrained_d, bijector= tfb.Softplus(), metadata={\"name\": \" kxx_degradations\"}, trainable=True)\n",
    "\n",
    "    #true_d: Float[Array, \"1 5\"] = static_field(jnp.array([0.4,0.4,0.4,0.4,0.4]))\n",
    "    \n",
    "\n",
    "    # Sigmoid to map real numbers to (0,1) and then scales and shifts to get(0.5, 3.5) # NOTE: tfb.Chain acts Right to Left\n",
    "    l_bijector = tfb.Chain([tfb.Shift(jnp.array(0.5, dtype=jnp.float64)), tfb.Scale(jnp.array(3.0, dtype=jnp.float64)), tfb.Sigmoid()])\n",
    "    \n",
    "    initial_constrained_l = jnp.array(2.5, dtype=jnp.float64)\n",
    "    initial_unconstrained_l = l_bijector.inverse(initial_constrained_l)\n",
    "    \n",
    "    l: Float[Array, \" O\"] = param_field(initial_constrained_l, bijector=l_bijector, metadata={\"name\": \" kxx_lengthscale\"})\n",
    "\n",
    "    \n",
    "    def __call__(self, t: Int[Array, \"1 3\"], t_prime: Int[Array, \"1 3\"]) -> ScalarFloat:\n",
    "        \"\"\"\n",
    "        Equation 5 in paper k_xx(t,t')\n",
    "        \"\"\"\n",
    "        \n",
    "        # Error trap (JAX friendly)\n",
    "        def check_validity(condition):\n",
    "            if condition:\n",
    "                #raise ValueError(\"t or t' cannot be testing points (z=0)\")\n",
    "                return 0\n",
    "\n",
    "        condition = jnp.logical_or(t[2] == 0, t_prime[2] == 0)\n",
    "        jax.debug.callback(check_validity, condition)\n",
    "        \n",
    "        # Get gene indices\n",
    "        j = t[1].astype(int)\n",
    "        k = t_prime[1].astype(int)\n",
    "\n",
    "        t = self.slice_input(t)\n",
    "        t_prime = self.slice_input(t_prime)\n",
    "\n",
    "        # Equation 5\n",
    "        mult = self.true_s[j] * self.true_s[k] * self.l * jnp.sqrt(jnp.pi) * 0.5\n",
    "        second_term = self.h(k,j, t_prime, t) + self.h(j,k, t, t_prime)\n",
    "        \n",
    "        kxx = mult * second_term\n",
    "\n",
    "        return kxx.squeeze()\n",
    "        \n",
    "    \n",
    "    def h(self,j: Int[Array, \" O\"],k: Int[Array, \" O\"],t1: Int[Array, \" O\"],t2: Int[Array, \" O\"]) -> ScalarFloat:\n",
    "        \"\"\"\n",
    "        Analytical solution for the convolution of the exponential kernel with a step function.\n",
    "        \"\"\"\n",
    "\n",
    "        t_dist = t2-t1\n",
    "\n",
    "        multiplier = jnp.exp(self.gamma(k)**2) / (self.true_d[j] + self.true_d[k])\n",
    "\n",
    "        first_multiplier = jnp.exp(-self.true_d[k]*t_dist)\n",
    "        first_erf_terms = jax.scipy.special.erf((t_dist / self.l) - self.gamma(k)) + jax.scipy.special.erf(t1/self.l + self.gamma(k))\n",
    "\n",
    "        second_multiplier = jnp.exp(-(self.true_d[k]*t2 + self.true_d[j]*t1))\n",
    "        second_erf_terms = jax.scipy.special.erf((t2 / self.l) - self.gamma(k)) + jax.scipy.special.erf(self.gamma(k))\n",
    "\n",
    "        result = multiplier * (jnp.multiply(first_multiplier, first_erf_terms) - jnp.multiply(second_multiplier, second_erf_terms))\n",
    "\n",
    "        return result\n",
    "    \n",
    "    def gamma(self, k: Int[Array, \" O\"]) -> ScalarFloat:\n",
    "        # Gamma term for h function\n",
    "        return (self.true_d[k] * self.l) /2"
   ]
  },
  {
   "cell_type": "code",
   "execution_count": 5,
   "metadata": {},
   "outputs": [],
   "source": [
    "@dataclass\n",
    "class p53_kxf(gpx.kernels.AbstractKernel):\n",
    "    r\"Cross-covariance between gene expression j at time t and f at time t'\"\n",
    "\n",
    "    name: str = 'k_xf'\n",
    "\n",
    "    true_s: Float[Array, \"1 5\"] = param_field(jnp.array([1.0,1.0,1.0,1.0,1.0]), bijector= tfb.Softplus(), metadata={\"name\": \" kxf_sensitivities\"}, trainable=False)\n",
    "    true_d: Float[Array, \"1 5\"] = param_field(jnp.array([1.0,1.0,1.0,1.0,1.0]), bijector= tfb.Softplus(), metadata={\"name\": \" kxf_degradations\"}, trainable=False)\n",
    "\n",
    "    l: Float[Array, \" O\"] = param_field(jnp.array(2.5), bijector=tfb.Softplus(), metadata={\"name\": \" kxf_lengthscale\"}, trainable=False)\n",
    "\n",
    "    def __call__(self, t: Int[Array, \"1 3\"], t_prime: Int[Array, \"1 3\"]) -> ScalarFloat:\n",
    "        # Get gene expression and latent force from flag (kxf anf kfx are transposes)\n",
    "        gene_xpr = jnp.where(t[2] == 0, t_prime, t)\n",
    "        latent_force = jnp.where(t[2] == 0, t, t_prime)\n",
    "    \n",
    "        j = gene_xpr[1].astype(int)\n",
    "\n",
    "        #print(f'Latent force {latent_force}')\n",
    "        #print(f'Gene expression {gene_xpr}') \n",
    "\n",
    "        # Slice inputs\n",
    "        gene_xpr = self.slice_input(gene_xpr)\n",
    "        latent_force = self.slice_input(latent_force)\n",
    "\n",
    "        #print(f'Latent force {latent_force}')\n",
    "        #print(f'Gene expression {gene_xpr}')\n",
    "\n",
    "        t_dist = jnp.abs(gene_xpr - latent_force)   \n",
    "        \n",
    "        first_term = 0.5 * self.l * jnp.sqrt(jnp.pi) * self.true_s[j]\n",
    "        first_expon_term = jnp.exp(self.gamma(j)**2)\n",
    "        second_expon_term = jnp.exp(-self.true_d[j]*t_dist)\n",
    "        erf_terms = jax.scipy.special.erf((t_dist / self.l) - self.gamma(j)) + jax.scipy.special.erf(latent_force/self.l + self.gamma(j))\n",
    "\n",
    "        kxf = first_term * first_expon_term * second_expon_term * erf_terms\n",
    "        return kxf.squeeze()\n",
    "    \n",
    "    def gamma(self, k: Int[Array, \" O\"]) -> ScalarFloat:\n",
    "        # Gamma term for h function\n",
    "        return (self.true_d[k] * self.l) /2\n"
   ]
  },
  {
   "cell_type": "code",
   "execution_count": 6,
   "metadata": {},
   "outputs": [],
   "source": [
    "@dataclass\n",
    "class p53_kff(AbstractKernel):\n",
    "    r\"\"\"The Radial Basis Function (RBF) kernel.\"\"\"\n",
    "\n",
    "    l: Union[ScalarFloat, Float[Array, \" D\"]] = param_field(jnp.array(2.5), bijector=tfb.Softplus(), metadata={\"name\": \" kff_lengthscale\"}, trainable=False)\n",
    "\n",
    "    # Use static field so it doesn't show in list of parameters\n",
    "    variance: ScalarFloat = static_field(jnp.array(1.0))\n",
    "\n",
    "    name: str = \"RBF\"\n",
    "\n",
    "    def __call__(self, x: Float[Array, \" D\"], y: Float[Array, \" D\"]) -> ScalarFloat:\n",
    "        r\"\"\"Compute the RBF kernel between a pair of arrays.\n",
    "\n",
    "        Evaluate the kernel on a pair of inputs $`(x, y)`$ with lengthscale parameter\n",
    "        $`\\ell`$ and variance $`\\sigma^2`$:\n",
    "        ```math\n",
    "        k(x,y)=\\sigma^2\\exp\\Bigg(- \\frac{\\lVert x - y \\rVert^2_2}{2 \\ell^2} \\Bigg)\n",
    "        ```\n",
    "\n",
    "        Args:\n",
    "            x (Float[Array, \" D\"]): The left hand argument of the kernel function's call.\n",
    "            y (Float[Array, \" D\"]): The right hand argument of the kernel function's call.\n",
    "\n",
    "        Returns:\n",
    "            ScalarFloat: The value of $`k(x, y)`$.\n",
    "        \"\"\"\n",
    "        x = self.slice_input(x) / self.l\n",
    "        y = self.slice_input(y) / self.l\n",
    "        K = self.variance * jnp.exp(-0.5 * squared_distance(x, y))\n",
    "        return K.squeeze()"
   ]
  },
  {
   "cell_type": "code",
   "execution_count": 7,
   "metadata": {},
   "outputs": [],
   "source": [
    "@dataclass\n",
    "class p53_combined_kernel(gpx.kernels.AbstractKernel):\n",
    "    r\"Combined covariance for learning the latent replication of p53\"\n",
    "\n",
    "    name: str = 'p53 Cov'\n",
    "\n",
    "    # Define external kernels\n",
    "    kernel_xx: gpx.kernels.AbstractKernel = field(default_factory=lambda: p53_kxx(active_dims=[0]))\n",
    "\n",
    "    kernel_xf: gpx.kernels.AbstractKernel = field(default_factory=lambda: p53_kxf(active_dims=[0]))\n",
    "\n",
    "    kernel_ff: gpx.kernels.AbstractKernel = field(default_factory=lambda: p53_kff(active_dims=[0]))\n",
    "    \n",
    "\n",
    "    def __call__(self, t: Int[Array, \"1 3\"], t_prime: Int[Array, \"1 3\"]) -> ScalarFloat:\n",
    "\n",
    "        # Get flag from input (1 = gene expression, 0 = latent force function)\n",
    "        f1 = jnp.array(t[2], dtype=int)\n",
    "        f2 = jnp.array(t_prime[2], dtype=int)\n",
    "\n",
    "        # Cannot use if statements in kernels -> use switches\n",
    "        kxx_switch = f1 * f2\n",
    "        kff_switch = (1 - f1) * (1 - f2)\n",
    "        kxf_switch = f1 * (1 - f2)\n",
    "        kxf_t_switch = (1 - f1) * f2\n",
    "\n",
    "        final_kernel = kxx_switch * self.kernel_xx(t, t_prime) + kff_switch * self.kernel_ff(t, t_prime) + kxf_switch * self.kernel_xf(t, t_prime) + kxf_t_switch * self.kernel_xf(t_prime, t)\n",
    "\n",
    "        return final_kernel"
   ]
  },
  {
   "cell_type": "markdown",
   "metadata": {},
   "source": [
    "## GP Regression"
   ]
  },
  {
   "cell_type": "code",
   "execution_count": 8,
   "metadata": {},
   "outputs": [],
   "source": [
    "dataset_train = gpx.Dataset(training_times, gene_expressions)\n",
    "\n",
    "testing_times = gen_test_times()"
   ]
  },
  {
   "cell_type": "code",
   "execution_count": 9,
   "metadata": {},
   "outputs": [],
   "source": [
    "def initialise_gp(kernel, mean, dataset):\n",
    "    prior = gpx.gps.Prior(mean_function=mean, kernel=kernel)\n",
    "    likelihood = gpx.likelihoods.Gaussian(\n",
    "        num_datapoints=dataset.n, obs_stddev=jnp.array([1.0e-3], dtype=jnp.float64)\n",
    "    )\n",
    "    posterior = prior * likelihood\n",
    "    return posterior\n",
    "\n",
    "meanf = gpx.mean_functions.Zero()\n",
    "p53_ker = p53_combined_kernel()\n",
    "\n",
    "posterior = initialise_gp(p53_ker, meanf, dataset_train)"
   ]
  },
  {
   "cell_type": "code",
   "execution_count": 10,
   "metadata": {},
   "outputs": [],
   "source": [
    "def optimise_mll(posterior, dataset, NIters=1000, key=key):\n",
    "    # define the MLL using dataset_train\n",
    "    objective = gpx.objectives.ConjugateMLL(negative=True)\n",
    "    print(f'MLL before opt: {objective(posterior, dataset):.3f}')\n",
    "    # Optimise to minimise the MLL\n",
    "    opt_posterior, history = gpx.fit_scipy(\n",
    "        model=posterior,\n",
    "        objective=objective,\n",
    "        train_data=dataset,\n",
    "    )\n",
    "    return opt_posterior, history"
   ]
  },
  {
   "cell_type": "code",
   "execution_count": 11,
   "metadata": {},
   "outputs": [],
   "source": [
    "import optax as ox\n",
    "\n",
    "def optimise_mll2(posterior, dataset, NIters=1000, key=key):\n",
    "    # define the MLL using dataset_train\n",
    "    objective = gpx.objectives.ConjugateMLL(negative=True)\n",
    "    print(f'MLL before opt: {objective(posterior, dataset):.3f}')\n",
    "    # Optimise to minimise the MLL\n",
    "    opt_posterior, history = gpx.fit(\n",
    "        model=posterior,\n",
    "        objective=objective,\n",
    "        train_data=dataset, \n",
    "        optim=ox.adam(1e-1), \n",
    "        num_iters=NIters,\n",
    "        key=key,\n",
    "        safe=False)\n",
    "    return opt_posterior, history"
   ]
  },
  {
   "cell_type": "code",
   "execution_count": 12,
   "metadata": {},
   "outputs": [
    {
     "name": "stderr",
     "output_type": "stream",
     "text": [
      "/opt/anaconda3/envs/project_wp289/lib/python3.11/site-packages/cola/backends/backends.py:75: UserWarning: torch.utils._pytree._register_pytree_node is deprecated. Please use torch.utils._pytree.register_pytree_node instead.\n",
      "  torch.utils._pytree._register_pytree_node(cls, tree_flatten, tree_unflatten)\n"
     ]
    },
    {
     "name": "stdout",
     "output_type": "stream",
     "text": [
      "MLL before opt: 424157.524\n"
     ]
    },
    {
     "data": {
      "application/vnd.jupyter.widget-view+json": {
       "model_id": "ee38edfd11f84402ae91f404802368a5",
       "version_major": 2,
       "version_minor": 0
      },
      "text/plain": [
       "  0%|          | 0/1000 [00:00<?, ?it/s]"
      ]
     },
     "metadata": {},
     "output_type": "display_data"
    }
   ],
   "source": [
    "opt_posterior, history = optimise_mll2(posterior, dataset_train)"
   ]
  },
  {
   "cell_type": "code",
   "execution_count": 13,
   "metadata": {},
   "outputs": [
    {
     "data": {
      "image/png": "[encoded data removed]",
      "text/plain": [
       "<Figure size 660x300 with 1 Axes>"
      ]
     },
     "metadata": {},
     "output_type": "display_data"
    }
   ],
   "source": [
    "# Plot history of MLL\n",
    "plt.plot(history)\n",
    "plt.xlabel(\"Iteration\")\n",
    "plt.ylabel(\"MLL\")\n",
    "plt.show()"
   ]
  },
  {
   "cell_type": "code",
   "execution_count": 14,
   "metadata": {},
   "outputs": [
    {
     "name": "stdout",
     "output_type": "stream",
     "text": [
      "8\n"
     ]
    },
    {
     "data": {
      "text/plain": [
       "[({'bijector': <tfp.bijectors.Softplus 'softplus' batch_shape=[] forward_min_event_ndims=0 inverse_min_event_ndims=0 dtype_x=? dtype_y=?>,\n",
       "   'trainable': True,\n",
       "   'pytree_node': True},\n",
       "  Array([0.03798884], dtype=float64)),\n",
       " ({'name': ' kff_lengthscale',\n",
       "   'bijector': <tfp.bijectors.Softplus 'softplus' batch_shape=[] forward_min_event_ndims=0 inverse_min_event_ndims=0 dtype_x=? dtype_y=?>,\n",
       "   'trainable': False,\n",
       "   'pytree_node': True},\n",
       "  Array(2.5, dtype=float64)),\n",
       " ({'name': ' kxf_lengthscale',\n",
       "   'bijector': <tfp.bijectors.Softplus 'softplus' batch_shape=[] forward_min_event_ndims=0 inverse_min_event_ndims=0 dtype_x=? dtype_y=?>,\n",
       "   'trainable': False,\n",
       "   'pytree_node': True},\n",
       "  Array(2.5, dtype=float64)),\n",
       " ({'name': ' kxf_degradations',\n",
       "   'bijector': <tfp.bijectors.Softplus 'softplus' batch_shape=[] forward_min_event_ndims=0 inverse_min_event_ndims=0 dtype_x=? dtype_y=?>,\n",
       "   'trainable': False,\n",
       "   'pytree_node': True},\n",
       "  Array([1., 1., 1., 1., 1.], dtype=float64)),\n",
       " ({'name': ' kxf_sensitivities',\n",
       "   'bijector': <tfp.bijectors.Softplus 'softplus' batch_shape=[] forward_min_event_ndims=0 inverse_min_event_ndims=0 dtype_x=? dtype_y=?>,\n",
       "   'trainable': False,\n",
       "   'pytree_node': True},\n",
       "  Array([1., 1., 1., 1., 1.], dtype=float64)),\n",
       " ({'name': ' kxx_lengthscale',\n",
       "   'bijector': <tfp.bijectors.Chain 'chain_of_shift_of_scale_of_sigmoid' batch_shape=[] forward_min_event_ndims=0 inverse_min_event_ndims=0 dtype_x=float64 dtype_y=float64 bijectors=[<tfp.bijectors.Shift 'shift' batch_shape=[] forward_min_event_ndims=0 inverse_min_event_ndims=0 dtype_x=float64 dtype_y=float64>, <tfp.bijectors.Scale 'scale' batch_shape=[] forward_min_event_ndims=0 inverse_min_event_ndims=0 dtype_x=float64 dtype_y=float64>, <tfp.bijectors.Sigmoid 'sigmoid' batch_shape=[] forward_min_event_ndims=0 inverse_min_event_ndims=0 dtype_x=? dtype_y=?>]>,\n",
       "   'trainable': True,\n",
       "   'pytree_node': True},\n",
       "  Array(0.72308435, dtype=float64)),\n",
       " ({'name': ' kxx_degradations',\n",
       "   'bijector': <tfp.bijectors.Softplus 'softplus' batch_shape=[] forward_min_event_ndims=0 inverse_min_event_ndims=0 dtype_x=? dtype_y=?>,\n",
       "   'trainable': True,\n",
       "   'pytree_node': True},\n",
       "  Array([0.2011247 , 1.25441558, 0.2815935 , 0.76138895, 0.2508647 ],      dtype=float64)),\n",
       " ({'name': ' kxx_sensitivities',\n",
       "   'bijector': <tfp.bijectors.Softplus 'softplus' batch_shape=[] forward_min_event_ndims=0 inverse_min_event_ndims=0 dtype_x=? dtype_y=?>,\n",
       "   'trainable': True,\n",
       "   'pytree_node': True},\n",
       "  Array([1.27655192, 1.52340735, 0.91220434, 0.79491096, 1.2233152 ],      dtype=float64))]"
      ]
     },
     "execution_count": 14,
     "metadata": {},
     "output_type": "execute_result"
    }
   ],
   "source": [
    "from gpjax.base import meta_leaves\n",
    "\n",
    "leaves = meta_leaves(opt_posterior)\n",
    "print(len(leaves))\n",
    "leaves"
   ]
  },
  {
   "cell_type": "code",
   "execution_count": 15,
   "metadata": {},
   "outputs": [],
   "source": [
    "pass"
   ]
  },
  {
   "cell_type": "code",
   "execution_count": 16,
   "metadata": {},
   "outputs": [
    {
     "name": "stderr",
     "output_type": "stream",
     "text": [
      "/opt/anaconda3/envs/project_wp289/lib/python3.11/site-packages/cola/backends/backends.py:75: UserWarning: torch.utils._pytree._register_pytree_node is deprecated. Please use torch.utils._pytree.register_pytree_node instead.\n",
      "  torch.utils._pytree._register_pytree_node(cls, tree_flatten, tree_unflatten)\n"
     ]
    }
   ],
   "source": [
    "latent_dist = opt_posterior.predict(testing_times, train_data=dataset_train)\n",
    "predictive_dist = opt_posterior.likelihood(latent_dist)\n",
    "\n",
    "predictive_mean = predictive_dist.mean()\n",
    "predictive_std = predictive_dist.variance()"
   ]
  },
  {
   "cell_type": "code",
   "execution_count": 17,
   "metadata": {},
   "outputs": [],
   "source": [
    "def plot_gp(x_test, predictive_dist):\n",
    "    \"\"\"\n",
    "    Plot LF GP given test points and prediction\n",
    "\n",
    "    Parameters\n",
    "    ----------\n",
    "    x_test: array of shape (n, 3)\n",
    "    predictive_dist:  jax mvn\n",
    "    \"\"\"\n",
    "\n",
    "    predictive_mean = predictive_dist.mean()\n",
    "    predictive_std = predictive_dist.variance()\n",
    "\n",
    "    # (100,)\n",
    "    x_test = x_test[:,0]\n",
    "\n",
    "    import matplotlib as mpl\n",
    "    cols = mpl.rcParams[\"axes.prop_cycle\"].by_key()[\"color\"]\n",
    "    fig, ax = plt.subplots(figsize=(7.5, 2.5))\n",
    "\n",
    "    ax.fill_between(\n",
    "        x_test.squeeze(),\n",
    "        predictive_mean - 2 * predictive_std,\n",
    "        predictive_mean + 2 * predictive_std,\n",
    "        alpha=0.2,\n",
    "        label=\"Two sigma\",\n",
    "        color=cols[1],\n",
    "    )\n",
    "    ax.plot(\n",
    "        x_test,\n",
    "        predictive_mean - 2 * predictive_std,\n",
    "        linestyle=\"--\",\n",
    "        linewidth=1,\n",
    "        color=cols[1],\n",
    "    )\n",
    "    ax.plot(\n",
    "        x_test,\n",
    "        predictive_mean + 2 * predictive_std,\n",
    "        linestyle=\"--\",\n",
    "        linewidth=1,\n",
    "        color=cols[1],\n",
    "    )\n",
    "    \n",
    "    ax.plot(x_test, predictive_mean, label=\"Predictive mean\", color=cols[1])\n",
    "    ax.legend(loc=\"center left\", bbox_to_anchor=(0.975, 0.5))\n",
    "    ax.set_xlabel(\"Time\")\n",
    "    ax.set_ylabel(\"mRNA Expression\")"
   ]
  },
  {
   "cell_type": "code",
   "execution_count": 18,
   "metadata": {},
   "outputs": [
    {
     "data": {
      "image/png": "[encoded data removed]",
      "text/plain": [
       "<Figure size 900x300 with 1 Axes>"
      ]
     },
     "metadata": {},
     "output_type": "display_data"
    }
   ],
   "source": [
    "plot_gp(testing_times, predictive_dist)"
   ]
  },
  {
   "cell_type": "code",
   "execution_count": 19,
   "metadata": {},
   "outputs": [
    {
     "name": "stdout",
     "output_type": "stream",
     "text": [
      "{'bijector': <tfp.bijectors.Softplus 'softplus' batch_shape=[] forward_min_event_ndims=0 inverse_min_event_ndims=0 dtype_x=? dtype_y=?>, 'trainable': True, 'pytree_node': True} <class 'dict'>\n",
      "{'name': ' kff_lengthscale', 'bijector': <tfp.bijectors.Softplus 'softplus' batch_shape=[] forward_min_event_ndims=0 inverse_min_event_ndims=0 dtype_x=? dtype_y=?>, 'trainable': False, 'pytree_node': True} <class 'dict'>\n",
      "{'name': ' kxf_lengthscale', 'bijector': <tfp.bijectors.Softplus 'softplus' batch_shape=[] forward_min_event_ndims=0 inverse_min_event_ndims=0 dtype_x=? dtype_y=?>, 'trainable': False, 'pytree_node': True} <class 'dict'>\n",
      "{'name': ' kxf_degradations', 'bijector': <tfp.bijectors.Softplus 'softplus' batch_shape=[] forward_min_event_ndims=0 inverse_min_event_ndims=0 dtype_x=? dtype_y=?>, 'trainable': False, 'pytree_node': True} <class 'dict'>\n",
      "{'name': ' kxf_sensitivities', 'bijector': <tfp.bijectors.Softplus 'softplus' batch_shape=[] forward_min_event_ndims=0 inverse_min_event_ndims=0 dtype_x=? dtype_y=?>, 'trainable': False, 'pytree_node': True} <class 'dict'>\n",
      "{'name': ' kxx_lengthscale', 'bijector': <tfp.bijectors.Chain 'chain_of_shift_of_scale_of_sigmoid' batch_shape=[] forward_min_event_ndims=0 inverse_min_event_ndims=0 dtype_x=float64 dtype_y=float64 bijectors=[<tfp.bijectors.Shift 'shift' batch_shape=[] forward_min_event_ndims=0 inverse_min_event_ndims=0 dtype_x=float64 dtype_y=float64>, <tfp.bijectors.Scale 'scale' batch_shape=[] forward_min_event_ndims=0 inverse_min_event_ndims=0 dtype_x=float64 dtype_y=float64>, <tfp.bijectors.Sigmoid 'sigmoid' batch_shape=[] forward_min_event_ndims=0 inverse_min_event_ndims=0 dtype_x=? dtype_y=?>]>, 'trainable': True, 'pytree_node': True} <class 'dict'>\n",
      "{'name': ' kxx_degradations', 'bijector': <tfp.bijectors.Softplus 'softplus' batch_shape=[] forward_min_event_ndims=0 inverse_min_event_ndims=0 dtype_x=? dtype_y=?>, 'trainable': True, 'pytree_node': True} <class 'dict'>\n",
      "{'name': ' kxx_sensitivities', 'bijector': <tfp.bijectors.Softplus 'softplus' batch_shape=[] forward_min_event_ndims=0 inverse_min_event_ndims=0 dtype_x=? dtype_y=?>, 'trainable': True, 'pytree_node': True} <class 'dict'>\n"
     ]
    }
   ],
   "source": [
    "for leaf in leaves:\n",
    "    print(leaf[0], type(leaf[0]))"
   ]
  },
  {
   "cell_type": "code",
   "execution_count": 42,
   "metadata": {},
   "outputs": [],
   "source": [
    "def get_params(opt_posterior):\n",
    "    leaves = meta_leaves(opt_posterior)\n",
    "    params = {}\n",
    "    for leaf in leaves:\n",
    "        name = leaf[0].get('name', '').strip()\n",
    "        if name == 'kxx_sensitivities':\n",
    "            params['learned_s'] = leaf[1]\n",
    "        elif name == 'kxx_degradations':\n",
    "            params['learned_d'] = leaf[1]\n",
    "        elif name == 'kxx_lengthscale':\n",
    "            params['learned_l'] = leaf[1]\n",
    "    \n",
    "    return params"
   ]
  },
  {
   "cell_type": "code",
   "execution_count": 43,
   "metadata": {},
   "outputs": [
    {
     "data": {
      "text/plain": [
       "{'learned_l': Array(0.72308435, dtype=float64),\n",
       " 'learned_d': Array([0.2011247 , 1.25441558, 0.2815935 , 0.76138895, 0.2508647 ],      dtype=float64),\n",
       " 'learned_s': Array([1.27655192, 1.52340735, 0.91220434, 0.79491096, 1.2233152 ],      dtype=float64)}"
      ]
     },
     "execution_count": 43,
     "metadata": {},
     "output_type": "execute_result"
    }
   ],
   "source": [
    "get_params(opt_posterior)"
   ]
  },
  {
   "cell_type": "code",
   "execution_count": null,
   "metadata": {},
   "outputs": [],
   "source": [
    "def transfer_params(opt_posterior):\n",
    "    # Use get params to get the learned parameters from kxx subkernel\n",
    "    # Transfer these to kff and kxf subkernels\n",
    "    pass"
   ]
  },
  {
   "cell_type": "code",
   "execution_count": 44,
   "metadata": {},
   "outputs": [
    {
     "data": {
      "text/plain": [
       "ConjugatePosterior(prior=Prior(kernel=p53_combined_kernel(compute_engine=DenseKernelComputation(), active_dims=None, name='p53 Cov', kernel_xx=p53_kxx(compute_engine=DenseKernelComputation(), active_dims=[0], name='k_xx', true_s=Array([1.27655192, 1.52340735, 0.91220434, 0.79491096, 1.2233152 ],      dtype=float64), true_d=Array([0.2011247 , 1.25441558, 0.2815935 , 0.76138895, 0.2508647 ],      dtype=float64), l=Array(0.72308435, dtype=float64)), kernel_xf=p53_kxf(compute_engine=DenseKernelComputation(), active_dims=[0], name='k_xf', true_s=Array([1., 1., 1., 1., 1.], dtype=float64), true_d=Array([1., 1., 1., 1., 1.], dtype=float64), l=Array(2.5, dtype=float64)), kernel_ff=p53_kff(compute_engine=DenseKernelComputation(), active_dims=[0], name='RBF', l=Array(2.5, dtype=float64), variance=Array(1., dtype=float64, weak_type=True))), mean_function=Zero(constant=Array([0.], dtype=float32)), jitter=1e-06), likelihood=Gaussian(num_datapoints=35, integrator=AnalyticalGaussianIntegrator(), obs_stddev=Array([0.03798884], dtype=float64)), jitter=1e-06)"
      ]
     },
     "execution_count": 44,
     "metadata": {},
     "output_type": "execute_result"
    }
   ],
   "source": [
    "opt_posterior"
   ]
  },
  {
   "cell_type": "code",
   "execution_count": 48,
   "metadata": {},
   "outputs": [
    {
     "data": {
      "text/plain": [
       "PyTreeDef(CustomNode(ConjugatePosterior[(['likelihood', 'prior'], [('jitter', 1e-06)])], [CustomNode(Gaussian[(['obs_stddev'], [('integrator', AnalyticalGaussianIntegrator()), ('num_datapoints', 35)])], [*]), CustomNode(Prior[(['kernel', 'mean_function'], [('jitter', 1e-06)])], [CustomNode(p53_combined_kernel[(['kernel_ff', 'kernel_xf', 'kernel_xx'], [('active_dims', None), ('compute_engine', DenseKernelComputation()), ('name', 'p53 Cov')])], [CustomNode(p53_kff[(['l'], [('active_dims', [0]), ('compute_engine', DenseKernelComputation()), ('name', 'RBF'), ('variance', Array(1., dtype=float64, weak_type=True))])], [*]), CustomNode(p53_kxf[(['l', 'true_d', 'true_s'], [('active_dims', [0]), ('compute_engine', DenseKernelComputation()), ('name', 'k_xf')])], [*, *, *]), CustomNode(p53_kxx[(['l', 'true_d', 'true_s'], [('active_dims', [0]), ('compute_engine', DenseKernelComputation()), ('name', 'k_xx')])], [*, *, *])]), CustomNode(Zero[([], [('constant', Array([0.], dtype=float32))])], [])])]))"
      ]
     },
     "execution_count": 48,
     "metadata": {},
     "output_type": "execute_result"
    }
   ],
   "source": [
    "jax.tree_util.tree_structure(opt_posterior)"
   ]
  },
  {
   "cell_type": "markdown",
   "metadata": {},
   "source": []
  },
  {
   "cell_type": "code",
   "execution_count": 62,
   "metadata": {},
   "outputs": [
    {
     "ename": "TypeError",
     "evalue": "unsupported operand type(s) for ==: 'ArrayImpl' and 'dict'",
     "output_type": "error",
     "traceback": [
      "\u001b[0;31m---------------------------------------------------------------------------\u001b[0m",
      "\u001b[0;31mTypeError\u001b[0m                                 Traceback (most recent call last)",
      "Cell \u001b[0;32mIn[62], line 5\u001b[0m\n\u001b[1;32m      3\u001b[0m \u001b[38;5;28;01massert\u001b[39;00m \u001b[38;5;28mlen\u001b[39m(flattened_params) \u001b[38;5;241m==\u001b[39m \u001b[38;5;28mlen\u001b[39m(leaves)\n\u001b[1;32m      4\u001b[0m \u001b[38;5;28;01mfor\u001b[39;00m i, (leaf, param) \u001b[38;5;129;01min\u001b[39;00m \u001b[38;5;28menumerate\u001b[39m(\u001b[38;5;28mzip\u001b[39m(leaves, flattened_params)):\n\u001b[0;32m----> 5\u001b[0m     \u001b[38;5;28;01massert\u001b[39;00m \u001b[43mleaf\u001b[49m\u001b[43m[\u001b[49m\u001b[38;5;241;43m0\u001b[39;49m\u001b[43m]\u001b[49m\u001b[43m \u001b[49m\u001b[38;5;241;43m==\u001b[39;49m\u001b[43m \u001b[49m\u001b[43mparam\u001b[49m\n",
      "File \u001b[0;32m/opt/anaconda3/envs/project_wp289/lib/python3.11/site-packages/jax/_src/numpy/array_methods.py:275\u001b[0m, in \u001b[0;36m_defer_to_unrecognized_arg.<locals>.deferring_binary_op\u001b[0;34m(self, other)\u001b[0m\n\u001b[1;32m    272\u001b[0m \u001b[38;5;66;03m# Note: don't use isinstance here, because we don't want to raise for\u001b[39;00m\n\u001b[1;32m    273\u001b[0m \u001b[38;5;66;03m# subclasses, e.g. NamedTuple objects that may override operators.\u001b[39;00m\n\u001b[1;32m    274\u001b[0m \u001b[38;5;28;01mif\u001b[39;00m \u001b[38;5;28mtype\u001b[39m(other) \u001b[38;5;129;01min\u001b[39;00m _rejected_binop_types:\n\u001b[0;32m--> 275\u001b[0m   \u001b[38;5;28;01mraise\u001b[39;00m \u001b[38;5;167;01mTypeError\u001b[39;00m(\u001b[38;5;124mf\u001b[39m\u001b[38;5;124m\"\u001b[39m\u001b[38;5;124munsupported operand type(s) for \u001b[39m\u001b[38;5;132;01m{\u001b[39;00mopchar\u001b[38;5;132;01m}\u001b[39;00m\u001b[38;5;124m: \u001b[39m\u001b[38;5;124m\"\u001b[39m\n\u001b[1;32m    276\u001b[0m                   \u001b[38;5;124mf\u001b[39m\u001b[38;5;124m\"\u001b[39m\u001b[38;5;132;01m{\u001b[39;00m\u001b[38;5;28mtype\u001b[39m(args[\u001b[38;5;241m0\u001b[39m])\u001b[38;5;241m.\u001b[39m\u001b[38;5;18m__name__\u001b[39m\u001b[38;5;132;01m!r}\u001b[39;00m\u001b[38;5;124m and \u001b[39m\u001b[38;5;132;01m{\u001b[39;00m\u001b[38;5;28mtype\u001b[39m(args[\u001b[38;5;241m1\u001b[39m])\u001b[38;5;241m.\u001b[39m\u001b[38;5;18m__name__\u001b[39m\u001b[38;5;132;01m!r}\u001b[39;00m\u001b[38;5;124m\"\u001b[39m)\n\u001b[1;32m    277\u001b[0m \u001b[38;5;28;01mreturn\u001b[39;00m \u001b[38;5;28mNotImplemented\u001b[39m\n",
      "\u001b[0;31mTypeError\u001b[0m: unsupported operand type(s) for ==: 'ArrayImpl' and 'dict'"
     ]
    }
   ],
   "source": [
    "# Index based off dictionary\n",
    "flattened_params = jax.tree_util.tree_flatten(opt_posterior)[0]\n",
    "assert len(flattened_params) == len(leaves)\n",
    "for i, (leaf, param) in enumerate(zip(leaves, flattened_params)):\n",
    "    assert leaf[0] == param"
   ]
  },
  {
   "cell_type": "code",
   "execution_count": 61,
   "metadata": {},
   "outputs": [
    {
     "data": {
      "text/plain": [
       "[Array([0.03798884], dtype=float64),\n",
       " Array(2.5, dtype=float64),\n",
       " Array(2.5, dtype=float64),\n",
       " Array([1., 1., 1., 1., 1.], dtype=float64),\n",
       " Array([1., 1., 1., 1., 1.], dtype=float64),\n",
       " Array(0.72308435, dtype=float64),\n",
       " Array([0.2011247 , 1.25441558, 0.2815935 , 0.76138895, 0.2508647 ],      dtype=float64),\n",
       " Array([1.27655192, 1.52340735, 0.91220434, 0.79491096, 1.2233152 ],      dtype=float64)]"
      ]
     },
     "execution_count": 61,
     "metadata": {},
     "output_type": "execute_result"
    }
   ],
   "source": [
    "opt_posterior_params = jax.tree_util.tree_flatten(opt_posterior)[0]\n",
    "opt_posterior_params"
   ]
  },
  {
   "cell_type": "code",
   "execution_count": null,
   "metadata": {},
   "outputs": [],
   "source": []
  },
  {
   "cell_type": "code",
   "execution_count": 57,
   "metadata": {},
   "outputs": [
    {
     "data": {
      "text/plain": [
       "Array([0.03798884, 2.5       , 2.5       , 1.        , 1.        ,\n",
       "       1.        , 1.        , 1.        , 1.        , 1.        ,\n",
       "       1.        , 1.        , 1.        , 0.72308435, 0.2011247 ,\n",
       "       1.25441558, 0.2815935 , 0.76138895, 0.2508647 , 1.27655192,\n",
       "       1.52340735, 0.91220434, 0.79491096, 1.2233152 ], dtype=float64)"
      ]
     },
     "execution_count": 57,
     "metadata": {},
     "output_type": "execute_result"
    }
   ],
   "source": [
    "jax.flatten_util.ravel_pytree(opt_posterior)[0]"
   ]
  }
 ],
 "metadata": {
  "kernelspec": {
   "display_name": "project_wp289",
   "language": "python",
   "name": "python3"
  },
  "language_info": {
   "codemirror_mode": {
    "name": "ipython",
    "version": 3
   },
   "file_extension": ".py",
   "mimetype": "text/x-python",
   "name": "python",
   "nbconvert_exporter": "python",
   "pygments_lexer": "ipython3",
   "version": "3.11.7"
  }
 },
 "nbformat": 4,
 "nbformat_minor": 2
}
