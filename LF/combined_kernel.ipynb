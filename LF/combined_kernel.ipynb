{
 "cells": [
  {
   "cell_type": "markdown",
   "metadata": {},
   "source": [
    "# Combined kernel with kxx, kxf, kff as methods"
   ]
  },
  {
   "cell_type": "code",
   "execution_count": 1,
   "metadata": {},
   "outputs": [
    {
     "name": "stderr",
     "output_type": "stream",
     "text": [
      "/opt/anaconda3/envs/gpjax_wp289/lib/python3.10/site-packages/tqdm/auto.py:21: TqdmWarning: IProgress not found. Please update jupyter and ipywidgets. See https://ipywidgets.readthedocs.io/en/stable/user_install.html\n",
      "  from .autonotebook import tqdm as notebook_tqdm\n",
      "/opt/anaconda3/envs/gpjax_wp289/lib/python3.10/site-packages/cola/backends/backends.py:75: UserWarning: torch.utils._pytree._register_pytree_node is deprecated. Please use torch.utils._pytree.register_pytree_node instead.\n",
      "  torch.utils._pytree._register_pytree_node(cls, tree_flatten, tree_unflatten)\n"
     ]
    }
   ],
   "source": [
    "import numpy as np\n",
    "import gpjax as gpx\n",
    "import os\n",
    "import jax\n",
    "import matplotlib.pyplot as plt\n",
    "import jax.random as jr\n",
    "\n",
    "from dataclasses import dataclass, field\n",
    "\n",
    "from beartype.typing import Union\n",
    "import jax.numpy as jnp\n",
    "from jaxtyping import Float\n",
    "import tensorflow_probability.substrates.jax.bijectors as tfb\n",
    "import tensorflow_probability.substrates.jax.distributions as tfd\n",
    "\n",
    "from gpjax.base import param_field, static_field\n",
    "from gpjax.kernels.base import AbstractKernel\n",
    "from gpjax.kernels.stationary.utils import squared_distance\n",
    "from gpjax.typing import (\n",
    "    Array,\n",
    "    ScalarFloat,\n",
    ")\n",
    "\n",
    "from beartype.typing import Callable\n",
    "from jaxtyping import Int\n",
    "\n",
    "from p53_data import JAXP53_Data, dataset_3d, generate_test_times\n",
    "jax.config.update('jax_enable_x64', True)\n",
    "\n",
    "from matplotlib import rcParams\n",
    "\n",
    "plt.style.use(\"https://raw.githubusercontent.com/JaxGaussianProcesses/GPJax/main/docs/examples/gpjax.mplstyle\")\n",
    "\n",
    "# Check if LaTeX is in notebook path\n",
    "if os.environ.get('PATH') is not None:\n",
    "    if 'TeX' not in os.environ['PATH']:\n",
    "        os.environ['PATH'] += os.pathsep + '/Library/TeX/texbin'\n",
    "\n",
    "colors = rcParams[\"axes.prop_cycle\"].by_key()[\"color\"]\n",
    "\n",
    "import tensorflow_probability.substrates.jax.bijectors as tfb\n",
    "\n",
    "key = jr.PRNGKey(42)"
   ]
  },
  {
   "cell_type": "code",
   "execution_count": 2,
   "metadata": {},
   "outputs": [],
   "source": [
    "p53_data = JAXP53_Data(replicate=0)\n",
    "training_times, gene_expressions, variances = dataset_3d(p53_data)"
   ]
  },
  {
   "cell_type": "markdown",
   "metadata": {},
   "source": [
    "### Combined kernel"
   ]
  },
  {
   "cell_type": "code",
   "execution_count": 3,
   "metadata": {},
   "outputs": [],
   "source": [
    "@dataclass\n",
    "class latent_kernel(gpx.kernels.AbstractKernel):\n",
    "    r\"Combined covariance for learning the latent replication of p53\"\n",
    "\n",
    "    name: str = \"p53 Cov\"\n",
    "\n",
    "    # Define parameters\n",
    "    # BUG: crashes when using unconstrained parameters\n",
    "\n",
    "    # Sensitivities of the genes\n",
    "    initial_sensitivities = jnp.array([1.0, 1.0, 1.0, 1.0, 1.0], dtype=jnp.float64)\n",
    "    #initial_unconstrained_s = tfb.Softplus().inverse(initial_constrained_s)\n",
    "\n",
    "    true_s: Float[Array, \"1 5\"] = param_field(\n",
    "        initial_sensitivities,\n",
    "        bijector=tfb.Softplus(),\n",
    "        metadata={\"name\": \" kxx_sensitivities\"},\n",
    "        trainable=True,\n",
    "    )\n",
    "\n",
    "    # Degradation rates of the genes\n",
    "    initial_decays = jnp.array([0.4, 0.4, 0.4, 0.4, 0.4], dtype=jnp.float64)\n",
    "    #initial_unconstrained_d = tfb.Softplus().inverse(initial_constrained_d)\n",
    "\n",
    "    true_d: Float[Array, \"1 5\"] = param_field(\n",
    "        initial_decays,\n",
    "        bijector=tfb.Softplus(),\n",
    "        metadata={\"name\": \" kxx_degradations\"},\n",
    "        trainable=True,\n",
    "    )\n",
    "\n",
    "    # Sigmoid to map real numbers to (0,1) and then scales and shifts to get(0.5, 3.5) # NOTE: tfb.Chain acts Right to Left\n",
    "    l_bijector = tfb.Chain(\n",
    "        [\n",
    "            tfb.Shift(jnp.array(0.5, dtype=jnp.float64)),\n",
    "            tfb.Scale(jnp.array(3.0, dtype=jnp.float64)),\n",
    "            tfb.Sigmoid(),\n",
    "        ]\n",
    "    )\n",
    "\n",
    "    initial_lengthscale = jnp.array(2.5, dtype=jnp.float64)\n",
    "    #initial_unconstrained_l = l_bijector.inverse(initial_lengthscale)\n",
    "\n",
    "    l: Float[Array, \" O\"] = param_field(\n",
    "        initial_lengthscale, bijector=l_bijector, metadata={\"name\": \"lengthscale\"}\n",
    "    )\n",
    "\n",
    "    # Redefine parameters as static fields\n",
    "    #true_s: Float[Array, \"1 5\"] = static_field(jnp.array([1.0,1.0,1.0,1.0,1.0]))\n",
    "    #true_d: Float[Array, \"1 5\"] = static_field(jnp.array([0.4,0.4,0.4,0.4,0.4]))\n",
    "    #l: Float[Array, \" O\"] = static_field(jnp.array(2.5))\n",
    "\n",
    "    def __call__(self, t: Float[Array, \"1 3\"], t_prime: Float[Array, \"1 3\"]) -> ScalarFloat:\n",
    "        \n",
    "        # Get flag from input (1 = gene expression, 0 = latent force function)\n",
    "        f1 = jnp.array(t[2], dtype=int)\n",
    "        f2 = jnp.array(t_prime[2], dtype=int)\n",
    "\n",
    "        # Cannot use if statements in kernels -> use switches\n",
    "        kxx_switch = f1 * f2\n",
    "        kff_switch = (1 - f1) * (1 - f2)\n",
    "        kxf_switch = f1 * (1 - f2)\n",
    "        kxf_t_switch = (1 - f1) * f2\n",
    "\n",
    "        final_kernel = (\n",
    "            kxx_switch * self.kernel_xx(t, t_prime)\n",
    "            + kff_switch * self.kernel_ff(t, t_prime)\n",
    "            + kxf_switch * self.kernel_xf(t, t_prime)\n",
    "            + kxf_t_switch * self.kernel_xf(t_prime, t)\n",
    "        )\n",
    "\n",
    "        return final_kernel\n",
    "\n",
    "    def kernel_xx(\n",
    "        self, t: Float[Array, \"1 3\"], t_prime: Float[Array, \"1 3\"]\n",
    "    ) -> ScalarFloat:\n",
    "        \"\"\"\n",
    "        Equation 5 in paper k_xx(t,t')\n",
    "        \n",
    "        print('Input to kxx')\n",
    "        print(f\"t: {t}\")\n",
    "        print(f\"t_prime: {t_prime}\")\n",
    "        \"\"\"\n",
    "\n",
    "        # Error trap (JAX friendly)\n",
    "        def check_validity(condition):\n",
    "            if condition:\n",
    "                # raise ValueError(\"t or t' cannot be testing points (z=0)\")\n",
    "                return 0\n",
    "\n",
    "        condition = jnp.logical_or(t[2] == 0, t_prime[2] == 0)\n",
    "        jax.debug.callback(check_validity, condition)\n",
    "\n",
    "        # Get gene indices\n",
    "        j = t[1].astype(int)\n",
    "        k = t_prime[1].astype(int)\n",
    "\n",
    "        t = t[0]\n",
    "        t_prime = t_prime[0]\n",
    "\n",
    "        # Equation 5\n",
    "        mult = self.true_s[j] * self.true_s[k] * self.l * jnp.sqrt(jnp.pi) * 0.5\n",
    "        second_term = self.h(k, j, t_prime, t) + self.h(j, k, t, t_prime)\n",
    "\n",
    "        kxx = mult * second_term\n",
    "        \n",
    "        return kxx.squeeze()\n",
    "\n",
    "    def kernel_xf(\n",
    "        self, t: Float[Array, \"1 3\"], t_prime: Float[Array, \"1 3\"]\n",
    "    ) -> ScalarFloat:\n",
    "        # Get gene expression and latent force from flag (kxf anf kfx are transposes)\n",
    "        gene_xpr = jnp.where(t[2] == 0, t_prime, t)\n",
    "        latent_force = jnp.where(t[2] == 0, t, t_prime)\n",
    "\n",
    "        j = gene_xpr[1].astype(int)\n",
    "\n",
    "        # Slice inputs\n",
    "        gene_xpr = gene_xpr[0]\n",
    "        latent_force = latent_force[0]\n",
    "\n",
    "        t_dist = jnp.abs(gene_xpr - latent_force)\n",
    "\n",
    "        first_term = 0.5 * self.l * jnp.sqrt(jnp.pi) * self.true_s[j]\n",
    "        first_expon_term = jnp.exp(self.gamma(j) ** 2)\n",
    "        second_expon_term = jnp.exp(-self.true_d[j] * t_dist)\n",
    "        erf_terms = jax.scipy.special.erf(\n",
    "            (t_dist / self.l) - self.gamma(j)\n",
    "        ) + jax.scipy.special.erf(latent_force / self.l + self.gamma(j))\n",
    "\n",
    "        kxf = first_term * first_expon_term * second_expon_term * erf_terms\n",
    "        return kxf.squeeze()\n",
    "\n",
    "    def kernel_ff(\n",
    "        self, t: Float[Array, \"1 3\"], t_prime: Float[Array, \"1 3\"]\n",
    "    ) -> ScalarFloat:\n",
    "\n",
    "        t = t[0] / self.l\n",
    "        t_prime = t_prime[0] / self.l\n",
    "\n",
    "        K = jnp.exp(-0.5 * squared_distance(t, t_prime))\n",
    "\n",
    "        return K.squeeze()\n",
    "\n",
    "    # Helper functions\n",
    "    def h(\n",
    "        self,\n",
    "        j: Int[Array, \" O\"],\n",
    "        k: Int[Array, \" O\"],\n",
    "        t1: Float[Array, \" O\"],\n",
    "        t2: Float[Array, \" O\"],\n",
    "    ) -> ScalarFloat:\n",
    "        \"\"\"\n",
    "        Analytical solution for the convolution of the exponential kernel with a step function.\n",
    "        \"\"\"\n",
    "\n",
    "        # Debug print\n",
    "        \"\"\"\n",
    "        print(f\"j: {j}\")\n",
    "        print(f\"k: {k}\")\n",
    "        print(f\"t1: {t1}\")\n",
    "        print(f\"t2: {t2}\")\n",
    "        \"\"\"\n",
    "        t_dist = t2 - t1\n",
    "\n",
    "        multiplier = jnp.exp(self.gamma(k) ** 2) / (self.true_d[j] + self.true_d[k])\n",
    "\n",
    "        first_multiplier = jnp.exp(-self.true_d[k] * t_dist)\n",
    "        first_erf_terms = jax.scipy.special.erf(\n",
    "            (t_dist / self.l) - self.gamma(k)\n",
    "        ) + jax.scipy.special.erf(t1 / self.l + self.gamma(k))\n",
    "\n",
    "        second_multiplier = jnp.exp(-(self.true_d[k] * t2 + self.true_d[j] * t1))\n",
    "        second_erf_terms = jax.scipy.special.erf(\n",
    "            (t2 / self.l) - self.gamma(k)\n",
    "        ) + jax.scipy.special.erf(self.gamma(k))\n",
    "\n",
    "        result = multiplier * (\n",
    "            jnp.multiply(first_multiplier, first_erf_terms)\n",
    "            - jnp.multiply(second_multiplier, second_erf_terms)\n",
    "        )\n",
    "\n",
    "        #print(f\"result: {result}\")\n",
    "        return result\n",
    "\n",
    "    def gamma(self, k: Int[Array, \" O\"]) -> ScalarFloat:\n",
    "        # Gamma term for h function\n",
    "        return (self.true_d[k] * self.l) / 2\n"
   ]
  },
  {
   "cell_type": "markdown",
   "metadata": {},
   "source": [
    "### Custom mean function\n",
    "\n",
    "The mean function for the gene expressions per time is used to obtain the basal rates:\n",
    "\n",
    "$$\n",
    "f(x_{j}) = \\frac{B_{j}}{D_{j}} \n",
    "$$"
   ]
  },
  {
   "cell_type": "code",
   "execution_count": 4,
   "metadata": {},
   "outputs": [],
   "source": [
    "# Define custom mean\n",
    "@dataclass\n",
    "class latent_mean(gpx.mean_functions.AbstractMeanFunction):\n",
    "    r\"\"\"\n",
    "    Simple Input Motif mean function\n",
    "\n",
    "    ```math\n",
    "        f(x_{j}) = \\frac{B_{j}}{D_{j}} \n",
    "    ```\n",
    "\n",
    "    From equation 2 in paper.\n",
    "\n",
    "    $B_{j}$ represents the basal rate for gene $j$ and is a trainable paramater.\n",
    "    \"\"\"\n",
    "\n",
    "    # Pass kernel instance that contains true_d parameter\n",
    "    kernel: gpx.kernels.AbstractKernel = field(default_factory=lambda: latent_kernel())\n",
    "    \n",
    "    #true_d: Float[Array, \"1 5\"] = static_field(jnp.array([0.05, 0.05, 0.05, 0.05, 0.05], dtype=jnp.float64))\n",
    "    \n",
    "    # Define parameters\n",
    "    initial_constrained_b = jnp.array([0.05, 0.05, 0.05, 0.05, 0.05], dtype=jnp.float64)\n",
    "    \n",
    "    true_b: Float[Array, \"1 5\"] = param_field(initial_constrained_b, bijector=tfb.Softplus(), metadata={\"name\": \" basal_rates\"}, trainable=True,)\n",
    "\n",
    "    def __call__(self, x: Float[Array, \"N D\"]) -> Float[Array, \"N O\"]:\n",
    "        r\"\"\"Evaluate the mean function at the given points.\n",
    "\n",
    "        Args:\n",
    "            x (Float[Array, \" D\"]): The point at which to evaluate the mean function.\n",
    "\n",
    "        Returns\n",
    "        -------\n",
    "            Float[Array, \"1\"]: The evaluated mean function.\n",
    "        \"\"\"\n",
    "        # BUG: Concretization error if this is used ?\n",
    "        #num_genes = len(jnp.unique(x[:, 1]))\n",
    "        num_genes = 5\n",
    "\n",
    "        decays = self.kernel.true_d\n",
    "        \n",
    "        block_size = (x.shape[0] // num_genes)\n",
    "        # Define the mean function\n",
    "        #mean = (self.true_b / self.true_d).reshape(1, -1)\n",
    "        mean = (self.true_b / decays).reshape(1, -1)\n",
    "        mean = mean.repeat(block_size, jnp.newaxis).reshape(-1,1)\n",
    "\n",
    "        return mean"
   ]
  },
  {
   "cell_type": "markdown",
   "metadata": {},
   "source": [
    "## GP regression"
   ]
  },
  {
   "cell_type": "code",
   "execution_count": 5,
   "metadata": {},
   "outputs": [],
   "source": [
    "dataset_train = gpx.Dataset(training_times, gene_expressions)\n",
    "\n",
    "testing_times = generate_test_times()"
   ]
  },
  {
   "cell_type": "code",
   "execution_count": 6,
   "metadata": {},
   "outputs": [],
   "source": [
    "def initialise_gp(kernel, mean, dataset):\n",
    "    prior = gpx.gps.Prior(mean_function=mean, kernel=kernel)\n",
    "    likelihood = gpx.likelihoods.Gaussian(\n",
    "        num_datapoints=dataset.n, obs_stddev=jnp.array([1.0e-3], dtype=jnp.float64)\n",
    "    )\n",
    "    posterior = prior * likelihood\n",
    "    return posterior\n",
    "\n",
    "#meanf = gpx.mean_functions.Zero()\n",
    "meanf = latent_mean()\n",
    "p53_ker = latent_kernel()\n",
    "\n",
    "posterior = initialise_gp(p53_ker, meanf, dataset_train)"
   ]
  },
  {
   "cell_type": "code",
   "execution_count": null,
   "metadata": {},
   "outputs": [],
   "source": [
    "#p53_ker.kernel_xx(training_times, training_times)"
   ]
  },
  {
   "cell_type": "code",
   "execution_count": 7,
   "metadata": {},
   "outputs": [],
   "source": [
    "def optimise_mll(posterior, dataset, NIters=1000, key=key):\n",
    "    # define the MLL using dataset_train\n",
    "    objective = gpx.objectives.ConjugateMLL(negative=True)\n",
    "    print(f'MLL before opt: {objective(posterior, dataset):.3f}')\n",
    "    # Optimise to minimise the MLL\n",
    "    opt_posterior, history = gpx.fit_scipy(\n",
    "        model=posterior,\n",
    "        objective=objective,\n",
    "        train_data=dataset,\n",
    "    )\n",
    "    return opt_posterior, history"
   ]
  },
  {
   "cell_type": "code",
   "execution_count": 8,
   "metadata": {},
   "outputs": [],
   "source": [
    "import optax as ox\n",
    "#jax.config.update(\"jax_debug_nans\", True)\n",
    "\n",
    "def optimise_mll2(posterior, dataset, NIters=1000, key=key):\n",
    "    # define the MLL using dataset_train\n",
    "    objective = gpx.objectives.ConjugateMLL(negative=True)\n",
    "    print(f'MLL before opt: {objective(posterior, dataset):.3f}')\n",
    "    # Optimise to minimise the MLL\n",
    "    opt_posterior, history = gpx.fit(\n",
    "        model=posterior,\n",
    "        objective=objective,\n",
    "        train_data=dataset, \n",
    "        optim=ox.adam(1e-1), \n",
    "        num_iters=NIters,\n",
    "        key=key,\n",
    "        safe=False)\n",
    "    return opt_posterior, history"
   ]
  },
  {
   "cell_type": "code",
   "execution_count": 9,
   "metadata": {},
   "outputs": [
    {
     "name": "stderr",
     "output_type": "stream",
     "text": [
      "/opt/anaconda3/envs/gpjax_wp289/lib/python3.10/site-packages/cola/backends/backends.py:75: UserWarning: torch.utils._pytree._register_pytree_node is deprecated. Please use torch.utils._pytree.register_pytree_node instead.\n",
      "  torch.utils._pytree._register_pytree_node(cls, tree_flatten, tree_unflatten)\n",
      "/opt/anaconda3/envs/gpjax_wp289/lib/python3.10/site-packages/cola/backends/backends.py:75: UserWarning: torch.utils._pytree._register_pytree_node is deprecated. Please use torch.utils._pytree.register_pytree_node instead.\n",
      "  torch.utils._pytree._register_pytree_node(cls, tree_flatten, tree_unflatten)\n"
     ]
    },
    {
     "name": "stdout",
     "output_type": "stream",
     "text": [
      "MLL before opt: 1740886.393\n"
     ]
    },
    {
     "name": "stderr",
     "output_type": "stream",
     "text": [
      "Running: 100%|██████████| 1000/1000 [01:06<00:00, 14.93it/s, Value=276.49]  \n"
     ]
    }
   ],
   "source": [
    "opt_posterior, history = optimise_mll2(posterior, dataset_train)"
   ]
  },
  {
   "cell_type": "code",
   "execution_count": null,
   "metadata": {},
   "outputs": [],
   "source": [
    "# Plot history of MLL\n",
    "plt.plot(history)\n",
    "plt.xlabel(\"Iteration\")\n",
    "plt.ylabel(\"MLL\")\n",
    "plt.show()"
   ]
  },
  {
   "cell_type": "code",
   "execution_count": 10,
   "metadata": {},
   "outputs": [],
   "source": [
    "def plot_gp(x_test, predictive_dist):\n",
    "    \"\"\"\n",
    "    Plot LF GP given test points and prediction\n",
    "\n",
    "    Parameters\n",
    "    ----------\n",
    "    x_test: array of shape (n, 3)\n",
    "    predictive_dist:  jax mvn\n",
    "    \"\"\"\n",
    "\n",
    "    predictive_mean = predictive_dist.mean()\n",
    "    predictive_std = predictive_dist.variance()\n",
    "\n",
    "    # (100,)\n",
    "    x_test = x_test[:,0]\n",
    "\n",
    "    import matplotlib as mpl\n",
    "    cols = mpl.rcParams[\"axes.prop_cycle\"].by_key()[\"color\"]\n",
    "    fig, ax = plt.subplots(figsize=(7.5, 2.5))\n",
    "\n",
    "    ax.fill_between(\n",
    "        x_test.squeeze(),\n",
    "        predictive_mean - 2 * predictive_std,\n",
    "        predictive_mean + 2 * predictive_std,\n",
    "        alpha=0.2,\n",
    "        label=\"Two sigma\",\n",
    "        color=cols[1],\n",
    "    )\n",
    "    ax.plot(\n",
    "        x_test,\n",
    "        predictive_mean - 2 * predictive_std,\n",
    "        linestyle=\"--\",\n",
    "        linewidth=1,\n",
    "        color=cols[1],\n",
    "    )\n",
    "    ax.plot(\n",
    "        x_test,\n",
    "        predictive_mean + 2 * predictive_std,\n",
    "        linestyle=\"--\",\n",
    "        linewidth=1,\n",
    "        color=cols[1],\n",
    "    )\n",
    "    \n",
    "    ax.plot(x_test, predictive_mean, label=\"Predictive mean\", color=cols[1])\n",
    "    ax.legend(loc=\"center left\", bbox_to_anchor=(0.975, 0.5))\n",
    "    ax.set_xlabel(\"Time\")\n",
    "    ax.set_ylabel(\"mRNA Expression\")"
   ]
  },
  {
   "cell_type": "code",
   "execution_count": 11,
   "metadata": {},
   "outputs": [
    {
     "name": "stderr",
     "output_type": "stream",
     "text": [
      "/opt/anaconda3/envs/gpjax_wp289/lib/python3.10/site-packages/cola/backends/backends.py:75: UserWarning: torch.utils._pytree._register_pytree_node is deprecated. Please use torch.utils._pytree.register_pytree_node instead.\n",
      "  torch.utils._pytree._register_pytree_node(cls, tree_flatten, tree_unflatten)\n"
     ]
    }
   ],
   "source": [
    "latent_dist = opt_posterior.predict(testing_times, train_data=dataset_train)"
   ]
  },
  {
   "cell_type": "code",
   "execution_count": 15,
   "metadata": {},
   "outputs": [
    {
     "name": "stderr",
     "output_type": "stream",
     "text": [
      "/opt/anaconda3/envs/gpjax_wp289/lib/python3.10/site-packages/cola/backends/backends.py:75: UserWarning: torch.utils._pytree._register_pytree_node is deprecated. Please use torch.utils._pytree.register_pytree_node instead.\n",
      "  torch.utils._pytree._register_pytree_node(cls, tree_flatten, tree_unflatten)\n"
     ]
    },
    {
     "data": {
      "text/plain": [
       "Array([0.71728409,        nan,        nan,        nan,        nan,\n",
       "              nan,        nan,        nan,        nan,        nan,\n",
       "              nan,        nan,        nan,        nan,        nan,\n",
       "              nan,        nan,        nan,        nan,        nan,\n",
       "              nan,        nan,        nan,        nan,        nan,\n",
       "              nan,        nan,        nan,        nan,        nan,\n",
       "              nan,        nan,        nan,        nan,        nan,\n",
       "              nan,        nan,        nan,        nan,        nan,\n",
       "              nan,        nan,        nan,        nan,        nan,\n",
       "              nan,        nan,        nan,        nan,        nan,\n",
       "              nan,        nan,        nan,        nan,        nan,\n",
       "              nan,        nan,        nan,        nan,        nan,\n",
       "              nan,        nan,        nan,        nan,        nan,\n",
       "              nan,        nan,        nan,        nan,        nan,\n",
       "              nan,        nan,        nan,        nan,        nan,\n",
       "              nan,        nan,        nan,        nan,        nan],      dtype=float64)"
      ]
     },
     "execution_count": 15,
     "metadata": {},
     "output_type": "execute_result"
    }
   ],
   "source": [
    "latent_dist.stddev()"
   ]
  },
  {
   "cell_type": "code",
   "execution_count": 12,
   "metadata": {},
   "outputs": [],
   "source": [
    "predictive_dist = opt_posterior.likelihood(latent_dist)"
   ]
  },
  {
   "cell_type": "code",
   "execution_count": 13,
   "metadata": {},
   "outputs": [
    {
     "data": {
      "text/plain": [
       "Array([nan, nan, nan, nan, nan, nan, nan, nan, nan, nan, nan, nan, nan,\n",
       "       nan, nan, nan, nan, nan, nan, nan, nan, nan, nan, nan, nan, nan,\n",
       "       nan, nan, nan, nan, nan, nan, nan, nan, nan, nan, nan, nan, nan,\n",
       "       nan, nan, nan, nan, nan, nan, nan, nan, nan, nan, nan, nan, nan,\n",
       "       nan, nan, nan, nan, nan, nan, nan, nan, nan, nan, nan, nan, nan,\n",
       "       nan, nan, nan, nan, nan, nan, nan, nan, nan, nan, nan, nan, nan,\n",
       "       nan, nan], dtype=float64)"
      ]
     },
     "execution_count": 13,
     "metadata": {},
     "output_type": "execute_result"
    }
   ],
   "source": [
    "predictive_dist.stddev()"
   ]
  },
  {
   "cell_type": "code",
   "execution_count": 14,
   "metadata": {},
   "outputs": [
    {
     "data": {
      "image/png": "[encoded data removed]",
      "text/plain": [
       "<Figure size 900x300 with 1 Axes>"
      ]
     },
     "metadata": {},
     "output_type": "display_data"
    }
   ],
   "source": [
    "plot_gp(testing_times, predictive_dist)"
   ]
  },
  {
   "cell_type": "code",
   "execution_count": 16,
   "metadata": {},
   "outputs": [
    {
     "name": "stdout",
     "output_type": "stream",
     "text": [
      "8\n"
     ]
    },
    {
     "data": {
      "text/plain": [
       "[({'bijector': <tfp.bijectors.Softplus 'softplus' batch_shape=[] forward_min_event_ndims=0 inverse_min_event_ndims=0 dtype_x=? dtype_y=?>,\n",
       "   'trainable': True,\n",
       "   'pytree_node': True},\n",
       "  Array([0.03599095], dtype=float64)),\n",
       " ({'name': 'lengthscale',\n",
       "   'bijector': <tfp.bijectors.Chain 'chain_of_shift_of_scale_of_sigmoid' batch_shape=[] forward_min_event_ndims=0 inverse_min_event_ndims=0 dtype_x=float64 dtype_y=float64 bijectors=[<tfp.bijectors.Shift 'shift' batch_shape=[] forward_min_event_ndims=0 inverse_min_event_ndims=0 dtype_x=float64 dtype_y=float64>, <tfp.bijectors.Scale 'scale' batch_shape=[] forward_min_event_ndims=0 inverse_min_event_ndims=0 dtype_x=float64 dtype_y=float64>, <tfp.bijectors.Sigmoid 'sigmoid' batch_shape=[] forward_min_event_ndims=0 inverse_min_event_ndims=0 dtype_x=? dtype_y=?>]>,\n",
       "   'trainable': True,\n",
       "   'pytree_node': True},\n",
       "  Array(0.74079216, dtype=float64)),\n",
       " ({'name': ' kxx_degradations',\n",
       "   'bijector': <tfp.bijectors.Softplus 'softplus' batch_shape=[] forward_min_event_ndims=0 inverse_min_event_ndims=0 dtype_x=? dtype_y=?>,\n",
       "   'trainable': True,\n",
       "   'pytree_node': True},\n",
       "  Array([0.18866351, 0.21973712, 0.19360095, 0.87383398, 0.20278081],      dtype=float64)),\n",
       " ({'name': ' kxx_sensitivities',\n",
       "   'bijector': <tfp.bijectors.Softplus 'softplus' batch_shape=[] forward_min_event_ndims=0 inverse_min_event_ndims=0 dtype_x=? dtype_y=?>,\n",
       "   'trainable': True,\n",
       "   'pytree_node': True},\n",
       "  Array([1.36255   , 1.30710909, 1.33513753, 0.90555277, 1.35073238],      dtype=float64)),\n",
       " ({'name': 'lengthscale',\n",
       "   'bijector': <tfp.bijectors.Chain 'chain_of_shift_of_scale_of_sigmoid' batch_shape=[] forward_min_event_ndims=0 inverse_min_event_ndims=0 dtype_x=float64 dtype_y=float64 bijectors=[<tfp.bijectors.Shift 'shift' batch_shape=[] forward_min_event_ndims=0 inverse_min_event_ndims=0 dtype_x=float64 dtype_y=float64>, <tfp.bijectors.Scale 'scale' batch_shape=[] forward_min_event_ndims=0 inverse_min_event_ndims=0 dtype_x=float64 dtype_y=float64>, <tfp.bijectors.Sigmoid 'sigmoid' batch_shape=[] forward_min_event_ndims=0 inverse_min_event_ndims=0 dtype_x=? dtype_y=?>]>,\n",
       "   'trainable': True,\n",
       "   'pytree_node': True},\n",
       "  Array(2.5, dtype=float64)),\n",
       " ({'name': ' kxx_degradations',\n",
       "   'bijector': <tfp.bijectors.Softplus 'softplus' batch_shape=[] forward_min_event_ndims=0 inverse_min_event_ndims=0 dtype_x=? dtype_y=?>,\n",
       "   'trainable': True,\n",
       "   'pytree_node': True},\n",
       "  Array([0.25727846, 0.91525342, 0.66947369, 0.69711047, 0.31973618],      dtype=float64)),\n",
       " ({'name': ' kxx_sensitivities',\n",
       "   'bijector': <tfp.bijectors.Softplus 'softplus' batch_shape=[] forward_min_event_ndims=0 inverse_min_event_ndims=0 dtype_x=? dtype_y=?>,\n",
       "   'trainable': True,\n",
       "   'pytree_node': True},\n",
       "  Array([1., 1., 1., 1., 1.], dtype=float64)),\n",
       " ({'name': ' basal_rates',\n",
       "   'bijector': <tfp.bijectors.Softplus 'softplus' batch_shape=[] forward_min_event_ndims=0 inverse_min_event_ndims=0 dtype_x=? dtype_y=?>,\n",
       "   'trainable': True,\n",
       "   'pytree_node': True},\n",
       "  Array([0.0846723 , 0.01588075, 0.02545813, 0.02506366, 0.06651034],      dtype=float64))]"
      ]
     },
     "execution_count": 16,
     "metadata": {},
     "output_type": "execute_result"
    }
   ],
   "source": [
    "from gpjax.base import meta_leaves\n",
    "\n",
    "leaves = meta_leaves(opt_posterior)\n",
    "print(len(leaves))\n",
    "leaves"
   ]
  },
  {
   "cell_type": "markdown",
   "metadata": {},
   "source": [
    "## Debugging NaNs"
   ]
  },
  {
   "cell_type": "code",
   "execution_count": 17,
   "metadata": {},
   "outputs": [],
   "source": [
    "def generate_test_times(t=100):\n",
    "    \"\"\"\n",
    "    Generate testing times for the GP model to predict the latent force function.\n",
    "\n",
    "    Parameters\n",
    "    ----------\n",
    "    t : int, optional\n",
    "        Number of testing times. Default is 80.\n",
    "\n",
    "    Returns\n",
    "    -------\n",
    "    testing_times : jnp.ndarray\n",
    "        Array of testing times of shape (t, 3) where t is the number of testing times.\n",
    "    \"\"\"\n",
    "\n",
    "    times = jnp.linspace(0, 13, t)\n",
    "    # Gene indices shouldn't matter\n",
    "    gene_indices = jnp.repeat(-1, t)\n",
    "    testing_times = jnp.stack((times, gene_indices, jnp.repeat(0, t)), axis=-1)\n",
    "    return testing_times"
   ]
  },
  {
   "cell_type": "code",
   "execution_count": 18,
   "metadata": {},
   "outputs": [
    {
     "name": "stdout",
     "output_type": "stream",
     "text": [
      "(80, 3)\n"
     ]
    }
   ],
   "source": [
    "test_times_2 = generate_test_times(t=80)\n",
    "print(test_times_2.shape)"
   ]
  },
  {
   "cell_type": "code",
   "execution_count": 19,
   "metadata": {},
   "outputs": [
    {
     "data": {
      "text/plain": [
       "(80,)"
      ]
     },
     "execution_count": 19,
     "metadata": {},
     "output_type": "execute_result"
    }
   ],
   "source": [
    "test_X = dataset_train.X\n",
    "\n",
    "testing_mean = jax.vmap(lambda x: opt_posterior.predict(x, dataset_train).mean(),1)(test_times_2[:,None,:]).squeeze()\n",
    "\n",
    "testing_mean.shape"
   ]
  },
  {
   "cell_type": "code",
   "execution_count": 24,
   "metadata": {},
   "outputs": [
    {
     "data": {
      "text/plain": [
       "Array([0.001     , 0.01893627, 0.01895798, 0.01896913, 0.01897498,\n",
       "       0.01898034, 0.01899368, 0.001     , 0.01704163, 0.01711155,\n",
       "       0.01713929, 0.01715031, 0.01715484, 0.01715723, 0.001     ,\n",
       "       0.01828349, 0.01828717, 0.01829016, 0.01829207, 0.01829484,\n",
       "       0.01830337, 0.001     , 0.0349659 , 0.0348233 , 0.0348195 ,\n",
       "       0.03482388, 0.03483475, 0.03493618, 0.001     , 0.01807493,\n",
       "       0.01807434, 0.01807533, 0.01807608, 0.01807729, 0.01808072],      dtype=float64)"
      ]
     },
     "execution_count": 24,
     "metadata": {},
     "output_type": "execute_result"
    }
   ],
   "source": [
    "jax.vmap(lambda x: opt_posterior.predict(x, dataset_train).stddev(),1)(test_X[:,None,:]).squeeze()"
   ]
  },
  {
   "cell_type": "code",
   "execution_count": 21,
   "metadata": {},
   "outputs": [
    {
     "data": {
      "image/png": "[encoded data removed]",
      "text/plain": [
       "<Figure size 900x300 with 1 Axes>"
      ]
     },
     "metadata": {},
     "output_type": "display_data"
    }
   ],
   "source": [
    "# Plot testing_mean and testing_variance\n",
    "\n",
    "testing_mean = jax.vmap(lambda x: opt_posterior.predict(x, dataset_train).mean(),1)(testing_times[:,None,:]).squeeze()\n",
    "\n",
    "testing_stddev = jax.vmap(lambda x: opt_posterior.predict(x, dataset_train).stddev(),1)(testing_times[:,None,:]).squeeze()\n",
    "\n",
    "fig, ax = plt.subplots(figsize=(7.5, 2.5))\n",
    "\n",
    "ax.fill_between(testing_times[:,0], testing_mean - testing_stddev, testing_mean + testing_stddev, alpha=0.2,label='1 Posteriod s.d')\n",
    "\n",
    "ax.plot(testing_times[:,0], testing_mean, label='Predictive mean')\n",
    "\n",
    "plt.show()"
   ]
  },
  {
   "cell_type": "code",
   "execution_count": 22,
   "metadata": {},
   "outputs": [
    {
     "data": {
      "text/plain": [
       "Array([0.71728409,        nan,        nan,        nan,        nan,\n",
       "              nan,        nan,        nan,        nan,        nan,\n",
       "              nan,        nan,        nan,        nan,        nan,\n",
       "              nan,        nan,        nan,        nan,        nan,\n",
       "              nan,        nan,        nan,        nan,        nan,\n",
       "              nan,        nan,        nan,        nan,        nan,\n",
       "              nan,        nan,        nan,        nan,        nan,\n",
       "              nan,        nan,        nan,        nan,        nan,\n",
       "              nan,        nan,        nan,        nan,        nan,\n",
       "              nan,        nan,        nan,        nan,        nan,\n",
       "              nan,        nan,        nan,        nan,        nan,\n",
       "              nan,        nan,        nan,        nan,        nan,\n",
       "              nan,        nan,        nan,        nan,        nan,\n",
       "              nan,        nan,        nan,        nan,        nan,\n",
       "              nan,        nan,        nan,        nan,        nan,\n",
       "              nan,        nan,        nan,        nan,        nan],      dtype=float64)"
      ]
     },
     "execution_count": 22,
     "metadata": {},
     "output_type": "execute_result"
    }
   ],
   "source": [
    "testing_stddev"
   ]
  },
  {
   "cell_type": "code",
   "execution_count": 25,
   "metadata": {},
   "outputs": [],
   "source": [
    "vars_t = jax.vmap(lambda x: opt_posterior.predict(x, dataset_train).variance(),1)(testing_times[:,None,:]).squeeze()"
   ]
  },
  {
   "cell_type": "code",
   "execution_count": null,
   "metadata": {},
   "outputs": [],
   "source": [
    "vars_t * -1"
   ]
  },
  {
   "cell_type": "code",
   "execution_count": null,
   "metadata": {},
   "outputs": [],
   "source": [
    "debug_x = dataset_train.X\n"
   ]
  },
  {
   "cell_type": "code",
   "execution_count": 26,
   "metadata": {},
   "outputs": [
    {
     "name": "stdout",
     "output_type": "stream",
     "text": [
      "Covariance matrix is not positive definite\n"
     ]
    }
   ],
   "source": [
    "cov_matrix = latent_dist.covariance()\n",
    "assert np.allclose(cov_matrix, cov_matrix.T), \"Covariance matrix is not symmetric\"\n",
    "eigenvalues = np.linalg.eigvalsh(cov_matrix)\n",
    "if np.any(eigenvalues <= 0):\n",
    "    print(\"Covariance matrix is not positive definite\")"
   ]
  },
  {
   "cell_type": "code",
   "execution_count": 27,
   "metadata": {},
   "outputs": [],
   "source": [
    "gram_array = opt_posterior.prior.kernel.gram(dataset_train.X).to_dense()"
   ]
  },
  {
   "cell_type": "code",
   "execution_count": 28,
   "metadata": {},
   "outputs": [
    {
     "data": {
      "text/plain": [
       "latent_kernel(compute_engine=DenseKernelComputation(), active_dims=None, name='p53 Cov', true_s=Array([1.36255   , 1.30710909, 1.33513753, 0.90555277, 1.35073238],      dtype=float64), true_d=Array([0.18866351, 0.21973712, 0.19360095, 0.87383398, 0.20278081],      dtype=float64), l=Array(0.74079216, dtype=float64))"
      ]
     },
     "execution_count": 28,
     "metadata": {},
     "output_type": "execute_result"
    }
   ],
   "source": [
    "opt_posterior.prior.kernel"
   ]
  },
  {
   "cell_type": "markdown",
   "metadata": {},
   "source": [
    "# Debugging kernels I/O"
   ]
  },
  {
   "cell_type": "code",
   "execution_count": null,
   "metadata": {},
   "outputs": [],
   "source": [
    "import cola\n",
    "\n",
    "@dataclass\n",
    "class latent_kernel_test(gpx.kernels.AbstractKernel):\n",
    "    r\"Combined covariance for learning the latent replication of p53\"\n",
    "\n",
    "    name: str = \"p53 Cov Test\"\n",
    "    initial_sensitivities = jnp.array([1.0, 1.0, 1.0, 1.0, 1.0], dtype=jnp.float64)\n",
    "\n",
    "\n",
    "    true_s: Float[Array, \"1 5\"] = param_field(\n",
    "        initial_sensitivities,\n",
    "        bijector=tfb.Softplus(),\n",
    "        metadata={\"name\": \" kxx_sensitivities\"},\n",
    "        trainable=True,\n",
    "    )\n",
    "\n",
    "\n",
    "    initial_decays = jnp.array([0.4, 0.4, 0.4, 0.4, 0.4], dtype=jnp.float64)\n",
    "\n",
    "\n",
    "    true_d: Float[Array, \"1 5\"] = param_field(\n",
    "        initial_decays,\n",
    "        bijector=tfb.Softplus(),\n",
    "        metadata={\"name\": \" kxx_degradations\"},\n",
    "        trainable=True,\n",
    "    )\n",
    "\n",
    "    # Sigmoid to map real numbers to (0,1) and then scales and shifts to get(0.5, 3.5) # NOTE: tfb.Chain acts Right to Left\n",
    "    l_bijector = tfb.Chain(\n",
    "        [\n",
    "            tfb.Shift(jnp.array(0.5, dtype=jnp.float64)),\n",
    "            tfb.Scale(jnp.array(3.0, dtype=jnp.float64)),\n",
    "            tfb.Sigmoid(),\n",
    "        ]\n",
    "    )\n",
    "\n",
    "    initial_lengthscale = jnp.array(2.5, dtype=jnp.float64)\n",
    "\n",
    "    l: Float[Array, \" O\"] = param_field(\n",
    "        initial_lengthscale, bijector=l_bijector, metadata={\"name\": \"lengthscale\"}\n",
    "    )\n",
    "\n",
    "    def __call__(self, t: Float[Array, \"1 3\"], t_prime: Float[Array, \"1 3\"]) -> ScalarFloat:\n",
    "        \n",
    "        # Get flag from input (1 = gene expression, 0 = latent force function)\n",
    "        f1 = jnp.array(t[2], dtype=int)\n",
    "        f2 = jnp.array(t_prime[2], dtype=int)\n",
    "\n",
    "        # Cannot use if statements in kernels -> use switches\n",
    "        kxx_switch = f1 * f2\n",
    "        kff_switch = (1 - f1) * (1 - f2)\n",
    "        kxf_switch = f1 * (1 - f2)\n",
    "        kxf_t_switch = (1 - f1) * f2\n",
    "\n",
    "        final_kernel = (\n",
    "            kxx_switch * self.kernel_xx(t, t_prime)\n",
    "            + kff_switch * self.kernel_ff(t, t_prime)\n",
    "            + kxf_switch * self.kernel_xf(t, t_prime)\n",
    "            + kxf_t_switch * self.kernel_xf(t_prime, t)\n",
    "        )\n",
    "\n",
    "        return final_kernel\n",
    "\n",
    "    def kernel_xx(\n",
    "        self, t: Float[Array, \"1 3\"], t_prime: Float[Array, \"1 3\"]\n",
    "    ) -> ScalarFloat:\n",
    "        \"\"\"\n",
    "        Equation 5 in paper k_xx(t,t')\n",
    "        \n",
    "        print('Input to kxx')\n",
    "        print(f\"t: {t}\")\n",
    "        print(f\"t_prime: {t_prime}\")\n",
    "        \"\"\"\n",
    "\n",
    "        # Get gene indices\n",
    "        j = t[1].astype(int)\n",
    "        k = t_prime[1].astype(int)\n",
    "\n",
    "        t = t[0]\n",
    "        t_prime = t_prime[0]\n",
    "\n",
    "        # Equation 5\n",
    "        mult = self.true_s[j] * self.true_s[k] * self.l * jnp.sqrt(jnp.pi) * 0.5\n",
    "        second_term = self.h(k, j, t_prime, t) + self.h(j, k, t, t_prime)\n",
    "\n",
    "        kxx = mult * second_term\n",
    "        \n",
    "        return kxx.squeeze()\n",
    "    \n",
    "    def h(\n",
    "        self,\n",
    "        j: Int[Array, \" O\"],\n",
    "        k: Int[Array, \" O\"],\n",
    "        t1: Float[Array, \" O\"],\n",
    "        t2: Float[Array, \" O\"],\n",
    "    ) -> ScalarFloat:\n",
    "        \"\"\"\n",
    "        Analytical solution for the convolution of the exponential kernel with a step function.\n",
    "        \"\"\"\n",
    "\n",
    "        # Debug print\n",
    "        \"\"\"\n",
    "        print(f\"j: {j}\")\n",
    "        print(f\"k: {k}\")\n",
    "        print(f\"t1: {t1}\")\n",
    "        print(f\"t2: {t2}\")\n",
    "        \"\"\"\n",
    "        t_dist = t2 - t1\n",
    "\n",
    "        multiplier = jnp.exp(self.gamma(k) ** 2) / (self.true_d[j] + self.true_d[k])\n",
    "\n",
    "        first_multiplier = jnp.exp(-self.true_d[k] * t_dist)\n",
    "        first_erf_terms = jax.scipy.special.erf(\n",
    "            (t_dist / self.l) - self.gamma(k)\n",
    "        ) + jax.scipy.special.erf(t1 / self.l + self.gamma(k))\n",
    "\n",
    "        second_multiplier = jnp.exp(-(self.true_d[k] * t2 + self.true_d[j] * t1))\n",
    "        second_erf_terms = jax.scipy.special.erf(\n",
    "            (t2 / self.l) - self.gamma(k)\n",
    "        ) + jax.scipy.special.erf(self.gamma(k))\n",
    "\n",
    "        result = multiplier * (\n",
    "            jnp.multiply(first_multiplier, first_erf_terms)\n",
    "            - jnp.multiply(second_multiplier, second_erf_terms)\n",
    "        )\n",
    "\n",
    "        #print(f\"result: {result}\")\n",
    "        return result\n",
    "\n",
    "    def kernel_xf(\n",
    "        self, t: Float[Array, \"1 3\"], t_prime: Float[Array, \"1 3\"]\n",
    "    ) -> ScalarFloat:\n",
    "        # Get gene expression and latent force from flag (kxf anf kfx are transposes)\n",
    "        gene_xpr = jnp.where(t[2] == 0, t_prime, t)\n",
    "        latent_force = jnp.where(t[2] == 0, t, t_prime)\n",
    "\n",
    "        j = gene_xpr[1].astype(int)\n",
    "\n",
    "        # Slice inputs\n",
    "        gene_xpr = gene_xpr[0]\n",
    "        latent_force = latent_force[0]\n",
    "\n",
    "        t_dist = jnp.abs(gene_xpr - latent_force)\n",
    "\n",
    "        first_term = 0.5 * self.l * jnp.sqrt(jnp.pi) * self.true_s[j]\n",
    "        first_expon_term = jnp.exp(self.gamma(j) ** 2)\n",
    "        second_expon_term = jnp.exp(-self.true_d[j] * t_dist)\n",
    "        erf_terms = jax.scipy.special.erf(\n",
    "            (t_dist / self.l) - self.gamma(j)\n",
    "        ) + jax.scipy.special.erf(latent_force / self.l + self.gamma(j))\n",
    "\n",
    "        kxf = first_term * first_expon_term * second_expon_term * erf_terms\n",
    "        return kxf.squeeze()\n",
    "\n",
    "    def kernel_ff(\n",
    "        self, t: Float[Array, \"1 3\"], t_prime: Float[Array, \"1 3\"]\n",
    "    ) -> ScalarFloat:\n",
    "\n",
    "        t = t[0] / self.l\n",
    "        t_prime = t_prime[0] / self.l\n",
    "\n",
    "        K = jnp.exp(-0.5 * squared_distance(t, t_prime))\n",
    "\n",
    "        return K.squeeze()\n",
    "\n",
    "    # Helper functions\n",
    "\n",
    "    def gamma(self, k: Int[Array, \" O\"]) -> ScalarFloat:\n",
    "        # Gamma term for h function\n",
    "        return (self.true_d[k] * self.l) / 2\n"
   ]
  },
  {
   "cell_type": "code",
   "execution_count": null,
   "metadata": {},
   "outputs": [],
   "source": [
    "t_ker = latent_kernel_test()\n",
    "\n",
    "t_ker.kernel_xx(training_times[15], training_times[15])"
   ]
  },
  {
   "cell_type": "code",
   "execution_count": null,
   "metadata": {},
   "outputs": [],
   "source": [
    "# Rebuild Kxx matrix\n",
    "test_times_pt = jnp.array([ 0.,  2.,  4.,  6.,  8., 10., 12.,  0.,  2.,  4.,  6.,  8., 10., 12., 0.,  2.,  4.,  6.,  8., 10., 12.,  0.,  2.,  4.,  6.,  8., 10., 12., 0.,  2.,  4.,  6.,  8., 10., 12.], dtype=jnp.float64)\n",
    "\n",
    "\n",
    "def forward(t1, t2):\n",
    "    \"\"\"\n",
    "    This calculates Kxx (not cross-covariance)\n",
    "    t1, t2 are blocked timepoint vectors\n",
    "    Parameters:\n",
    "        x1 shape (num_genes*num_times)\n",
    "    \"\"\"\n",
    "    num_genes = 5\n",
    "\n",
    "    vert_block_size = int(t1.shape[0] / num_genes) # 7\n",
    "    hori_block_size = int(t2.shape[0] / num_genes) # 7\n",
    "    t1_block, t2_block = t1[:vert_block_size], t2[:hori_block_size]\n",
    "    shape = [vert_block_size * num_genes, hori_block_size * num_genes]\n",
    "    K_xx = jnp.zeros(shape, dtype=jnp.float64)\n",
    "\n",
    "    for j in range(num_genes):\n",
    "        for k in range(num_genes):\n",
    "            # make fake arrays\n",
    "            print(t1_block.shape)\n",
    "            print(t1_block)\n",
    "            ar_1 = jnp.array([t1_block, j, 1])\n",
    "            ar_2 = jnp.array([t2_block, k, 1])\n",
    "\n",
    "            kxx = t_ker.kernel_xx(ar_1, ar_2)\n",
    "\n",
    "\n",
    "            #kxx = self.k_xx(j, k, t1_block, t2_block)\n",
    "            K_xx[j * vert_block_size:(j + 1) * vert_block_size,\n",
    "                    k * hori_block_size:(k + 1) * hori_block_size] = kxx\n",
    "    return K_xx\n"
   ]
  },
  {
   "cell_type": "code",
   "execution_count": null,
   "metadata": {},
   "outputs": [],
   "source": [
    "output_test = t_ker.gram(training_times)"
   ]
  },
  {
   "cell_type": "code",
   "execution_count": null,
   "metadata": {},
   "outputs": [],
   "source": [
    "output_test.to_dense()"
   ]
  },
  {
   "cell_type": "code",
   "execution_count": null,
   "metadata": {},
   "outputs": [],
   "source": [
    "import pandas as pd\n",
    "res = np.array(output_test.to_dense())\n",
    "pd.DataFrame(res)"
   ]
  },
  {
   "cell_type": "code",
   "execution_count": null,
   "metadata": {},
   "outputs": [],
   "source": [
    "res.shape"
   ]
  },
  {
   "cell_type": "code",
   "execution_count": null,
   "metadata": {},
   "outputs": [],
   "source": [
    "kxx_test = output_test\n",
    "kxx_test += cola.ops.I_like(kxx_test) * 1e-4\n",
    "kxx_test_psd = cola.PSD(kxx_test)\n",
    "kxx_test = np.array(kxx_test_psd.to_dense())"
   ]
  },
  {
   "cell_type": "code",
   "execution_count": null,
   "metadata": {},
   "outputs": [],
   "source": [
    "pd.DataFrame(kxx_test)"
   ]
  },
  {
   "cell_type": "code",
   "execution_count": null,
   "metadata": {},
   "outputs": [],
   "source": [
    "# Add noise to res\n",
    "jit = 1e-4 * np.eye(res.shape[0])\n",
    "res_noisy = res + jit\n",
    "\n",
    "pd.DataFrame(res_noisy)"
   ]
  },
  {
   "cell_type": "code",
   "execution_count": null,
   "metadata": {},
   "outputs": [],
   "source": [
    "np.linalg.det(res_noisy)"
   ]
  },
  {
   "cell_type": "code",
   "execution_count": null,
   "metadata": {},
   "outputs": [],
   "source": [
    "# load k_XX_torch.npy\n",
    "k_XX_torch = np.load('k_XX_torch.npy')"
   ]
  },
  {
   "cell_type": "code",
   "execution_count": null,
   "metadata": {},
   "outputs": [],
   "source": [
    "np.array_equal(kxx_test, k_XX_torch)"
   ]
  },
  {
   "cell_type": "code",
   "execution_count": null,
   "metadata": {},
   "outputs": [],
   "source": [
    "np.allclose(kxx_test, k_XX_torch)"
   ]
  },
  {
   "cell_type": "code",
   "execution_count": null,
   "metadata": {},
   "outputs": [],
   "source": [
    "np.linalg.det(res_noisy)"
   ]
  },
  {
   "cell_type": "code",
   "execution_count": null,
   "metadata": {},
   "outputs": [],
   "source": [
    "np.linalg.inv(res_noisy)"
   ]
  },
  {
   "cell_type": "code",
   "execution_count": null,
   "metadata": {},
   "outputs": [],
   "source": [
    "## Adding jitter seems to fix the issue\n",
    "\n",
    "# Run GP regression, checking matrices at every step\n",
    "\n",
    "mean_func_testing = gpx.mean_functions.Zero()\n",
    "prior_testing = gpx.gps.Prior(mean_function=mean_func_testing, kernel=t_ker, jitter=1e-4)"
   ]
  },
  {
   "cell_type": "code",
   "execution_count": null,
   "metadata": {},
   "outputs": [],
   "source": [
    "likelihood_testing = gpx.likelihoods.Gaussian(num_datapoints=dataset_train.n)"
   ]
  },
  {
   "cell_type": "code",
   "execution_count": null,
   "metadata": {},
   "outputs": [],
   "source": [
    "likelihood_testing.obs_stddev"
   ]
  },
  {
   "cell_type": "code",
   "execution_count": null,
   "metadata": {},
   "outputs": [],
   "source": [
    "posterior_testing = prior_testing * likelihood_testing"
   ]
  },
  {
   "cell_type": "code",
   "execution_count": null,
   "metadata": {},
   "outputs": [],
   "source": [
    "optimised_posterior, history = optimise_mll(posterior_testing, dataset_train)"
   ]
  },
  {
   "cell_type": "code",
   "execution_count": null,
   "metadata": {},
   "outputs": [],
   "source": [
    "latent_testing = optimised_posterior.predict(testing_times, train_data=dataset_train)\n",
    "predictive_dist_testing = optimised_posterior.likelihood(latent_testing)"
   ]
  },
  {
   "cell_type": "code",
   "execution_count": null,
   "metadata": {},
   "outputs": [],
   "source": [
    "latent_testing.stddev()"
   ]
  },
  {
   "cell_type": "code",
   "execution_count": null,
   "metadata": {},
   "outputs": [],
   "source": [
    "meta_leaves(optimised_posterior)"
   ]
  },
  {
   "cell_type": "code",
   "execution_count": null,
   "metadata": {},
   "outputs": [],
   "source": [
    "import cola.ops\n",
    "\n",
    "\n",
    "def post_predict(test_inputs, train_data):\n",
    "        \n",
    "        x, y = train_data.X, train_data.y\n",
    "\n",
    "        # Unpack test inputs\n",
    "        t = test_inputs\n",
    "\n",
    "        # Observation noise o²\n",
    "        likelihood_obs_stddev = jnp.array(1.0)\n",
    "        obs_noise = likelihood_obs_stddev**2\n",
    "        mx = prior_testing.mean_function(x)\n",
    "\n",
    "        # Precompute Gram matrix, Kxx, at training inputs, x\n",
    "        Kxx = prior_testing.kernel.gram(x)\n",
    "        Kxx += cola.ops.I_like(Kxx) * prior_testing.jitter\n",
    "\n",
    "        # Σ = Kxx + Io²\n",
    "        Sigma = Kxx + cola.ops.I_like(Kxx) * obs_noise\n",
    "        Sigma = cola.PSD(Sigma)\n",
    "\n",
    "        mean_t = prior_testing.mean_function(t)\n",
    "        \n",
    "        Ktt = prior_testing.kernel.gram(t)\n",
    "        Kxt = prior_testing.kernel.cross_covariance(x, t)\n",
    "        \n",
    "        Sigma_inv_Kxt = cola.solve(Sigma, Kxt)\n",
    "\n",
    "        # μt  +  Ktx (Kxx + Io²)⁻¹ (y  -  μx)\n",
    "        mean = mean_t + jnp.matmul(Sigma_inv_Kxt.T, y - mx)\n",
    "\n",
    "        # Ktt  -  Ktx (Kxx + Io²)⁻¹ Kxt\n",
    "        \n",
    "        covariance = Ktt - jnp.matmul(Kxt.T, Sigma_inv_Kxt)\n",
    "        print(covariance.to_dense().shape)\n",
    "        covariance += cola.ops.I_like(covariance) * prior_testing.jitter\n",
    "        covariance = cola.PSD(covariance)\n",
    "\n",
    "        # Check PSD of final covariance matrix\n",
    "        def is_pos_def(x):\n",
    "              return jnp.all(jnp.linalg.eigvals(x) > 0)\n",
    "        if not is_pos_def(covariance.to_dense()):\n",
    "            print(\"Covariance matrix is not positive definite\")\n",
    "\n",
    "        \n",
    "        # Diagonalise covariance matrix\n",
    "        diag_cov = jnp.diag(jnp.diag(covariance.to_dense()))\n",
    "        #diag_cov += prior_testing.jitter * jnp.eye(diag_cov.shape[-1])\n",
    "        diag_cov += cola.ops.I_like(diag_cov) * prior_testing.jitter\n",
    "\n",
    "        # Convert diag_cov to Cola LinearOperator\n",
    "        diag_cov = cola.PSD(diag_cov)\n",
    "\n",
    "        print(type(covariance))\n",
    "        print(type(diag_cov))\n",
    "\n",
    "        return mean.squeeze(), covariance, GaussianDistribution(jnp.atleast_1d(mean.squeeze()), diag_cov)\n",
    "\n",
    "mean_func, cov_matrix, latent_test_dist = post_predict(testing_times, dataset_train)\n",
    "stddev = latent_test_dist.stddev()"
   ]
  },
  {
   "cell_type": "code",
   "execution_count": null,
   "metadata": {},
   "outputs": [],
   "source": [
    "stddev"
   ]
  },
  {
   "cell_type": "code",
   "execution_count": null,
   "metadata": {},
   "outputs": [],
   "source": [
    "var = cov_matrix.to_dense()\n",
    "var = jnp.diag(jnp.diag(var))\n",
    "var += prior_testing.jitter * jnp.eye(var.shape[-1])\n",
    "\n",
    "# Check that var is PSD\n",
    "def is_pos_def(x):\n",
    "      return jnp.all(jnp.linalg.eigvals(x) > 0)\n",
    "\n",
    "var"
   ]
  },
  {
   "cell_type": "code",
   "execution_count": null,
   "metadata": {},
   "outputs": [],
   "source": [
    "jnp.diag(cov_matrix.to_dense())"
   ]
  },
  {
   "cell_type": "code",
   "execution_count": null,
   "metadata": {},
   "outputs": [],
   "source": [
    "import torch\n",
    "cov_matrix_torch = torch.tensor(np.asarray(cov_matrix.to_dense()))\n",
    "print(f'Cov mat shape: {cov_matrix_torch.shape}')\n",
    "cov_matrix_torch = cov_matrix_torch.unsqueeze(0)\n",
    "print(f'Cov mat shape: {cov_matrix_torch.shape}')\n",
    "cov_matrix_torch = torch.diagonal(cov_matrix_torch, dim1=1, dim2=2)\n",
    "print(f'Cov mat shape: {cov_matrix_torch.shape}')\n",
    "cov_matrix_torch = torch.diag_embed(cov_matrix_torch)\n",
    "print(f'Cov mat shape: {cov_matrix_torch.shape}')\n",
    "cov_matrix_torch"
   ]
  },
  {
   "cell_type": "code",
   "execution_count": null,
   "metadata": {},
   "outputs": [],
   "source": [
    "diag1 = cola.ops.Diagonal(cov_matrix.to_dense())\n",
    "diag2 = cola.ops.Diagonal(diag1.to_dense())\n",
    "diag2 = cola.PSD(diag2)\n",
    "diag2.to_dense()"
   ]
  },
  {
   "cell_type": "code",
   "execution_count": null,
   "metadata": {},
   "outputs": [],
   "source": [
    "cov_matrix.to_dense()"
   ]
  },
  {
   "cell_type": "code",
   "execution_count": null,
   "metadata": {},
   "outputs": [],
   "source": [
    "cola.diag(cov_matrix)"
   ]
  },
  {
   "cell_type": "code",
   "execution_count": null,
   "metadata": {},
   "outputs": [],
   "source": [
    "latent_test_dist.variance()"
   ]
  },
  {
   "cell_type": "code",
   "execution_count": null,
   "metadata": {},
   "outputs": [],
   "source": [
    "latent_test_dist.covariance()"
   ]
  },
  {
   "cell_type": "code",
   "execution_count": null,
   "metadata": {},
   "outputs": [],
   "source": [
    "import gpytorch\n",
    "import torch\n",
    "\n",
    "mean_func_torch = torch.from_numpy(np.array(mean_func))\n",
    "cov_matrix_torch = torch.from_numpy(np.array(cov_matrix))\n",
    "\n",
    "batch_mvn = gpytorch.distributions.MultivariateNormal(mean_func, cov_matrix)"
   ]
  },
  {
   "cell_type": "code",
   "execution_count": null,
   "metadata": {},
   "outputs": [],
   "source": [
    "# Load torch dist\n",
    "torch_cov = np.load('p_f_cov.npy')"
   ]
  },
  {
   "cell_type": "code",
   "execution_count": null,
   "metadata": {},
   "outputs": [],
   "source": [
    "from gpjax.distributions import GaussianDistribution\n"
   ]
  },
  {
   "cell_type": "code",
   "execution_count": null,
   "metadata": {},
   "outputs": [],
   "source": [
    "latent_test_dist = post_predict(testing_times, dataset_train)"
   ]
  },
  {
   "cell_type": "code",
   "execution_count": null,
   "metadata": {},
   "outputs": [],
   "source": [
    "latent_test_dist.stddev()"
   ]
  },
  {
   "cell_type": "code",
   "execution_count": null,
   "metadata": {},
   "outputs": [],
   "source": [
    "np.isnan(latent_test_dist.stddev()).any()"
   ]
  }
 ],
 "metadata": {
  "kernelspec": {
   "display_name": "project_wp289",
   "language": "python",
   "name": "python3"
  },
  "language_info": {
   "codemirror_mode": {
    "name": "ipython",
    "version": 3
   },
   "file_extension": ".py",
   "mimetype": "text/x-python",
   "name": "python",
   "nbconvert_exporter": "python",
   "pygments_lexer": "ipython3",
   "version": "3.10.14"
  }
 },
 "nbformat": 4,
 "nbformat_minor": 2
}
