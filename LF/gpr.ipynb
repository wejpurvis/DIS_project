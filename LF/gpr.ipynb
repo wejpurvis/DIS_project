{
 "cells": [
  {
   "cell_type": "markdown",
   "metadata": {},
   "source": [
    "# Learning latent force"
   ]
  },
  {
   "cell_type": "code",
   "execution_count": 140,
   "metadata": {},
   "outputs": [],
   "source": [
    "import numpy as np\n",
    "import gpjax as gpx\n",
    "import os\n",
    "import jax\n",
    "import matplotlib.pyplot as plt\n",
    "import jax.random as jr\n",
    "\n",
    "from dataclasses import dataclass, field\n",
    "\n",
    "from beartype.typing import Union\n",
    "import jax.numpy as jnp\n",
    "from jaxtyping import Float\n",
    "import tensorflow_probability.substrates.jax.bijectors as tfb\n",
    "import tensorflow_probability.substrates.jax.distributions as tfd\n",
    "\n",
    "from gpjax.base import param_field, static_field\n",
    "from gpjax.kernels.base import AbstractKernel\n",
    "from gpjax.kernels.stationary.utils import squared_distance\n",
    "from gpjax.typing import (\n",
    "    Array,\n",
    "    ScalarFloat,\n",
    ")\n",
    "\n",
    "from beartype.typing import Callable\n",
    "from jaxtyping import Int\n",
    "\n",
    "from p53_data import JAXP53_Data, dataset_3d, flatten_dataset_jax\n",
    "jax.config.update('jax_enable_x64', True)\n",
    "\n",
    "from matplotlib import rcParams\n",
    "\n",
    "plt.style.use(\"https://raw.githubusercontent.com/JaxGaussianProcesses/GPJax/main/docs/examples/gpjax.mplstyle\")\n",
    "\n",
    "# Check if LaTeX is in notebook path\n",
    "if os.environ.get('PATH') is not None:\n",
    "    if 'TeX' not in os.environ['PATH']:\n",
    "        os.environ['PATH'] += os.pathsep + '/Library/TeX/texbin'\n",
    "\n",
    "colors = rcParams[\"axes.prop_cycle\"].by_key()[\"color\"]\n",
    "\n",
    "import tensorflow_probability.substrates.jax.bijectors as tfb\n",
    "\n",
    "key = jr.PRNGKey(42)"
   ]
  },
  {
   "cell_type": "code",
   "execution_count": 141,
   "metadata": {},
   "outputs": [],
   "source": [
    "p53_data = JAXP53_Data(replicate=2)\n",
    "training_times, gene_expressions = dataset_3d(p53_data)\n",
    "plot_times, plot_gene_expressions = flatten_dataset_jax(p53_data)"
   ]
  },
  {
   "cell_type": "code",
   "execution_count": 142,
   "metadata": {},
   "outputs": [
    {
     "data": {
      "image/png": "[encoded data removed]",
      "text/plain": [
       "<Figure size 1440x720 with 1 Axes>"
      ]
     },
     "metadata": {},
     "output_type": "display_data"
    }
   ],
   "source": [
    "plt.figure(figsize=(12, 6))\n",
    "plt.plot(plot_times, plot_gene_expressions, \"o\", label=\"Replicate 2\", color=\"black\")\n",
    "plt.xlabel(\"Time (hours)\")\n",
    "plt.ylabel(\"Gene expression\")\n",
    "plt.legend()\n",
    "plt.show()"
   ]
  },
  {
   "cell_type": "code",
   "execution_count": 143,
   "metadata": {},
   "outputs": [],
   "source": [
    "# Generate test points (t, i, 1):\n",
    "def gen_test_times(t=100):\n",
    "    \"\"\"\n",
    "    Generate testing times for the model of shape (N, 3) where N is the number of testing times. Default is N = 100\n",
    "    \"\"\"\n",
    "    times = jnp.linspace(0, 12, t)\n",
    "    # Gene indices shouldn't matter\n",
    "    gene_indices = jnp.repeat(-1, t)\n",
    "    testing_times = jnp.stack((times, gene_indices, jnp.repeat(0,t)), axis=-1)\n",
    "    return testing_times"
   ]
  },
  {
   "cell_type": "code",
   "execution_count": 144,
   "metadata": {},
   "outputs": [],
   "source": [
    "@dataclass\n",
    "class p53_kxx(gpx.kernels.AbstractKernel):\n",
    "    r\"Covariance function of gene expressions j and k at time t and t'\"\n",
    "\n",
    "    name: str = 'kxx'\n",
    "\n",
    "    \"\"\"\n",
    "    # TODO: review inverse initialisation method - check if init as list or single param\n",
    "    pos_constraint: Callable = tfb.Softplus()\n",
    "    initial_s: Float[Array, \" O\"] = static_field(pos_constraint.inverse(1.0))\n",
    "    initial_d: Float[Array, \" O\"] = static_field(pos_constraint.inverse(0.4))\n",
    "    \n",
    "    # Use dummy variables before trying inverse method\n",
    "    initial_s_test: Float[Array, \" O\"] = static_field(jnp.array([1.0]))\n",
    "    initial_d_test: Float[Array, \" O\"] = static_field(jnp.array([1.0]))\n",
    "\n",
    "    # Define sensitivities for both genes\n",
    "    s_j: Float[Array, \" O\"] = param_field(initial_s_test, bijector=pos_constraint)\n",
    "    s_k: Float[Array, \" O\"] = param_field(initial_s_test, bijector=pos_constraint)\n",
    "\n",
    "    # Define decay rates for both genes\n",
    "    d_j: Float[Array, \" O\"] = param_field(initial_d_test, bijector=pos_constraint)\n",
    "    d_k: Float[Array, \" O\"] = param_field(initial_d_test, bijector=pos_constraint)\n",
    "\n",
    "    # Use measured sensiivities and decays at first\n",
    "    #true_s: Float[Array, \"1 5\"] = static_field(jnp.array([0.9075, 0.9748, 0.9785, 1.0000, 0.9680]))\n",
    "    #true_d: Float[Array, \"1 5\"] = static_field(jnp.array([0.2829, 0.3720, 0.3617, 0.8000, 0.3573]))\n",
    "    \"\"\"\n",
    "    #true_s: Float[Array, \"1 5\"] = static_field(jnp.array([1.0,1.0,1.0,1.0,1.0]))\n",
    "    true_s: Float[Array, \"1 5\"] = param_field(jnp.array([1.0,1.0,1.0,1.0,1.0]), bijector= tfb.Softplus(), metadata={\"name\": \" kxxsensitivity\"}, trainable=True)\n",
    "    true_d: Float[Array, \"1 5\"] = static_field(jnp.array([0.4,0.4,0.4,0.4,0.4]))\n",
    "    \n",
    "\n",
    "    # Bijector uses sigmoid to map real numbers to (0,1) and then scales and shifts to get the desired range (0.5, 3.5) NOTE: tfb.Chain acts Right to Left\n",
    "    l_bijector = tfb.Chain([tfb.Shift(jnp.array(0.5, dtype=jnp.float64)), tfb.Scale(jnp.array(3.0, dtype=jnp.float64)), tfb.Sigmoid()])\n",
    "    \n",
    "    # TODO: check if inverse initialisation is better than just using 2.5\n",
    "    initial_constrained_l = jnp.array(2.5, dtype=jnp.float64)\n",
    "    initial_unconstrained_l = l_bijector.inverse(initial_constrained_l)\n",
    "    \n",
    "    l: Float[Array, \" O\"] = param_field(initial_unconstrained_l, bijector=l_bijector, metadata={\"name\": \" kxx_lengthscale\"})\n",
    "\n",
    "    \n",
    "    def __call__(self, t: Int[Array, \"1 3\"], t_prime: Int[Array, \"1 3\"]) -> ScalarFloat:\n",
    "        \"\"\"\n",
    "        Equation 5 in paper k_xx(t,t')\n",
    "        \"\"\"\n",
    "        # Error trap (JAX friendly)\n",
    "        def check_validity(condition):\n",
    "            if condition:\n",
    "                #raise ValueError(\"t or t' cannot be testing points (z=0)\")\n",
    "                return 0\n",
    "\n",
    "        condition = jnp.logical_or(t[2] == 0, t_prime[2] == 0)\n",
    "        jax.debug.callback(check_validity, condition)\n",
    "        \n",
    "        # Get gene indices\n",
    "        j = t[1].astype(int)\n",
    "        k = t_prime[1].astype(int)\n",
    "\n",
    "        \"\"\"\n",
    "        print('kxx has been called')\n",
    "        print(self.true_s)\n",
    "        print(self.true_d)\n",
    "        print(t.shape)\n",
    "        print(t_prime.shape)\n",
    "\n",
    "        print(f'lengthscale {self.l}, {type(self.l)}')\n",
    "        \"\"\"\n",
    "\n",
    "        # NOTE: using index yields same results\n",
    "        t = self.slice_input(t)\n",
    "        t_prime = self.slice_input(t_prime)\n",
    "\n",
    "\n",
    "        \"\"\"\n",
    "        print('Inputs have been sliced')\n",
    "        print(t, t.shape)\n",
    "        print(t, t_prime.shape)\n",
    "        \"\"\"\n",
    "\n",
    "        mult = self.true_s[j] * self.true_s[k] * self.l * jnp.sqrt(jnp.pi) * 0.5\n",
    "        second_term = self.h(k,j, t_prime, t) + self.h(j,k, t, t_prime)\n",
    "        \n",
    "\n",
    "        kxx = mult * second_term\n",
    "\n",
    "        \"\"\"\n",
    "        print(second_term.shape)\n",
    "        print(f'mult {mult}, shape: {mult.shape}')\n",
    "        print(f'second term {second_term}, shape: {second_term.shape}')\n",
    "\n",
    "        print(f'kxx shape {kxx.shape}')\n",
    "        \n",
    "\n",
    "        print(f'j index {j}, k index {k}')\n",
    "        print(f'time 1 {t}, time 2 {t_prime}')\n",
    "        print(f'sj {self.true_s[j]}, sk {self.true_s[k]}, dj {self.true_d[j]}, dk {self.true_d[k]}')\n",
    "        \"\"\"\n",
    "\n",
    "        return kxx.squeeze()\n",
    "        \n",
    "    \n",
    "    def h(self,j: Int[Array, \" O\"],k: Int[Array, \" O\"],t1: Int[Array, \" O\"],t2: Int[Array, \" O\"]) -> ScalarFloat:\n",
    "        \"\"\"\n",
    "        Analytical solution for the convolution of the exponential kernel with a step function.\n",
    "        \"\"\"\n",
    "\n",
    "        t_dist = t2-t1\n",
    "\n",
    "        multiplier = jnp.exp(self.gamma(k)**2) / (self.true_d[j] + self.true_d[k])\n",
    "\n",
    "        first_multiplier = jnp.exp(-self.true_d[k]*t_dist)\n",
    "        first_erf_terms = jax.scipy.special.erf((t_dist / self.l) - self.gamma(k)) + jax.scipy.special.erf(t1/self.l + self.gamma(k))\n",
    "\n",
    "        second_multiplier = jnp.exp(-(self.true_d[k]*t2 + self.true_d[j]*t1))\n",
    "        second_erf_terms = jax.scipy.special.erf((t2 / self.l) - self.gamma(k)) + jax.scipy.special.erf(self.gamma(k))\n",
    "\n",
    "        result = multiplier * (jnp.multiply(first_multiplier, first_erf_terms) - jnp.multiply(second_multiplier, second_erf_terms))\n",
    "\n",
    "        return result\n",
    "    \n",
    "    def gamma(self, k: Int[Array, \" O\"]) -> ScalarFloat:\n",
    "        # Gamma term for h function\n",
    "        return (self.true_d[k] * self.l) /2\n"
   ]
  },
  {
   "cell_type": "code",
   "execution_count": 145,
   "metadata": {},
   "outputs": [],
   "source": [
    "@dataclass\n",
    "class p53_kxf(gpx.kernels.AbstractKernel):\n",
    "    r\"Cross-covariance between gene expression j at time t and f at time t'\"\n",
    "\n",
    "    name: str = 'cross covariance'\n",
    "\n",
    "    # TODO: look at initialisation methods and sharing of parameters between covariances\n",
    "\n",
    "    # Use measured sensiivities and decays at first\n",
    "    true_s: Float[Array, \"1 5\"] = static_field(jnp.array([0.9075, 0.9748, 0.9785, 1.0000, 0.9680]))\n",
    "    true_d: Float[Array, \"1 5\"] = static_field(jnp.array([0.2829, 0.3720, 0.3617, 0.8000, 0.3573]))\n",
    "\n",
    "    true_s: Float[Array, \"1 5\"] = static_field(jnp.array([1.0,1.0,1.0,1.0,1.0]))\n",
    "    true_d: Float[Array, \"1 5\"] = static_field(jnp.array([0.4,0.4,0.4,0.4,0.4]))\n",
    "\n",
    "    # l: Float[Array, \" O\"] = static_field(jnp.array([2.5]))\n",
    "    l: Float[Array, \" O\"] = param_field(jnp.array(2.5), bijector=tfb.Softplus(), metadata={\"name\": \" kxf lengthscale\"})\n",
    "\n",
    "    def __call__(self, t: Int[Array, \"1 3\"], t_prime: Int[Array, \"1 3\"]) -> ScalarFloat:\n",
    "\n",
    "        \"\"\"\n",
    "        # Error trap (JAX friendly)\n",
    "        def check_val_test(condition):\n",
    "            if condition:\n",
    "                #raise ValueError(\"t and t' cannot both be testing points (z=0)\")\n",
    "                return 0\n",
    "            \n",
    "        def check_val_train(condition):\n",
    "            if condition:\n",
    "                raise ValueError(\"t and t' cannot both be training points (z=1)\")\n",
    "                \n",
    "            \n",
    "        cond_test = jnp.logical_and(t[2] == 0, t_prime[2] == 0)\n",
    "        cond_train = jnp.logical_and(t[2] == 1, t_prime[2] == 1)\n",
    "\n",
    "        jax.debug.callback(check_val_test, cond_test)\n",
    "        jax.debug.callback(check_val_train, cond_train)\n",
    "        \"\"\"\n",
    "        \n",
    "        # Get gene expression and latent force from flag (kxf anf kfx are transposes)\n",
    "        gene_xpr = jnp.where(t[2] == 0, t_prime, t)\n",
    "        latent_force = jnp.where(t[2] == 0, t, t_prime)\n",
    "    \n",
    "        j = gene_xpr[1].astype(int)\n",
    "\n",
    "        #print(f'Latent force {latent_force}')\n",
    "        #print(f'Gene expression {gene_xpr}') \n",
    "\n",
    "        # Slice inputs\n",
    "        gene_xpr = self.slice_input(gene_xpr)\n",
    "        latent_force = self.slice_input(latent_force)\n",
    "\n",
    "        #print(f'Latent force {latent_force}')\n",
    "        #print(f'Gene expression {gene_xpr}')\n",
    "\n",
    "        t_dist = jnp.abs(gene_xpr - latent_force)   \n",
    "        \n",
    "        first_term = 0.5 * self.l * jnp.sqrt(jnp.pi) * self.true_s[j]\n",
    "        first_expon_term = jnp.exp(self.gamma(j)**2)\n",
    "        second_expon_term = jnp.exp(-self.true_d[j]*t_dist)\n",
    "        erf_terms = jax.scipy.special.erf((t_dist / self.l) - self.gamma(j)) + jax.scipy.special.erf(latent_force/self.l + self.gamma(j))\n",
    "\n",
    "        kxf = first_term * first_expon_term * second_expon_term * erf_terms\n",
    "        \n",
    "        \"\"\"\n",
    "        print(f'first_term {first_term}')\n",
    "        print(f'first_expon_term {first_expon_term}')\n",
    "        print(f'second_expon_term {second_expon_term}')\n",
    "        print(f'erf_terms {erf_terms}')\n",
    "        \"\"\"\n",
    "        \n",
    "        return kxf.squeeze()\n",
    "    \n",
    "    def gamma(self, k: Int[Array, \" O\"]) -> ScalarFloat:\n",
    "        # Gamma term for h function\n",
    "        return (self.true_d[k] * self.l) /2\n"
   ]
  },
  {
   "cell_type": "code",
   "execution_count": 146,
   "metadata": {},
   "outputs": [],
   "source": [
    "@dataclass\n",
    "class p53_kff(AbstractKernel):\n",
    "    r\"\"\"The Radial Basis Function (RBF) kernel.\"\"\"\n",
    "\n",
    "    l: Union[ScalarFloat, Float[Array, \" D\"]] = param_field(jnp.array(2.5), bijector=tfb.Softplus(), metadata={\"name\": \" kff lengthscale\"})\n",
    "\n",
    "    #l:  Union[ScalarFloat, Float[Array, \" D\"]] = field(init=False, metadata={\"name\": \" kff lengthscale\"})\n",
    "    \n",
    "    #l:  Union[ScalarFloat, Float[Array, \" D\"]] = field()\n",
    "    \n",
    "    # fix rbf variance to 1\n",
    "    #variance: ScalarFloat = param_field(jnp.array(1.0), bijector=tfb.Softplus(),metadata={\"name\": \"rbf_variance\"}, trainable=False)\n",
    "\n",
    "    # Use static field so it doesn't show in list of parameters\n",
    "    variance: ScalarFloat = static_field(jnp.array(1.0))\n",
    "\n",
    "    name: str = \"RBF\"\n",
    "\n",
    "    def __call__(self, x: Float[Array, \" D\"], y: Float[Array, \" D\"]) -> ScalarFloat:\n",
    "        r\"\"\"Compute the RBF kernel between a pair of arrays.\n",
    "\n",
    "        Evaluate the kernel on a pair of inputs $`(x, y)`$ with lengthscale parameter\n",
    "        $`\\ell`$ and variance $`\\sigma^2`$:\n",
    "        ```math\n",
    "        k(x,y)=\\sigma^2\\exp\\Bigg(- \\frac{\\lVert x - y \\rVert^2_2}{2 \\ell^2} \\Bigg)\n",
    "        ```\n",
    "\n",
    "        Args:\n",
    "            x (Float[Array, \" D\"]): The left hand argument of the kernel function's call.\n",
    "            y (Float[Array, \" D\"]): The right hand argument of the kernel function's call.\n",
    "\n",
    "        Returns:\n",
    "            ScalarFloat: The value of $`k(x, y)`$.\n",
    "        \"\"\"\n",
    "        x = self.slice_input(x) / self.l\n",
    "        y = self.slice_input(y) / self.l\n",
    "        K = self.variance * jnp.exp(-0.5 * squared_distance(x, y))\n",
    "        return K.squeeze()"
   ]
  },
  {
   "cell_type": "code",
   "execution_count": 147,
   "metadata": {},
   "outputs": [],
   "source": [
    "@dataclass\n",
    "class p53_combined_kernel(gpx.kernels.AbstractKernel):\n",
    "    r\"Combined covariance for learning the latent replication of p53\"\n",
    "\n",
    "    name: str = 'p53 Cov'\n",
    "\n",
    "    # Define external kernels\n",
    "    kernel_xx: gpx.kernels.AbstractKernel = field(default_factory=lambda: p53_kxx(active_dims=[0]))\n",
    "\n",
    "    kernel_xf: gpx.kernels.AbstractKernel = field(default_factory=lambda: p53_kxf(active_dims=[0]))\n",
    "\n",
    "    kernel_ff: gpx.kernels.AbstractKernel = field(default_factory=lambda: p53_kff(active_dims=[0]))\n",
    "    \n",
    "\n",
    "    def __call__(self, t: Int[Array, \"1 3\"], t_prime: Int[Array, \"1 3\"]) -> ScalarFloat:\n",
    "\n",
    "        # Get flag from input (1 = gene expression, 0 = latent force function)\n",
    "        f1 = jnp.array(t[2], dtype=int)\n",
    "        f2 = jnp.array(t_prime[2], dtype=int)\n",
    "\n",
    "        # Cannot use if statements in kernels -> use switches\n",
    "        kxx_switch = f1 * f2\n",
    "        kff_switch = (1 - f1) * (1 - f2)\n",
    "        kxf_switch = f1 * (1 - f2)\n",
    "        kxf_t_switch = (1 - f1) * f2\n",
    "\n",
    "        final_kernel = kxx_switch * self.kernel_xx(t, t_prime) + kff_switch * self.kernel_ff(t, t_prime) + kxf_switch * self.kernel_xf(t, t_prime) + kxf_t_switch * self.kernel_xf(t_prime, t)\n",
    "\n",
    "        return final_kernel"
   ]
  },
  {
   "cell_type": "code",
   "execution_count": 148,
   "metadata": {},
   "outputs": [],
   "source": [
    "from dataclasses import InitVar\n",
    "\n",
    "@dataclass\n",
    "class p53_combined_kernel2(gpx.kernels.AbstractKernel):\n",
    "    r\"Combined covariance for learning the latent replication of p53\"\n",
    "\n",
    "    name: str = 'p53 Cov'\n",
    "    \n",
    "    #lengthscale: Union[ScalarFloat, Float[Array, \" D\"]] = param_field(jnp.array(7.5), bijector=tfb.Softplus())\n",
    "    \n",
    "    #lengthscale: Union[ScalarFloat, Float[Array, \"D\"]] = field(default_factory=lambda: jnp.array(2.5), metadata={'bijector': tfb.Softplus(), \"name\": \"lengthscale\"})\n",
    "\n",
    "    lengthscale: Union[ScalarFloat, Float[Array, \" D\"]] = param_field(jnp.array(2.5), bijector=tfb.Softplus(), metadata={\"name\": \"total lengthscale\"})\n",
    "\n",
    "    # Define external kernels\n",
    "    kernel_xx: gpx.kernels.AbstractKernel = field(init=False)\n",
    "    kernel_xf: gpx.kernels.AbstractKernel = field(init=False)\n",
    "    kernel_ff: gpx.kernels.AbstractKernel = field(init=False)\n",
    "    \n",
    "\n",
    "    def __post_init__(self):\n",
    "        self.kernel_xx = p53_kxx(l=self.lengthscale, active_dims=[0])\n",
    "        self.kernel_xf = p53_kxf(l=self.lengthscale, active_dims=[0])\n",
    "        self.kernel_ff = p53_kff(l=self.lengthscale, active_dims=[0])\n",
    "\n",
    "    def __call__(self, t: Int[Array, \"1 3\"], t_prime: Int[Array, \"1 3\"]) -> ScalarFloat:\n",
    "\n",
    "        # Get flag from input (1 = gene expression, 0 = latent force function)\n",
    "        f1 = jnp.array(t[2], dtype=int)\n",
    "        f2 = jnp.array(t_prime[2], dtype=int)\n",
    "\n",
    "        # Cannot use if statements in kernels -> use switches\n",
    "        kxx_switch = f1 * f2\n",
    "        kff_switch = (1 - f1) * (1 - f2)\n",
    "        kxf_switch = f1 * (1 - f2)\n",
    "        kxf_t_switch = (1 - f1) * f2\n",
    "\n",
    "        final_kernel = kxx_switch * self.kernel_xx(t, t_prime) + kff_switch * self.kernel_ff(t, t_prime) + kxf_switch * self.kernel_xf(t, t_prime) + kxf_t_switch * self.kernel_xf(t_prime, t)\n",
    "\n",
    "        return final_kernel"
   ]
  },
  {
   "cell_type": "code",
   "execution_count": 149,
   "metadata": {},
   "outputs": [],
   "source": [
    "dataset_train = gpx.Dataset(training_times, gene_expressions)\n",
    "\n",
    "testing_times = gen_test_times()\n",
    "\n",
    "train_row = dataset_train.X[20]\n",
    "test_row = testing_times[20]"
   ]
  },
  {
   "cell_type": "code",
   "execution_count": 150,
   "metadata": {},
   "outputs": [
    {
     "data": {
      "text/plain": [
       "Array(0.1211578, dtype=float64)"
      ]
     },
     "execution_count": 150,
     "metadata": {},
     "output_type": "execute_result"
    }
   ],
   "source": [
    "p53_ker = p53_combined_kernel2()\n",
    "p53_ker(train_row,test_row)"
   ]
  },
  {
   "cell_type": "code",
   "execution_count": 151,
   "metadata": {},
   "outputs": [
    {
     "name": "stdout",
     "output_type": "stream",
     "text": [
      "p53_combined_kernel2(compute_engine=DenseKernelComputation(), active_dims=None, name='p53 Cov', lengthscale=Array(2.5, dtype=float64, weak_type=True), kernel_xx=p53_kxx(compute_engine=DenseKernelComputation(), active_dims=[0], name='kxx', true_s=Array([1., 1., 1., 1., 1.], dtype=float64), true_d=Array([0.4, 0.4, 0.4, 0.4, 0.4], dtype=float64), l=Array(2.5, dtype=float64, weak_type=True)), kernel_xf=p53_kxf(compute_engine=DenseKernelComputation(), active_dims=[0], name='cross covariance', true_s=Array([1., 1., 1., 1., 1.], dtype=float64), true_d=Array([0.4, 0.4, 0.4, 0.4, 0.4], dtype=float64), l=Array(2.5, dtype=float64, weak_type=True)), kernel_ff=p53_kff(compute_engine=DenseKernelComputation(), active_dims=[0], name='RBF', l=Array(2.5, dtype=float64, weak_type=True), variance=Array(1., dtype=float64, weak_type=True)))\n"
     ]
    }
   ],
   "source": [
    "print(p53_ker)"
   ]
  },
  {
   "cell_type": "code",
   "execution_count": 152,
   "metadata": {},
   "outputs": [
    {
     "name": "stderr",
     "output_type": "stream",
     "text": [
      "/opt/anaconda3/envs/project_wp289/lib/python3.11/site-packages/IPython/core/pylabtools.py:152: UserWarning: There are no gridspecs with layoutgrids. Possibly did not call parent GridSpec with the \"figure\" keyword\n",
      "  fig.canvas.print_figure(bytes_io, **kw)\n"
     ]
    },
    {
     "data": {
      "image/png": "[encoded data removed]",
      "text/plain": [
       "<Figure size 480x480 with 1 Axes>"
      ]
     },
     "metadata": {},
     "output_type": "display_data"
    }
   ],
   "source": [
    "kxx_ker = p53_kxx(active_dims=[0])\n",
    "t1 = dataset_train.X\n",
    "\n",
    "plt.matshow(kxx_ker.gram(t1).to_dense())\n",
    "plt.show()"
   ]
  },
  {
   "cell_type": "code",
   "execution_count": 153,
   "metadata": {},
   "outputs": [
    {
     "data": {
      "image/png": "[encoded data removed]",
      "text/plain": [
       "<Figure size 480x480 with 1 Axes>"
      ]
     },
     "metadata": {},
     "output_type": "display_data"
    }
   ],
   "source": [
    "plt.matshow(kxx_ker.gram(testing_times).to_dense())\n",
    "plt.show()"
   ]
  },
  {
   "cell_type": "code",
   "execution_count": 154,
   "metadata": {},
   "outputs": [
    {
     "data": {
      "image/png": "[encoded data removed]",
      "text/plain": [
       "<Figure size 480x480 with 1 Axes>"
      ]
     },
     "metadata": {},
     "output_type": "display_data"
    }
   ],
   "source": [
    "kxf_ker = p53_kxf(active_dims=[0])\n",
    "plt.matshow(kxf_ker.gram(t1).to_dense())\n",
    "plt.show()"
   ]
  },
  {
   "cell_type": "code",
   "execution_count": 155,
   "metadata": {},
   "outputs": [
    {
     "data": {
      "image/png": "[encoded data removed]",
      "text/plain": [
       "<Figure size 480x480 with 1 Axes>"
      ]
     },
     "metadata": {},
     "output_type": "display_data"
    }
   ],
   "source": [
    "plt.matshow(kxf_ker.gram(testing_times).to_dense())\n",
    "plt.show()"
   ]
  },
  {
   "cell_type": "markdown",
   "metadata": {},
   "source": [
    "## Running GPR\n",
    "\n",
    "Todo:\n",
    "\n",
    "- Check Kxf (maths might be wrong)\n",
    "- Look into shared params across sub kernels\n",
    "- Look into how to obtain trained/learned parameters"
   ]
  },
  {
   "cell_type": "code",
   "execution_count": 156,
   "metadata": {},
   "outputs": [],
   "source": [
    "def initialise_gp(kernel, mean, dataset):\n",
    "    prior = gpx.gps.Prior(mean_function=mean, kernel=kernel)\n",
    "    likelihood = gpx.likelihoods.Gaussian(\n",
    "        num_datapoints=dataset.n, obs_stddev=jnp.array([1.0e-3], dtype=jnp.float64)\n",
    "    )\n",
    "    posterior = prior * likelihood\n",
    "    return posterior\n",
    "\n",
    "meanf = gpx.mean_functions.Zero()\n",
    "p53_ker = p53_combined_kernel()\n",
    "\n",
    "posterior = initialise_gp(p53_ker, meanf, dataset_train)"
   ]
  },
  {
   "cell_type": "code",
   "execution_count": 157,
   "metadata": {},
   "outputs": [
    {
     "data": {
      "text/plain": [
       "Array(424156.68078297, dtype=float64)"
      ]
     },
     "execution_count": 157,
     "metadata": {},
     "output_type": "execute_result"
    }
   ],
   "source": [
    "negative_mll = gpx.objectives.ConjugateMLL(negative=True)\n",
    "negative_mll(posterior, train_data=dataset_train)"
   ]
  },
  {
   "cell_type": "code",
   "execution_count": 158,
   "metadata": {},
   "outputs": [],
   "source": [
    "def optimise_mll(posterior, dataset, NIters=1000, key=key):\n",
    "    # define the MLL using dataset_train\n",
    "    objective = gpx.objectives.ConjugateMLL(negative=True)\n",
    "    # Optimise to minimise the MLL\n",
    "    opt_posterior, history = gpx.fit_scipy(\n",
    "        model=posterior,\n",
    "        objective=objective,\n",
    "        train_data=dataset,\n",
    "    )\n",
    "    return opt_posterior"
   ]
  },
  {
   "cell_type": "code",
   "execution_count": 159,
   "metadata": {},
   "outputs": [
    {
     "name": "stdout",
     "output_type": "stream",
     "text": [
      "Optimization terminated successfully.\n",
      "         Current function value: -1.852289\n",
      "         Iterations: 82\n",
      "         Function evaluations: 101\n",
      "         Gradient evaluations: 101\n"
     ]
    }
   ],
   "source": [
    "opt_posterior = optimise_mll(posterior, dataset_train)"
   ]
  },
  {
   "cell_type": "code",
   "execution_count": 160,
   "metadata": {},
   "outputs": [],
   "source": [
    "params1 = jnp.array(jax.flatten_util.ravel_pytree(opt_posterior)[0])"
   ]
  },
  {
   "cell_type": "code",
   "execution_count": 161,
   "metadata": {},
   "outputs": [
    {
     "data": {
      "text/plain": [
       "Array([0.15438698, 2.5       , 2.5       , 0.5       , 0.97204133,\n",
       "       0.87690554, 0.66787405, 0.51648115, 0.90929818], dtype=float64)"
      ]
     },
     "execution_count": 161,
     "metadata": {},
     "output_type": "execute_result"
    }
   ],
   "source": [
    "params1"
   ]
  },
  {
   "cell_type": "code",
   "execution_count": 164,
   "metadata": {},
   "outputs": [
    {
     "data": {
      "text/plain": [
       "5"
      ]
     },
     "execution_count": 164,
     "metadata": {},
     "output_type": "execute_result"
    }
   ],
   "source": [
    "from gpjax.base import meta_leaves\n",
    "\n",
    "meta_leavs = meta_leaves(opt_posterior)\n",
    "len(meta_leavs)"
   ]
  },
  {
   "cell_type": "code",
   "execution_count": 165,
   "metadata": {},
   "outputs": [
    {
     "data": {
      "text/plain": [
       "[({'bijector': <tfp.bijectors.Softplus 'softplus' batch_shape=[] forward_min_event_ndims=0 inverse_min_event_ndims=0 dtype_x=? dtype_y=?>,\n",
       "   'trainable': True,\n",
       "   'pytree_node': True},\n",
       "  Array([0.15438698], dtype=float64)),\n",
       " ({'name': ' kff lengthscale',\n",
       "   'bijector': <tfp.bijectors.Softplus 'softplus' batch_shape=[] forward_min_event_ndims=0 inverse_min_event_ndims=0 dtype_x=? dtype_y=?>,\n",
       "   'trainable': True,\n",
       "   'pytree_node': True},\n",
       "  Array(2.5, dtype=float64)),\n",
       " ({'name': ' kxf lengthscale',\n",
       "   'bijector': <tfp.bijectors.Softplus 'softplus' batch_shape=[] forward_min_event_ndims=0 inverse_min_event_ndims=0 dtype_x=? dtype_y=?>,\n",
       "   'trainable': True,\n",
       "   'pytree_node': True},\n",
       "  Array(2.5, dtype=float64)),\n",
       " ({'name': ' kxx_lengthscale',\n",
       "   'bijector': <tfp.bijectors.Chain 'chain_of_shift_of_scale_of_sigmoid' batch_shape=[] forward_min_event_ndims=0 inverse_min_event_ndims=0 dtype_x=float64 dtype_y=float64 bijectors=[<tfp.bijectors.Shift 'shift' batch_shape=[] forward_min_event_ndims=0 inverse_min_event_ndims=0 dtype_x=float64 dtype_y=float64>, <tfp.bijectors.Scale 'scale' batch_shape=[] forward_min_event_ndims=0 inverse_min_event_ndims=0 dtype_x=float64 dtype_y=float64>, <tfp.bijectors.Sigmoid 'sigmoid' batch_shape=[] forward_min_event_ndims=0 inverse_min_event_ndims=0 dtype_x=? dtype_y=?>]>,\n",
       "   'trainable': True,\n",
       "   'pytree_node': True},\n",
       "  Array(0.5, dtype=float64)),\n",
       " ({'name': ' kxxsensitivity',\n",
       "   'bijector': <tfp.bijectors.Softplus 'softplus' batch_shape=[] forward_min_event_ndims=0 inverse_min_event_ndims=0 dtype_x=? dtype_y=?>,\n",
       "   'trainable': True,\n",
       "   'pytree_node': True},\n",
       "  Array([0.97204133, 0.87690554, 0.66787405, 0.51648115, 0.90929818],      dtype=float64))]"
      ]
     },
     "execution_count": 165,
     "metadata": {},
     "output_type": "execute_result"
    }
   ],
   "source": [
    "meta_leavs"
   ]
  },
  {
   "cell_type": "code",
   "execution_count": 166,
   "metadata": {},
   "outputs": [
    {
     "name": "stdout",
     "output_type": "stream",
     "text": [
      "0.5\n"
     ]
    }
   ],
   "source": [
    "opt_l = opt_posterior.prior.kernel.kernel_xx.l\n",
    "print(opt_l)"
   ]
  },
  {
   "cell_type": "code",
   "execution_count": 52,
   "metadata": {},
   "outputs": [
    {
     "data": {
      "text/plain": [
       "Array(0.66666667, dtype=float64)"
      ]
     },
     "execution_count": 52,
     "metadata": {},
     "output_type": "execute_result"
    }
   ],
   "source": [
    "opt_l / 3.0 - 0.5"
   ]
  },
  {
   "cell_type": "code",
   "execution_count": 170,
   "metadata": {},
   "outputs": [
    {
     "name": "stdout",
     "output_type": "stream",
     "text": [
      "-136.40347149750565\n"
     ]
    }
   ],
   "source": [
    "print(opt_posterior.prior.kernel.unconstrain().kernel_xx.l)"
   ]
  },
  {
   "cell_type": "code",
   "execution_count": 168,
   "metadata": {},
   "outputs": [
    {
     "name": "stdout",
     "output_type": "stream",
     "text": [
      "0.5\n"
     ]
    }
   ],
   "source": [
    "constrained_l = opt_posterior.prior.kernel.kernel_xx.l\n",
    "print(constrained_l)"
   ]
  },
  {
   "cell_type": "code",
   "execution_count": 171,
   "metadata": {},
   "outputs": [
    {
     "name": "stdout",
     "output_type": "stream",
     "text": [
      "2.367377993605564\n"
     ]
    }
   ],
   "source": [
    "constrained_l = opt_posterior.prior.kernel.constrain().kernel_xx.l\n",
    "print(constrained_l)"
   ]
  },
  {
   "cell_type": "code",
   "execution_count": 56,
   "metadata": {},
   "outputs": [
    {
     "data": {
      "text/plain": [
       "[({'bijector': <tfp.bijectors.Softplus 'softplus' batch_shape=[] forward_min_event_ndims=0 inverse_min_event_ndims=0 dtype_x=? dtype_y=?>,\n",
       "   'trainable': True,\n",
       "   'pytree_node': True},\n",
       "  Array([0.15582735], dtype=float64)),\n",
       " ({'name': ' kff lengthscale',\n",
       "   'bijector': <tfp.bijectors.Softplus 'softplus' batch_shape=[] forward_min_event_ndims=0 inverse_min_event_ndims=0 dtype_x=? dtype_y=?>,\n",
       "   'trainable': True,\n",
       "   'pytree_node': True},\n",
       "  Array(2.5, dtype=float64)),\n",
       " ({'name': ' kxf lengthscale',\n",
       "   'bijector': <tfp.bijectors.Softplus 'softplus' batch_shape=[] forward_min_event_ndims=0 inverse_min_event_ndims=0 dtype_x=? dtype_y=?>,\n",
       "   'trainable': True,\n",
       "   'pytree_node': True},\n",
       "  Array(2.5, dtype=float64)),\n",
       " ({'name': ' kxx_lengthscale',\n",
       "   'bijector': <tfp.bijectors.Chain 'chain_of_shift_of_scale_of_sigmoid' batch_shape=[] forward_min_event_ndims=0 inverse_min_event_ndims=0 dtype_x=float64 dtype_y=float64 bijectors=[<tfp.bijectors.Shift 'shift' batch_shape=[] forward_min_event_ndims=0 inverse_min_event_ndims=0 dtype_x=float64 dtype_y=float64>, <tfp.bijectors.Scale 'scale' batch_shape=[] forward_min_event_ndims=0 inverse_min_event_ndims=0 dtype_x=float64 dtype_y=float64>, <tfp.bijectors.Sigmoid 'sigmoid' batch_shape=[] forward_min_event_ndims=0 inverse_min_event_ndims=0 dtype_x=? dtype_y=?>]>,\n",
       "   'trainable': True,\n",
       "   'pytree_node': True},\n",
       "  Array(3.5, dtype=float64)),\n",
       " ({'name': ' kxxsensitivity',\n",
       "   'bijector': <tfp.bijectors.Softplus 'softplus' batch_shape=[] forward_min_event_ndims=0 inverse_min_event_ndims=0 dtype_x=? dtype_y=?>,\n",
       "   'trainable': True,\n",
       "   'pytree_node': True},\n",
       "  Array([1.74720331, 1.57237296, 1.20265764, 0.92665108, 1.63636439],      dtype=float64))]"
      ]
     },
     "execution_count": 56,
     "metadata": {},
     "output_type": "execute_result"
    }
   ],
   "source": [
    "meta_leavs"
   ]
  },
  {
   "cell_type": "code",
   "execution_count": 57,
   "metadata": {},
   "outputs": [
    {
     "data": {
      "text/plain": [
       "(Array([0.15582735, 2.5       , 2.5       , 3.5       , 1.74720331,\n",
       "        1.57237296, 1.20265764, 0.92665108, 1.63636439], dtype=float64),\n",
       " <jax._src.util.HashablePartial at 0x34ea20690>)"
      ]
     },
     "execution_count": 57,
     "metadata": {},
     "output_type": "execute_result"
    }
   ],
   "source": [
    "jax.flatten_util.ravel_pytree(opt_posterior)"
   ]
  },
  {
   "cell_type": "code",
   "execution_count": null,
   "metadata": {},
   "outputs": [],
   "source": []
  },
  {
   "cell_type": "code",
   "execution_count": 58,
   "metadata": {},
   "outputs": [],
   "source": [
    "def steal_diag_params(diag_params, dataset_coll_train, kernel):\n",
    "    meanf = gpx.mean_functions.Zero()\n",
    "    art_posterior = initialise_gp(kernel, meanf, dataset_coll_train)\n",
    "    \n",
    "    ravel_func = jax.flatten_util.ravel_pytree(art_posterior)[1]\n",
    "    \n",
    "    opt_art_posterior = ravel_func(diag_params)\n",
    "    \n",
    "    return opt_art_posterior"
   ]
  },
  {
   "cell_type": "code",
   "execution_count": 59,
   "metadata": {},
   "outputs": [],
   "source": [
    "params1 = jnp.array([2,2,2,2,2])"
   ]
  },
  {
   "cell_type": "code",
   "execution_count": 172,
   "metadata": {},
   "outputs": [
    {
     "data": {
      "text/plain": [
       "Array([0.15438698, 2.5       , 2.5       , 0.5       , 0.97204133,\n",
       "       0.87690554, 0.66787405, 0.51648115, 0.90929818], dtype=float64)"
      ]
     },
     "execution_count": 172,
     "metadata": {},
     "output_type": "execute_result"
    }
   ],
   "source": [
    "stolen_params = steal_diag_params(params1, dataset_train, p53_ker)\n",
    "jnp.array(jax.flatten_util.ravel_pytree(stolen_params)[0])"
   ]
  },
  {
   "cell_type": "code",
   "execution_count": 174,
   "metadata": {},
   "outputs": [
    {
     "data": {
      "text/plain": [
       "ConjugatePosterior(prior=Prior(kernel=p53_combined_kernel(compute_engine=DenseKernelComputation(), active_dims=None, name='p53 Cov', kernel_xx=p53_kxx(compute_engine=DenseKernelComputation(), active_dims=[0], name='kxx', true_s=Array([0.97204133, 0.87690554, 0.66787405, 0.51648115, 0.90929818],      dtype=float64), true_d=Array([0.4, 0.4, 0.4, 0.4, 0.4], dtype=float64), l=Array(0.5, dtype=float64)), kernel_xf=p53_kxf(compute_engine=DenseKernelComputation(), active_dims=[0], name='cross covariance', true_s=Array([1., 1., 1., 1., 1.], dtype=float64), true_d=Array([0.4, 0.4, 0.4, 0.4, 0.4], dtype=float64), l=Array(2.5, dtype=float64)), kernel_ff=p53_kff(compute_engine=DenseKernelComputation(), active_dims=[0], name='RBF', l=Array(2.5, dtype=float64), variance=Array(1., dtype=float64, weak_type=True))), mean_function=Zero(constant=Array([0.], dtype=float32)), jitter=1e-06), likelihood=Gaussian(num_datapoints=35, integrator=AnalyticalGaussianIntegrator(), obs_stddev=Array([0.15438698], dtype=float64)), jitter=1e-06)"
      ]
     },
     "execution_count": 174,
     "metadata": {},
     "output_type": "execute_result"
    }
   ],
   "source": [
    "stolen_params"
   ]
  },
  {
   "cell_type": "code",
   "execution_count": 173,
   "metadata": {},
   "outputs": [
    {
     "data": {
      "text/plain": [
       "Array([0.15438698, 2.5       , 2.5       , 0.5       , 0.97204133,\n",
       "       0.87690554, 0.66787405, 0.51648115, 0.90929818], dtype=float64)"
      ]
     },
     "execution_count": 173,
     "metadata": {},
     "output_type": "execute_result"
    }
   ],
   "source": [
    "jnp.array(jax.flatten_util.ravel_pytree(stolen_params)[0])"
   ]
  },
  {
   "cell_type": "code",
   "execution_count": 95,
   "metadata": {},
   "outputs": [],
   "source": [
    "latent_dist = opt_posterior.predict(testing_times, train_data=dataset_train)"
   ]
  },
  {
   "cell_type": "code",
   "execution_count": 96,
   "metadata": {},
   "outputs": [],
   "source": [
    "predictive_dist = opt_posterior.likelihood(latent_dist)\n",
    "\n",
    "predictive_mean = predictive_dist.mean()\n",
    "predictive_std = predictive_dist.variance()"
   ]
  },
  {
   "cell_type": "code",
   "execution_count": 66,
   "metadata": {},
   "outputs": [],
   "source": [
    "def plot_gp(x_test, predictive_dist):\n",
    "    \"\"\"\n",
    "    Plot LF GP given test points and prediction\n",
    "\n",
    "    Parameters\n",
    "    ----------\n",
    "    x_test: array of shape (n, 3)\n",
    "    predictive_dist:  jax mvn\n",
    "    \"\"\"\n",
    "\n",
    "    predictive_mean = predictive_dist.mean()\n",
    "    predictive_std = predictive_dist.variance()\n",
    "\n",
    "    # (100,)\n",
    "    x_test = x_test[:,0]\n",
    "\n",
    "    import matplotlib as mpl\n",
    "    cols = mpl.rcParams[\"axes.prop_cycle\"].by_key()[\"color\"]\n",
    "    fig, ax = plt.subplots(figsize=(7.5, 2.5))\n",
    "\n",
    "    ax.fill_between(\n",
    "        x_test.squeeze(),\n",
    "        predictive_mean - 2 * predictive_std,\n",
    "        predictive_mean + 2 * predictive_std,\n",
    "        alpha=0.2,\n",
    "        label=\"Two sigma\",\n",
    "        color=cols[1],\n",
    "    )\n",
    "    ax.plot(\n",
    "        x_test,\n",
    "        predictive_mean - 2 * predictive_std,\n",
    "        linestyle=\"--\",\n",
    "        linewidth=1,\n",
    "        color=cols[1],\n",
    "    )\n",
    "    ax.plot(\n",
    "        x_test,\n",
    "        predictive_mean + 2 * predictive_std,\n",
    "        linestyle=\"--\",\n",
    "        linewidth=1,\n",
    "        color=cols[1],\n",
    "    )\n",
    "    \n",
    "    ax.plot(x_test, predictive_mean, label=\"Predictive mean\", color=cols[1])\n",
    "    ax.legend(loc=\"center left\", bbox_to_anchor=(0.975, 0.5))\n",
    "    ax.set_xlabel(\"Time\")\n",
    "    ax.set_ylabel(\"mRNA Expression\")"
   ]
  },
  {
   "cell_type": "code",
   "execution_count": 98,
   "metadata": {},
   "outputs": [
    {
     "data": {
      "image/png": "[encoded data removed]",
      "text/plain": [
       "<Figure size 900x300 with 1 Axes>"
      ]
     },
     "metadata": {},
     "output_type": "display_data"
    }
   ],
   "source": [
    "plot_gp(testing_times, predictive_dist)"
   ]
  },
  {
   "cell_type": "code",
   "execution_count": 615,
   "metadata": {},
   "outputs": [],
   "source": [
    "# use new data loader\n",
    "# plot to check ok\n",
    "# load up kernels\n",
    "# run gp regression\n",
    "# look into shared params\n",
    "# look into how to get learned params"
   ]
  },
  {
   "cell_type": "code",
   "execution_count": 616,
   "metadata": {},
   "outputs": [
    {
     "name": "stdout",
     "output_type": "stream",
     "text": [
      "([Array([0.24181486], dtype=float64), Array(2.5, dtype=float64), Array(1., dtype=float64), Array(2.5, dtype=float64), Array(0.29614982, dtype=float64)], PyTreeDef(CustomNode(ConjugatePosterior[(['likelihood', 'prior'], [('jitter', 1e-06)])], [CustomNode(Gaussian[(['obs_stddev'], [('integrator', AnalyticalGaussianIntegrator()), ('num_datapoints', 35)])], [*]), CustomNode(Prior[(['kernel', 'mean_function'], [('jitter', 1e-06)])], [CustomNode(p53_combined_kernel[(['kernel_ff', 'kernel_xf', 'kernel_xx'], [('active_dims', None), ('compute_engine', DenseKernelComputation()), ('name', 'p53 Cov')])], [CustomNode(p53_kff[(['l', 'variance'], [('active_dims', [0]), ('compute_engine', DenseKernelComputation()), ('name', 'RBF')])], [*, *]), CustomNode(p53_kxf[(['l'], [('active_dims', [0]), ('compute_engine', DenseKernelComputation()), ('name', 'cross covariance'), ('true_d', Array([0.4, 0.4, 0.4, 0.4, 0.4], dtype=float64)), ('true_s', Array([1., 1., 1., 1., 1.], dtype=float64))])], [*]), CustomNode(p53_kxx[(['l'], [('active_dims', [0]), ('compute_engine', DenseKernelComputation()), ('name', 'kxx'), ('true_d', Array([0.4, 0.4, 0.4, 0.4, 0.4], dtype=float64)), ('true_s', Array([1., 1., 1., 1., 1.], dtype=float64))])], [*])]), CustomNode(Zero[([], [('constant', Array([0.], dtype=float32))])], [])])])))\n"
     ]
    }
   ],
   "source": [
    "print(jax.tree_util.tree_flatten(opt_posterior))"
   ]
  },
  {
   "cell_type": "code",
   "execution_count": 619,
   "metadata": {},
   "outputs": [
    {
     "data": {
      "text/plain": [
       "(Array([0.24181486, 2.5       , 1.        , 2.5       , 0.29614982],      dtype=float64),\n",
       " <jax._src.util.HashablePartial at 0x14af89390>)"
      ]
     },
     "execution_count": 619,
     "metadata": {},
     "output_type": "execute_result"
    }
   ],
   "source": [
    "jax.flatten_util.ravel_pytree(opt_posterior)"
   ]
  },
  {
   "cell_type": "code",
   "execution_count": 617,
   "metadata": {},
   "outputs": [
    {
     "data": {
      "text/plain": [
       "[({'bijector': <tfp.bijectors.Softplus 'softplus' batch_shape=[] forward_min_event_ndims=0 inverse_min_event_ndims=0 dtype_x=? dtype_y=?>,\n",
       "   'trainable': True,\n",
       "   'pytree_node': True},\n",
       "  Array([0.24181486], dtype=float64)),\n",
       " ({'name': ' kff lengthscale',\n",
       "   'bijector': <tfp.bijectors.Softplus 'softplus' batch_shape=[] forward_min_event_ndims=0 inverse_min_event_ndims=0 dtype_x=? dtype_y=?>,\n",
       "   'trainable': True,\n",
       "   'pytree_node': True},\n",
       "  Array(2.5, dtype=float64)),\n",
       " ({'name': 'rbf_variance',\n",
       "   'bijector': <tfp.bijectors.Softplus 'softplus' batch_shape=[] forward_min_event_ndims=0 inverse_min_event_ndims=0 dtype_x=? dtype_y=?>,\n",
       "   'trainable': False,\n",
       "   'pytree_node': True},\n",
       "  Array(1., dtype=float64)),\n",
       " ({'name': ' kxf lengthscale',\n",
       "   'bijector': <tfp.bijectors.Softplus 'softplus' batch_shape=[] forward_min_event_ndims=0 inverse_min_event_ndims=0 dtype_x=? dtype_y=?>,\n",
       "   'trainable': True,\n",
       "   'pytree_node': True},\n",
       "  Array(2.5, dtype=float64)),\n",
       " ({'name': ' kxxlengthscale',\n",
       "   'bijector': <tfp.bijectors.Softplus 'softplus' batch_shape=[] forward_min_event_ndims=0 inverse_min_event_ndims=0 dtype_x=? dtype_y=?>,\n",
       "   'trainable': True,\n",
       "   'pytree_node': True},\n",
       "  Array(0.29614982, dtype=float64))]"
      ]
     },
     "execution_count": 617,
     "metadata": {},
     "output_type": "execute_result"
    }
   ],
   "source": [
    "from gpjax.base import meta_leaves\n",
    "\n",
    "meta_leaves(opt_posterior)"
   ]
  },
  {
   "cell_type": "code",
   "execution_count": 449,
   "metadata": {},
   "outputs": [
    {
     "data": {
      "text/plain": [
       "p53_combined_kernel(compute_engine=DenseKernelComputation(), active_dims=None, name='p53 Cov', kernel_xx=p53_kxx(compute_engine=DenseKernelComputation(), active_dims=[0], name='kxx', true_s=Array([1., 1., 1., 1., 1.], dtype=float64), true_d=Array([0.4, 0.4, 0.4, 0.4, 0.4], dtype=float64), l=Array(0.29614982, dtype=float64)), kernel_xf=p53_kxf(compute_engine=DenseKernelComputation(), active_dims=[0], name='cross covariance', true_s=Array([1., 1., 1., 1., 1.], dtype=float64), true_d=Array([0.4, 0.4, 0.4, 0.4, 0.4], dtype=float64), l=Array(2.5, dtype=float64)), kernel_ff=p53_kff(compute_engine=DenseKernelComputation(), active_dims=[0], name='RBF', l=Array(1., dtype=float64), variance=Array(1., dtype=float64)))"
      ]
     },
     "execution_count": 449,
     "metadata": {},
     "output_type": "execute_result"
    }
   ],
   "source": [
    "opt_posterior.prior.kernel"
   ]
  },
  {
   "cell_type": "code",
   "execution_count": 422,
   "metadata": {},
   "outputs": [
    {
     "data": {
      "text/plain": [
       "5"
      ]
     },
     "execution_count": 422,
     "metadata": {},
     "output_type": "execute_result"
    }
   ],
   "source": [
    "len(meta_leaves(opt_posterior))"
   ]
  },
  {
   "cell_type": "code",
   "execution_count": 356,
   "metadata": {},
   "outputs": [
    {
     "name": "stdout",
     "output_type": "stream",
     "text": [
      "Parameters: [Array([0.24181486], dtype=float64), Array(1., dtype=float64), Array(1., dtype=float64), Array(2.5, dtype=float64), Array(0.29614982, dtype=float64)]\n",
      "Tree Structure: PyTreeDef(CustomNode(ConjugatePosterior[(['likelihood', 'prior'], [('jitter', 1e-06)])], [CustomNode(Gaussian[(['obs_stddev'], [('integrator', AnalyticalGaussianIntegrator()), ('num_datapoints', 35)])], [*]), CustomNode(Prior[(['kernel', 'mean_function'], [('jitter', 1e-06)])], [CustomNode(p53_combined_kernel[(['kernel_ff', 'kernel_xf', 'kernel_xx'], [('active_dims', None), ('compute_engine', DenseKernelComputation()), ('name', 'p53 Cov')])], [CustomNode(p53_kff[(['l', 'variance'], [('active_dims', [0]), ('compute_engine', DenseKernelComputation()), ('name', 'RBF')])], [*, *]), CustomNode(p53_kxf[(['l'], [('active_dims', [0]), ('compute_engine', DenseKernelComputation()), ('name', 'cross covariance'), ('true_d', Array([0.4, 0.4, 0.4, 0.4, 0.4], dtype=float64)), ('true_s', Array([1., 1., 1., 1., 1.], dtype=float64))])], [*]), CustomNode(p53_kxx[(['l'], [('active_dims', [0]), ('compute_engine', DenseKernelComputation()), ('name', 'kxx'), ('true_d', Array([0.4, 0.4, 0.4, 0.4, 0.4], dtype=float64)), ('true_s', Array([1., 1., 1., 1., 1.], dtype=float64))])], [*])]), CustomNode(Zero[([], [('constant', Array([0.], dtype=float32))])], [])])]))\n"
     ]
    }
   ],
   "source": [
    "params, tree_structure = jax.tree_util.tree_flatten(opt_posterior)\n",
    "print(\"Parameters:\", params)\n",
    "print(\"Tree Structure:\", tree_structure)"
   ]
  },
  {
   "cell_type": "code",
   "execution_count": 291,
   "metadata": {},
   "outputs": [],
   "source": [
    "pass"
   ]
  }
 ],
 "metadata": {
  "kernelspec": {
   "display_name": "project_wp289",
   "language": "python",
   "name": "python3"
  },
  "language_info": {
   "codemirror_mode": {
    "name": "ipython",
    "version": 3
   },
   "file_extension": ".py",
   "mimetype": "text/x-python",
   "name": "python",
   "nbconvert_exporter": "python",
   "pygments_lexer": "ipython3",
   "version": "3.11.7"
  }
 },
 "nbformat": 4,
 "nbformat_minor": 2
}
