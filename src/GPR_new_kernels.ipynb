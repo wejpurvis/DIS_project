{
 "cells": [
  {
   "cell_type": "markdown",
   "metadata": {},
   "source": [
    "## GPR with New kernels\n",
    "\n",
    "After debugging the `GPJax` kernels to match the `PyTorch` kernels, this notebook will re-implement GPR."
   ]
  },
  {
   "cell_type": "code",
   "execution_count": 1,
   "metadata": {},
   "outputs": [
    {
     "name": "stderr",
     "output_type": "stream",
     "text": [
      "/opt/anaconda3/envs/gpjax_wp289/lib/python3.10/site-packages/tqdm/auto.py:21: TqdmWarning: IProgress not found. Please update jupyter and ipywidgets. See https://ipywidgets.readthedocs.io/en/stable/user_install.html\n",
      "  from .autonotebook import tqdm as notebook_tqdm\n",
      "/opt/anaconda3/envs/gpjax_wp289/lib/python3.10/site-packages/cola/backends/backends.py:75: UserWarning: torch.utils._pytree._register_pytree_node is deprecated. Please use torch.utils._pytree.register_pytree_node instead.\n",
      "  torch.utils._pytree._register_pytree_node(cls, tree_flatten, tree_unflatten)\n"
     ]
    }
   ],
   "source": [
    "import numpy as np\n",
    "import gpjax as gpx\n",
    "import os\n",
    "import jax\n",
    "import matplotlib.pyplot as plt\n",
    "import jax.random as jr\n",
    "\n",
    "from dataclasses import dataclass, field\n",
    "\n",
    "import jax.numpy as jnp\n",
    "from jaxtyping import Float\n",
    "import tensorflow_probability.substrates.jax.bijectors as tfb\n",
    "import tensorflow_probability.substrates.jax.distributions as tfd\n",
    "\n",
    "from gpjax.base import param_field, static_field\n",
    "from gpjax.kernels.base import AbstractKernel\n",
    "from gpjax.kernels.stationary.utils import squared_distance\n",
    "from gpjax.typing import (\n",
    "    Array,\n",
    "    ScalarFloat,\n",
    ")\n",
    "\n",
    "from beartype.typing import Callable\n",
    "from jaxtyping import Int\n",
    "\n",
    "from p53_data import JAXP53_Data, dataset_3d, generate_test_times\n",
    "jax.config.update('jax_enable_x64', True)\n",
    "\n",
    "from matplotlib import rcParams\n",
    "\n",
    "plt.style.use(\"https://raw.githubusercontent.com/JaxGaussianProcesses/GPJax/main/docs/examples/gpjax.mplstyle\")\n",
    "\n",
    "# Check if LaTeX is in notebook path\n",
    "if os.environ.get('PATH') is not None:\n",
    "    if 'TeX' not in os.environ['PATH']:\n",
    "        os.environ['PATH'] += os.pathsep + '/Library/TeX/texbin'\n",
    "\n",
    "colors = rcParams[\"axes.prop_cycle\"].by_key()[\"color\"]\n",
    "\n",
    "import tensorflow_probability.substrates.jax.bijectors as tfb\n",
    "\n",
    "key = jr.PRNGKey(42)"
   ]
  },
  {
   "cell_type": "code",
   "execution_count": 2,
   "metadata": {},
   "outputs": [],
   "source": [
    "p53_data = JAXP53_Data(replicate=0)\n",
    "training_times, gene_expressions, variances = dataset_3d(p53_data)"
   ]
  },
  {
   "cell_type": "code",
   "execution_count": 3,
   "metadata": {},
   "outputs": [],
   "source": [
    "@dataclass\n",
    "class latent_kernel(gpx.kernels.AbstractKernel):\n",
    "    r\"Combined covariance for learning the latent replication of p53\"\n",
    "\n",
    "    name: str = \"p53 Cov\"\n",
    "\n",
    "    # Define parameters\n",
    "\n",
    "    # Sensitivities of the genes\n",
    "    initial_sensitivities = jnp.array([1.0, 1.0, 1.0, 1.0, 1.0], dtype=jnp.float64)\n",
    "\n",
    "    true_s: Float[Array, \"1 5\"] = param_field(\n",
    "        initial_sensitivities,\n",
    "        bijector=tfb.Softplus(),\n",
    "        metadata={\"name\": \" kxx_sensitivities\"},\n",
    "        trainable=True,\n",
    "    )\n",
    "\n",
    "    # Degradation rates of the genes\n",
    "    initial_decays = jnp.array([0.4, 0.4, 0.4, 0.4, 0.4], dtype=jnp.float64)\n",
    "\n",
    "    true_d: Float[Array, \"1 5\"] = param_field(\n",
    "        initial_decays,\n",
    "        bijector=tfb.Softplus(),\n",
    "        metadata={\"name\": \" kxx_degradations\"},\n",
    "        trainable=True,\n",
    "    )\n",
    "\n",
    "    # Sigmoid to map real numbers to (0,1) and then scales and shifts to get(0.5, 3.5) # NOTE: tfb.Chain acts Right to Left\n",
    "    l_bijector = tfb.Chain(\n",
    "        [\n",
    "            tfb.Shift(jnp.array(0.5, dtype=jnp.float64)),\n",
    "            tfb.Scale(jnp.array(3.0, dtype=jnp.float64)),\n",
    "            tfb.Sigmoid(),\n",
    "        ]\n",
    "    )\n",
    "\n",
    "    initial_lengthscale = jnp.array(2.5, dtype=jnp.float64)\n",
    "\n",
    "    l: Float[Array, \" O\"] = param_field(\n",
    "        initial_lengthscale, bijector=l_bijector, metadata={\"name\": \"lengthscale\"}\n",
    "    )\n",
    "\n",
    "    # Redefine parameters as static fields\n",
    "    #true_s: Float[Array, \"1 5\"] = static_field(jnp.array([1.0,1.0,1.0,1.0,1.0]))\n",
    "    #true_d: Float[Array, \"1 5\"] = static_field(jnp.array([0.4,0.4,0.4,0.4,0.4]))\n",
    "    #l: Float[Array, \" O\"] = static_field(jnp.array(2.5))\n",
    "\n",
    "    def __call__(self, t: Float[Array, \"1 3\"], t_prime: Float[Array, \"1 3\"]) -> ScalarFloat:\n",
    "        \n",
    "        # Get flag from input (1 = gene expression, 0 = latent force function)\n",
    "        f1 = jnp.array(t[2], dtype=int)\n",
    "        f2 = jnp.array(t_prime[2], dtype=int)\n",
    "\n",
    "        # Cannot use if statements in kernels -> use switches\n",
    "        kxx_switch = f1 * f2\n",
    "        kff_switch = (1 - f1) * (1 - f2)\n",
    "        kxf_switch = f1 * (1 - f2)\n",
    "        kxf_t_switch = (1 - f1) * f2\n",
    "\n",
    "        final_kernel = (\n",
    "            kxx_switch * self.kernel_xx(t, t_prime)\n",
    "            + kff_switch * self.kernel_ff(t, t_prime)\n",
    "            + kxf_switch * self.kernel_xf(t, t_prime)\n",
    "            + kxf_t_switch * self.kernel_xf(t, t_prime).T\n",
    "        )\n",
    "\n",
    "        return final_kernel\n",
    "    \n",
    "    def kernel_xx(self, t: Float[Array, \"1 3\"], t_prime: Float[Array, \"1 3\"]) -> ScalarFloat:\n",
    "        \n",
    "        # Get gene indices\n",
    "        j = t[1].astype(int)\n",
    "        k = t_prime[1].astype(int)\n",
    "\n",
    "        t = t[0]\n",
    "        t_prime = t_prime[0]\n",
    "\n",
    "        # Equation 5\n",
    "        mult = self.true_s[j] * self.true_s[k] * self.l * jnp.sqrt(jnp.pi) * 0.5\n",
    "        second_term = self.h(k, j, t_prime, t) + self.h(j, k, t, t_prime)\n",
    "\n",
    "        kxx = mult * second_term\n",
    "        \n",
    "        return kxx.squeeze()\n",
    "    \n",
    "    def kernel_xf(self, t: Float[Array, \"1 3\"], t_prime: Float[Array, \"1 3\"]) -> ScalarFloat:\n",
    "        \n",
    "        gene_xpr = jnp.where(t[2] == 0, t_prime, t)\n",
    "        latent_force = jnp.where(t[2] == 0, t, t_prime)\n",
    "\n",
    "        j = gene_xpr[1].astype(int)\n",
    "\n",
    "        # Slice inputs\n",
    "        gene_xpr = gene_xpr[0]\n",
    "        latent_force = latent_force[0]\n",
    "\n",
    "        t_dist = gene_xpr - latent_force\n",
    "\n",
    "        first_term = 0.5 * self.l * jnp.sqrt(jnp.pi) * self.true_s[j]\n",
    "        first_expon_term = jnp.exp(self.gamma(j) ** 2)\n",
    "        second_expon_term = jnp.exp(-self.true_d[j] * t_dist)\n",
    "        erf_terms = jax.scipy.special.erf(\n",
    "            (t_dist / self.l) - self.gamma(j)\n",
    "        ) + jax.scipy.special.erf(latent_force / self.l + self.gamma(j))\n",
    "\n",
    "        kxf = first_term * first_expon_term * second_expon_term * erf_terms\n",
    "        \n",
    "        return kxf.squeeze()\n",
    "    \n",
    "    def kernel_ff(self, t: Float[Array, \"1 3\"], t_prime: Float[Array, \"1 3\"]) -> ScalarFloat:\n",
    "            \n",
    "        t = t[0].reshape(-1)\n",
    "        t_prime = t_prime[0].reshape(-1)\n",
    "\n",
    "        sq_dist = jnp.square(t.reshape(-1, 1) - t_prime)\n",
    "        sq_dist = jnp.divide(sq_dist, 2 * self.l.reshape((-1, 1)))\n",
    "\n",
    "        K = jnp.exp(-sq_dist)\n",
    "\n",
    "        return K.squeeze() \n",
    "    \n",
    "    # Helper functions\n",
    "    def h(self, j: Float[Array, \" O\"], k: Float[Array, \" O\"], t1: Float[Array, \" O\"], t2: Float[Array, \" O\"]) -> ScalarFloat:\n",
    "        \"\"\"\n",
    "        Analytical solution for the convolution of the exponential kernel with a step function.\n",
    "        \"\"\"\n",
    "\n",
    "        # Debug print\n",
    "        \"\"\"\n",
    "        print(f\"j: {j}\")\n",
    "        print(f\"k: {k}\")\n",
    "        print(f\"t1: {t1}\")\n",
    "        print(f\"t2: {t2}\")\n",
    "        \"\"\"\n",
    "        t_dist = t2 - t1\n",
    "\n",
    "        multiplier = jnp.exp(self.gamma(k) ** 2) / (self.true_d[j] + self.true_d[k])\n",
    "\n",
    "        first_multiplier = jnp.exp(-self.true_d[k] * t_dist)\n",
    "        \n",
    "        first_erf_terms = jax.scipy.special.erf(\n",
    "            (t_dist / self.l) - self.gamma(k)\n",
    "        ) + jax.scipy.special.erf(t1 / self.l + self.gamma(k))\n",
    "\n",
    "        second_multiplier = jnp.exp(-(self.true_d[k] * t2 + self.true_d[j] * t1))\n",
    "        \n",
    "        second_erf_terms = jax.scipy.special.erf(\n",
    "            (t2 / self.l) - self.gamma(k)\n",
    "        ) + jax.scipy.special.erf(self.gamma(k))\n",
    "\n",
    "        result = multiplier * (\n",
    "            jnp.multiply(first_multiplier, first_erf_terms)\n",
    "            - jnp.multiply(second_multiplier, second_erf_terms)\n",
    "        )\n",
    "\n",
    "        #print(f\"result: {result}\")\n",
    "        return result\n",
    "\n",
    "    def gamma(self, k: Float[Array, \" O\"]) -> ScalarFloat:\n",
    "        # Gamma term for h function\n",
    "        return (self.true_d[k] * self.l) / 2"
   ]
  },
  {
   "cell_type": "markdown",
   "metadata": {},
   "source": [
    "## GPR\n",
    "\n",
    "Using zero mean for now."
   ]
  },
  {
   "cell_type": "code",
   "execution_count": 4,
   "metadata": {},
   "outputs": [],
   "source": [
    "def optimise_mll(posterior, dataset, NIters=1000, key=key):\n",
    "    # define the MLL using dataset_train\n",
    "    objective = gpx.objectives.ConjugateMLL(negative=True)\n",
    "    print(f'MLL before opt: {objective(posterior, dataset):.3f}')\n",
    "    # Optimise to minimise the MLL\n",
    "    opt_posterior, history = gpx.fit_scipy(\n",
    "        model=posterior,\n",
    "        objective=objective,\n",
    "        train_data=dataset,\n",
    "    )\n",
    "    return opt_posterior, history"
   ]
  },
  {
   "cell_type": "code",
   "execution_count": null,
   "metadata": {},
   "outputs": [],
   "source": []
  },
  {
   "cell_type": "code",
   "execution_count": 5,
   "metadata": {},
   "outputs": [],
   "source": [
    "dataset_train = gpx.Dataset(training_times, gene_expressions)\n",
    "\n",
    "testing_times = generate_test_times()"
   ]
  },
  {
   "cell_type": "code",
   "execution_count": 6,
   "metadata": {},
   "outputs": [],
   "source": [
    "mean = gpx.mean_functions.Zero()\n",
    "kernel = latent_kernel()\n",
    "\n",
    "# Define the model\n",
    "prior = gpx.gps.Prior(mean_function = mean, kernel = kernel, jitter=1e-4)\n",
    "likelihood = gpx.likelihoods.Gaussian(num_datapoints=dataset_train.n)\n",
    "posterior = prior * likelihood"
   ]
  },
  {
   "cell_type": "code",
   "execution_count": 7,
   "metadata": {},
   "outputs": [
    {
     "name": "stderr",
     "output_type": "stream",
     "text": [
      "/opt/anaconda3/envs/gpjax_wp289/lib/python3.10/site-packages/cola/backends/backends.py:75: UserWarning: torch.utils._pytree._register_pytree_node is deprecated. Please use torch.utils._pytree.register_pytree_node instead.\n",
      "  torch.utils._pytree._register_pytree_node(cls, tree_flatten, tree_unflatten)\n",
      "/opt/anaconda3/envs/gpjax_wp289/lib/python3.10/site-packages/cola/backends/backends.py:75: UserWarning: torch.utils._pytree._register_pytree_node is deprecated. Please use torch.utils._pytree.register_pytree_node instead.\n",
      "  torch.utils._pytree._register_pytree_node(cls, tree_flatten, tree_unflatten)\n"
     ]
    },
    {
     "name": "stdout",
     "output_type": "stream",
     "text": [
      "MLL before opt: 44.145\n",
      "Optimization terminated successfully.\n",
      "         Current function value: 8.756255\n",
      "         Iterations: 38\n",
      "         Function evaluations: 44\n",
      "         Gradient evaluations: 44\n"
     ]
    }
   ],
   "source": [
    "optimised_posterior, history = optimise_mll(posterior, dataset_train)"
   ]
  },
  {
   "cell_type": "code",
   "execution_count": 9,
   "metadata": {},
   "outputs": [
    {
     "name": "stderr",
     "output_type": "stream",
     "text": [
      "/opt/anaconda3/envs/gpjax_wp289/lib/python3.10/site-packages/cola/backends/backends.py:75: UserWarning: torch.utils._pytree._register_pytree_node is deprecated. Please use torch.utils._pytree.register_pytree_node instead.\n",
      "  torch.utils._pytree._register_pytree_node(cls, tree_flatten, tree_unflatten)\n"
     ]
    }
   ],
   "source": [
    "latent_dist = optimised_posterior.predict(testing_times, train_data=dataset_train)\n",
    "predictive_dist = optimised_posterior.likelihood(latent_dist)"
   ]
  },
  {
   "cell_type": "code",
   "execution_count": 10,
   "metadata": {},
   "outputs": [
    {
     "name": "stdout",
     "output_type": "stream",
     "text": [
      "[0.5516667  0.44035638 0.33760997 0.26101191 0.22481172 0.22088422\n",
      " 0.22308995 0.21387686 0.19250786 0.17298358 0.17546265 0.20288686\n",
      " 0.2373705  0.26198998 0.26912458 0.25931073 0.23849422 0.21425594\n",
      " 0.19169604 0.17206537 0.15672855 0.15243222 0.1672968  0.19830467\n",
      " 0.23252782 0.25774245 0.26723376 0.2604293  0.2417597  0.21795779\n",
      " 0.19446189 0.1735073  0.15680177 0.15054425 0.16308185 0.19285293\n",
      " 0.22760786 0.25476355 0.26682295 0.26235035 0.24512278 0.22171078\n",
      " 0.19793976 0.1764994  0.15885257 0.15036371 0.15978391 0.18763325\n",
      " 0.22260678 0.25160567 0.26620346 0.26406774 0.24837118 0.22559144\n",
      " 0.20193688 0.18040283 0.16196691 0.15101996 0.15698958 0.18317671\n",
      " 0.21925535 0.25086868 0.26791632 0.26697443 0.25158428 0.23067328\n",
      " 0.2136476  0.2030056  0.19253654 0.17630432 0.16236237 0.18046797\n",
      " 0.2501731  0.35549361 0.47503954 0.59363643 0.7011199  0.79146364\n",
      " 0.86228252 0.91413795]\n",
      "[nan nan nan nan nan nan nan nan nan nan nan nan nan nan nan nan nan nan\n",
      " nan nan nan nan nan nan nan nan nan nan nan nan nan nan nan nan nan nan\n",
      " nan nan nan nan nan nan nan nan nan nan nan nan nan nan nan nan nan nan\n",
      " nan nan nan nan nan nan nan nan nan nan nan nan nan nan nan nan nan nan\n",
      " nan nan nan nan nan nan nan nan]\n"
     ]
    },
    {
     "name": "stderr",
     "output_type": "stream",
     "text": [
      "/opt/anaconda3/envs/gpjax_wp289/lib/python3.10/site-packages/cola/backends/backends.py:75: UserWarning: torch.utils._pytree._register_pytree_node is deprecated. Please use torch.utils._pytree.register_pytree_node instead.\n",
      "  torch.utils._pytree._register_pytree_node(cls, tree_flatten, tree_unflatten)\n"
     ]
    }
   ],
   "source": [
    "print(latent_dist.stddev())\n",
    "print(predictive_dist.stddev())"
   ]
  },
  {
   "cell_type": "code",
   "execution_count": 12,
   "metadata": {},
   "outputs": [],
   "source": [
    "def plot_gp(x_test, predictive_dist):\n",
    "    \"\"\"\n",
    "    Plot LF GP given test points and prediction\n",
    "\n",
    "    Parameters\n",
    "    ----------\n",
    "    x_test: array of shape (n, 3)\n",
    "    predictive_dist:  jax mvn\n",
    "    \"\"\"\n",
    "\n",
    "    predictive_mean = predictive_dist.mean()\n",
    "    predictive_std = predictive_dist.variance()\n",
    "\n",
    "    # (100,)\n",
    "    x_test = x_test[:,0]\n",
    "\n",
    "    import matplotlib as mpl\n",
    "    cols = mpl.rcParams[\"axes.prop_cycle\"].by_key()[\"color\"]\n",
    "    fig, ax = plt.subplots(figsize=(7.5, 2.5))\n",
    "\n",
    "    ax.fill_between(\n",
    "        x_test.squeeze(),\n",
    "        predictive_mean - 2 * predictive_std,\n",
    "        predictive_mean + 2 * predictive_std,\n",
    "        alpha=0.2,\n",
    "        label=\"Two sigma\",\n",
    "        color=cols[1],\n",
    "    )\n",
    "    ax.plot(\n",
    "        x_test,\n",
    "        predictive_mean - 2 * predictive_std,\n",
    "        linestyle=\"--\",\n",
    "        linewidth=1,\n",
    "        color=cols[1],\n",
    "    )\n",
    "    ax.plot(\n",
    "        x_test,\n",
    "        predictive_mean + 2 * predictive_std,\n",
    "        linestyle=\"--\",\n",
    "        linewidth=1,\n",
    "        color=cols[1],\n",
    "    )\n",
    "    \n",
    "    ax.plot(x_test, predictive_mean, label=\"Predictive mean\", color=cols[1])\n",
    "    ax.legend(loc=\"center left\", bbox_to_anchor=(0.975, 0.5))\n",
    "    ax.set_xlabel(\"Time\")\n",
    "    ax.set_ylabel(\"mRNA Expression\")"
   ]
  },
  {
   "cell_type": "code",
   "execution_count": 14,
   "metadata": {},
   "outputs": [
    {
     "data": {
      "image/png": "[encoded data removed]",
      "text/plain": [
       "<Figure size 900x300 with 1 Axes>"
      ]
     },
     "metadata": {},
     "output_type": "display_data"
    }
   ],
   "source": [
    "plot_gp(testing_times, predictive_dist)"
   ]
  },
  {
   "cell_type": "markdown",
   "metadata": {},
   "source": [
    "### GPR with custom predict method"
   ]
  },
  {
   "cell_type": "code",
   "execution_count": 16,
   "metadata": {},
   "outputs": [],
   "source": [
    "import cola\n",
    "from gpjax.dataset import Dataset\n",
    "from gpjax.distributions import GaussianDistribution\n",
    "from jaxtyping import Num\n",
    "\n",
    "class opt_p53_posterior(gpx.gps.ConjugatePosterior):\n",
    "\n",
    "    def custom_predict(self, test_inputs: Num[Array, \"N D\"], train_data: Dataset) -> GaussianDistribution:\n",
    "\n",
    "        jitter = 1e-3\n",
    "        \n",
    "        x, y = train_data.X, train_data.y\n",
    "        t = test_inputs\n",
    "\n",
    "        diag_variances = jnp.diag(variances.reshape(-1))\n",
    "         \n",
    "        Kxx = self.prior.kernel.gram(x)\n",
    "        Kxx += diag_variances\n",
    "        Kxx += cola.ops.I_like(Kxx) * self.prior.jitter # + 1e-4\n",
    "        #Kxx += cola.ops.I_like(Kxx) * jitter\n",
    "        K_inv = cola.inv(Kxx)\n",
    "\n",
    "        Kxf = self.prior.kernel.cross_covariance(x, t)\n",
    "        KfxKxx = jnp.matmul(Kxf.T, K_inv.to_dense())\n",
    "        mean = jnp.matmul(KfxKxx, y)\n",
    "\n",
    "        Kff = self.prior.kernel.gram(t)\n",
    "        Kff += cola.ops.I_like(Kff) * jitter # + 1e-3\n",
    "\n",
    "        var = Kff - jnp.matmul(KfxKxx, Kxf)\n",
    "        var = jnp.diag(jnp.diag(var.to_dense()))\n",
    "        var += cola.ops.I_like(var) * jitter\n",
    "\n",
    "         \n",
    "        return GaussianDistribution(jnp.atleast_1d(mean.squeeze()), var)"
   ]
  },
  {
   "cell_type": "code",
   "execution_count": 19,
   "metadata": {},
   "outputs": [],
   "source": [
    "custom_posterior = opt_p53_posterior(prior=optimised_posterior.prior, likelihood=optimised_posterior.likelihood)\n",
    "\n",
    "latent_custom = custom_posterior.custom_predict(testing_times, dataset_train)"
   ]
  },
  {
   "cell_type": "code",
   "execution_count": 20,
   "metadata": {},
   "outputs": [
    {
     "data": {
      "text/plain": [
       "Array([0.5867823 , 0.48013037, 0.37900797, 0.29888029, 0.25386596,\n",
       "       0.24209733, 0.24294986, 0.23770398, 0.22242908, 0.20899632,\n",
       "       0.21826888, 0.25787354, 0.31275149, 0.36304398, 0.39470852,\n",
       "       0.40045208, 0.37917424, 0.33577007, 0.28187895, 0.23796528,\n",
       "       0.22973797, 0.26356763, 0.3180624 , 0.37092937, 0.40932746,\n",
       "       0.42756262, 0.42485043, 0.40392149, 0.36974794, 0.32832948,\n",
       "       0.2860623 , 0.25031741, 0.23042985, 0.23477593, 0.26271972,\n",
       "       0.30359413, 0.34449526, 0.37537524, 0.39021766, 0.38693474,\n",
       "       0.36674524, 0.333265  , 0.29186564, 0.2500905 , 0.21909005,\n",
       "       0.21186784, 0.23211177, 0.26813405, 0.30403242, 0.32843672,\n",
       "       0.33596138, 0.32666615, 0.30473849, 0.27616707, 0.24592509,\n",
       "       0.21657115, 0.19037742, 0.17398912, 0.17811382, 0.20498542,\n",
       "       0.24252273, 0.27565564, 0.29434106, 0.29528531, 0.28164778,\n",
       "       0.2610871 , 0.24138601, 0.22501415, 0.20819836, 0.18818535,\n",
       "       0.17536068, 0.19764485, 0.26918751, 0.37374663, 0.49125532,\n",
       "       0.60723475, 0.71195488, 0.79970306, 0.86829844, 0.91839926],      dtype=float64)"
      ]
     },
     "execution_count": 20,
     "metadata": {},
     "output_type": "execute_result"
    }
   ],
   "source": [
    "latent_custom.stddev()"
   ]
  },
  {
   "cell_type": "code",
   "execution_count": 21,
   "metadata": {},
   "outputs": [],
   "source": [
    "predictive_dist_custom = optimised_posterior.likelihood(latent_custom)"
   ]
  },
  {
   "cell_type": "code",
   "execution_count": 22,
   "metadata": {},
   "outputs": [
    {
     "data": {
      "text/plain": [
       "Array([0.61065627, 0.50903123, 0.41501164, 0.34339051, 0.30501728,\n",
       "       0.29529432, 0.29599366, 0.29170327, 0.27939634, 0.26882536,\n",
       "       0.27609585, 0.30836079, 0.35552934, 0.40048539, 0.42939776,\n",
       "       0.4346832 , 0.41516349, 0.3759377 , 0.32869949, 0.29191624,\n",
       "       0.28524928, 0.31313816, 0.36021009, 0.40764717, 0.4428731 ,\n",
       "       0.45977974, 0.45725868, 0.43788147, 0.40657245, 0.36930728,\n",
       "       0.33229393, 0.30207023, 0.2858068 , 0.28932223, 0.31242482,\n",
       "       0.34750109, 0.3837507 , 0.41169672, 0.42527337, 0.42226308,\n",
       "       0.40384364, 0.37370199, 0.33730278, 0.30188222, 0.27674549,\n",
       "       0.27106382, 0.28716457, 0.3169913 , 0.34788407, 0.36940262,\n",
       "       0.37610858, 0.36782929, 0.34850131, 0.32381455, 0.29844055,\n",
       "       0.27475567, 0.25461967, 0.24261045, 0.24558532, 0.2657191 ,\n",
       "       0.29564318, 0.32337848, 0.33944701, 0.34026611, 0.32850128,\n",
       "       0.3110532 , 0.29471142, 0.28145867, 0.26820546, 0.25298487,\n",
       "       0.24359594, 0.26009826, 0.31788289, 0.41021233, 0.51953768,\n",
       "       0.63033456, 0.73175636, 0.81738155, 0.88460714, 0.9338334 ],      dtype=float64)"
      ]
     },
     "execution_count": 22,
     "metadata": {},
     "output_type": "execute_result"
    }
   ],
   "source": [
    "predictive_dist_custom.stddev()"
   ]
  },
  {
   "cell_type": "code",
   "execution_count": 23,
   "metadata": {},
   "outputs": [
    {
     "data": {
      "image/png": "[encoded data removed]",
      "text/plain": [
       "<Figure size 900x300 with 1 Axes>"
      ]
     },
     "metadata": {},
     "output_type": "display_data"
    }
   ],
   "source": [
    "plot_gp(testing_times, predictive_dist_custom)"
   ]
  }
 ],
 "metadata": {
  "kernelspec": {
   "display_name": "gpjax_wp289",
   "language": "python",
   "name": "python3"
  },
  "language_info": {
   "codemirror_mode": {
    "name": "ipython",
    "version": 3
   },
   "file_extension": ".py",
   "mimetype": "text/x-python",
   "name": "python",
   "nbconvert_exporter": "python",
   "pygments_lexer": "ipython3",
   "version": "3.10.14"
  }
 },
 "nbformat": 4,
 "nbformat_minor": 2
}
