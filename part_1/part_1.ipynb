{
 "cells": [
  {
   "cell_type": "markdown",
   "metadata": {},
   "source": [
    "# p53 Data"
   ]
  },
  {
   "cell_type": "code",
   "execution_count": 1,
   "metadata": {},
   "outputs": [],
   "source": [
    "import os\n",
    "import read_cel\n",
    "\n",
    "# load datheader line from .cel file\n",
    "current_dir = os.getcwd()\n",
    "cARP1_0hrs = os.path.join(current_dir,'..','data','E_MEXP_549', 'cARP1-0hrs.CEL')\n",
    "cARP1_0hrs_fp = os.path.abspath(cARP1_0hrs)\n",
    "\n",
    "cARP1 = read_cel.parse_cel_file(cARP1_0hrs_fp)"
   ]
  }
 ],
 "metadata": {
  "kernelspec": {
   "display_name": "project_wp289",
   "language": "python",
   "name": "python3"
  },
  "language_info": {
   "codemirror_mode": {
    "name": "ipython",
    "version": 3
   },
   "file_extension": ".py",
   "mimetype": "text/x-python",
   "name": "python",
   "nbconvert_exporter": "python",
   "pygments_lexer": "ipython3",
   "version": "3.12.0"
  }
 },
 "nbformat": 4,
 "nbformat_minor": 2
}
