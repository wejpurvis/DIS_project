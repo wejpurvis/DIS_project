{
 "cells": [
  {
   "cell_type": "markdown",
   "metadata": {},
   "source": [
    "# Custom Kernel for latent forces"
   ]
  },
  {
   "cell_type": "code",
   "execution_count": 441,
   "metadata": {},
   "outputs": [],
   "source": [
    "import numpy as np\n",
    "import gpjax as gpx\n",
    "import os\n",
    "import jax\n",
    "import matplotlib.pyplot as plt\n",
    "import jax.random as jr\n",
    "\n",
    "from dataclasses import dataclass, field\n",
    "\n",
    "from beartype.typing import Union\n",
    "import jax.numpy as jnp\n",
    "from jaxtyping import Float\n",
    "import tensorflow_probability.substrates.jax.bijectors as tfb\n",
    "import tensorflow_probability.substrates.jax.distributions as tfd\n",
    "\n",
    "from gpjax.base import param_field, static_field\n",
    "from gpjax.kernels.base import AbstractKernel\n",
    "from gpjax.kernels.stationary.utils import squared_distance\n",
    "from gpjax.typing import (\n",
    "    Array,\n",
    "    ScalarFloat,\n",
    ")\n",
    "\n",
    "from beartype.typing import Callable\n",
    "from jaxtyping import Int\n",
    "\n",
    "from p53_dataset import JAXP53_Data, load_barenco_data, flatten_dataset_jax\n",
    "jax.config.update('jax_enable_x64', True)\n",
    "\n",
    "from matplotlib import rcParams\n",
    "\n",
    "plt.style.use(\"https://raw.githubusercontent.com/JaxGaussianProcesses/GPJax/main/docs/examples/gpjax.mplstyle\")\n",
    "\n",
    "# Check if LaTeX is in notebook path\n",
    "if os.environ.get('PATH') is not None:\n",
    "    if 'TeX' not in os.environ['PATH']:\n",
    "        os.environ['PATH'] += os.pathsep + '/Library/TeX/texbin'\n",
    "\n",
    "colors = rcParams[\"axes.prop_cycle\"].by_key()[\"color\"]\n",
    "\n",
    "import tensorflow_probability.substrates.jax.bijectors as tfb"
   ]
  },
  {
   "cell_type": "code",
   "execution_count": 442,
   "metadata": {},
   "outputs": [],
   "source": [
    "# Define basal transcription rate (B), transcript degradation rate (D), sensitivity of gene (S)\n",
    "def params_ground_truth():\n",
    "    B_exact = np.array([0.0649, 0.0069, 0.0181, 0.0033, 0.0869])\n",
    "    S_exact = np.array([0.9075, 0.9748, 0.9785, 1.0000, 0.9680])\n",
    "    D_exact = np.array([0.2829, 0.3720, 0.3617, 0.8000, 0.3573])\n",
    "    return B_exact, S_exact, D_exact\n",
    "\n",
    "# Define transcription rates measured by Barenco et al. (plotted points on GP graph)\n",
    "f_observed = np.array([0.1845,1.1785,1.6160,0.8156,0.6862,-0.1828, 0.5131])"
   ]
  },
  {
   "cell_type": "code",
   "execution_count": 443,
   "metadata": {},
   "outputs": [],
   "source": [
    "# Load the data\n",
    "data_dir = os.path.join(os.getcwd(), '..', 'data')\n",
    "(original_genes_df, genes_transformed), (tfs_df, tfs_transformed), gene_var, tf_var, times = load_barenco_data(data_dir)\n",
    "\n",
    "p53_data = JAXP53_Data(replicate=3)\n",
    "train_t , train_y = flatten_dataset_jax(p53_data)\n",
    "\n",
    "# Set random key\n",
    "key = jr.PRNGKey(123)"
   ]
  },
  {
   "cell_type": "code",
   "execution_count": 444,
   "metadata": {},
   "outputs": [],
   "source": [
    "# TODO: move this to data class itself (?)\n",
    "\n",
    "num_genes = p53_data.num_outputs\n",
    "# (num_genes, dimension, num_timepoints)\n",
    "gene_data = jnp.array([p53_data[i] for i in range(num_genes)])\n",
    "\n",
    "time_points = gene_data[0,0,:]\n",
    "time_points_repeated = jnp.repeat(time_points, gene_data.shape[0])\n",
    "gene_indices = jnp.repeat(jnp.arange(gene_data.shape[0]), len(time_points))\n",
    "\n",
    "\n",
    "# Shape (t x j) x 3 where t is timepoints and j is genes\n",
    "training_times = jnp.stack((time_points_repeated, gene_indices, jnp.ones(num_genes * len(time_points), dtype=int)), axis=-1)\n",
    "\n",
    "\n",
    "# Shape (t x j) x 1 where t is timepoints and j is genes\n",
    "gene_expressions = gene_data[:,1,:].flatten().reshape(-1,1)\n",
    "\n",
    "dataset_train = gpx.Dataset(training_times, gene_expressions)"
   ]
  },
  {
   "cell_type": "code",
   "execution_count": 445,
   "metadata": {},
   "outputs": [
    {
     "data": {
      "text/plain": [
       "(100, 3)"
      ]
     },
     "execution_count": 445,
     "metadata": {},
     "output_type": "execute_result"
    }
   ],
   "source": [
    "# Generate test points (t, i, 1):\n",
    "\n",
    "def gen_test_times(t=100):\n",
    "    \"\"\"\n",
    "    Generate testing times for the model of shape (N, 3) where N is the number of testing times. Default is N = 100\n",
    "    \"\"\"\n",
    "    times = jnp.linspace(0, 12, t)\n",
    "    # Gene indices shouldn't matter\n",
    "    gene_indices = jnp.repeat(-1, t)\n",
    "    testing_times = jnp.stack((times, gene_indices, jnp.repeat(0,t)), axis=-1)\n",
    "    return testing_times\n",
    "\n",
    "gen_test_times().shape"
   ]
  },
  {
   "cell_type": "code",
   "execution_count": 446,
   "metadata": {},
   "outputs": [],
   "source": [
    "testing_times = gen_test_times()\n",
    "\n",
    "train_row = dataset_train.X[20]\n",
    "test_row = testing_times[20]"
   ]
  },
  {
   "cell_type": "code",
   "execution_count": 447,
   "metadata": {},
   "outputs": [
    {
     "data": {
      "text/plain": [
       "'\\ndef __call__(self, X: \\'Float[Array, \"1 D\"]\\', Xp: \\'Float[Array, \"1 D\"]\\') -> \\'Float[Array, \"1\"]\\':\\n    z = jnp.array(X[2], dtype=int)\\n    zp = jnp.array(Xp[2], dtype=int)\\n\\n    # Switches for different kernel functions\\n    kxx_switch = (1 - z) * (1 - zp)\\n    kff_switch = z * zp\\n    kxf_switch = (1 - z) * zp\\n    kxf_t_switch = z * (1 - zp)\\n\\n    # Compute the kernel value based on the switches\\n    result = (kxx_switch * self.kxx(X, Xp) +\\n                kff_switch * self.kff(X, Xp) +\\n                kxf_switch * self.kxf(X, Xp) +\\n                kxf_t_switch * self.kxf_transpose(X, Xp))\\n    return result\\n        \\n'"
      ]
     },
     "execution_count": 447,
     "metadata": {},
     "output_type": "execute_result"
    }
   ],
   "source": [
    "\"\"\"\n",
    "def __call__(self, X: 'Float[Array, \"1 D\"]', Xp: 'Float[Array, \"1 D\"]') -> 'Float[Array, \"1\"]':\n",
    "    z = jnp.array(X[2], dtype=int)\n",
    "    zp = jnp.array(Xp[2], dtype=int)\n",
    "\n",
    "    # Switches for different kernel functions\n",
    "    kxx_switch = (1 - z) * (1 - zp)\n",
    "    kff_switch = z * zp\n",
    "    kxf_switch = (1 - z) * zp\n",
    "    kxf_t_switch = z * (1 - zp)\n",
    "\n",
    "    # Compute the kernel value based on the switches\n",
    "    result = (kxx_switch * self.kxx(X, Xp) +\n",
    "                kff_switch * self.kff(X, Xp) +\n",
    "                kxf_switch * self.kxf(X, Xp) +\n",
    "                kxf_t_switch * self.kxf_transpose(X, Xp))\n",
    "    return result\n",
    "        \n",
    "\"\"\""
   ]
  },
  {
   "cell_type": "code",
   "execution_count": 468,
   "metadata": {},
   "outputs": [],
   "source": [
    "# Kernel is element wise (i.e. rows)\n",
    "def kernel_switch_testing(X, Y):\n",
    "    \"\"\"\n",
    "    Testing switch implementation for kernel switching.\n",
    "\n",
    "    Parameters:\n",
    "    X: Row of input with shape (1, 3)\n",
    "    Y: Row of input withshape (1, 3)\n",
    "\n",
    "    Returns:\n",
    "        Integer\n",
    "    \"\"\"\n",
    " \n",
    "    f1 = jnp.array(X[2], dtype=int)\n",
    "    f2 = jnp.array(Y[2], dtype=int)\n",
    "    \n",
    "\n",
    "    kxx_switch = f1 * f2\n",
    "    kff_switch = (1 - f1) * (1 - f2)\n",
    "    kxf_switch = f1 * (1 - f2)\n",
    "    kxf_t_switch = (1 - f1) * f2\n",
    "\n",
    "    print(f'kxx: {kxx_switch}')\n",
    "    print(f'kff: {kff_switch}')\n",
    "    print(f'kxf: {kxf_switch}')\n",
    "    print(f'kfx: {kxf_t_switch}')\n",
    "\n",
    "    return None"
   ]
  },
  {
   "cell_type": "code",
   "execution_count": 449,
   "metadata": {},
   "outputs": [],
   "source": [
    "# GPJAX KERNEL IS ELEMENT WISE"
   ]
  },
  {
   "cell_type": "code",
   "execution_count": 450,
   "metadata": {},
   "outputs": [
    {
     "data": {
      "text/plain": [
       "Array(0.54132485, dtype=float32)"
      ]
     },
     "execution_count": 450,
     "metadata": {},
     "output_type": "execute_result"
    }
   ],
   "source": [
    "pos_constraint = tfb.Softplus()\n",
    "\n",
    "init_s = pos_constraint.inverse(1.0)\n",
    "init_s"
   ]
  },
  {
   "cell_type": "code",
   "execution_count": 451,
   "metadata": {},
   "outputs": [
    {
     "name": "stdout",
     "output_type": "stream",
     "text": [
      "called\n",
      "H called\n",
      "1\n"
     ]
    }
   ],
   "source": [
    "@dataclass\n",
    "class test_kernel(gpx.kernels.AbstractKernel):\n",
    "\n",
    "\n",
    "    def __call__(self, x: Float[Array, \" D\"], y: Float[Array, \" D\"]) -> ScalarFloat:\n",
    "\n",
    "        print('called')\n",
    "\n",
    "\n",
    "        h = self.h()\n",
    "        print(h)\n",
    "\n",
    "        return None\n",
    "    \n",
    "    def h(self):\n",
    "        print('H called')\n",
    "        return 1\n",
    "    \n",
    "test_ker = test_kernel()\n",
    "test_ker(2,2)"
   ]
  },
  {
   "cell_type": "code",
   "execution_count": 527,
   "metadata": {},
   "outputs": [],
   "source": [
    "@dataclass\n",
    "class p53_kxx(gpx.kernels.AbstractKernel):\n",
    "    r\"Covariance function of gene expressions j and k at time t and t'\"\n",
    "\n",
    "    # TODO: review inverse initialisation method - check if init as list or single param\n",
    "    pos_constraint: Callable = tfb.Softplus()\n",
    "    initial_s: Float[Array, \" O\"] = static_field(pos_constraint.inverse(1.0))\n",
    "    initial_d: Float[Array, \" O\"] = static_field(pos_constraint.inverse(0.4))\n",
    "    \n",
    "    # Use dummy variables before trying inverse method\n",
    "    initial_s_test: Float[Array, \" O\"] = static_field(jnp.array([1.0]))\n",
    "    initial_d_test: Float[Array, \" O\"] = static_field(jnp.array([1.0]))\n",
    "\n",
    "    # Define sensitivities for both genes\n",
    "    s_j: Float[Array, \" O\"] = param_field(initial_s_test, bijector=pos_constraint)\n",
    "    s_k: Float[Array, \" O\"] = param_field(initial_s_test, bijector=pos_constraint)\n",
    "\n",
    "    # Define decay rates for both genes\n",
    "    d_j: Float[Array, \" O\"] = param_field(initial_d_test, bijector=pos_constraint)\n",
    "    d_k: Float[Array, \" O\"] = param_field(initial_d_test, bijector=pos_constraint)\n",
    "\n",
    "    # Use measured sensiivities and decays at first\n",
    "    true_s: Float[Array, \"1 5\"] = static_field(jnp.array([0.9075, 0.9748, 0.9785, 1.0000, 0.9680]))\n",
    "    true_d: Float[Array, \"1 5\"] = static_field(jnp.array([0.2829, 0.3720, 0.3617, 0.8000, 0.3573]))\n",
    "\n",
    "    # Use dummy lengthscale at first\n",
    "    l: Float[Array, \" O\"] = static_field(jnp.array([2.5]))\n",
    "    \n",
    "    \n",
    "    def __call__(self, t: Int[Array, \"1 3\"], t_prime: Int[Array, \"1 3\"]) -> ScalarFloat:\n",
    "        \"\"\"\n",
    "        Equation 5 in paper k_xx(t,t')\n",
    "        \"\"\"\n",
    "\n",
    "        # Error trap (JAX friendly)\n",
    "        def check_validity(condition):\n",
    "            if condition:\n",
    "                raise ValueError(\"t or t' cannot be testing points (z=0)\")\n",
    "\n",
    "        condition = jnp.logical_or(t[2] == 0, t_prime[2] == 0)\n",
    "        jax.debug.callback(check_validity, condition)\n",
    "        \n",
    "        # Get gene indices\n",
    "        j = t[1].astype(int)\n",
    "        k = t_prime[1].astype(int)\n",
    "\n",
    "        \"\"\"\n",
    "        print('kxx has been called')\n",
    "        print(self.true_s)\n",
    "        print(self.true_d)\n",
    "        print(t.shape)\n",
    "        print(t_prime.shape)\n",
    "\n",
    "        print(f'lengthscale {self.l}, {type(self.l)}')\n",
    "        \"\"\"\n",
    "\n",
    "        # NOTE: using index yields same results\n",
    "        t = self.slice_input(t)\n",
    "        t_prime = self.slice_input(t_prime)\n",
    "\n",
    "\n",
    "        \"\"\"\n",
    "        print('Inputs have been sliced')\n",
    "        print(t, t.shape)\n",
    "        print(t, t_prime.shape)\n",
    "        \"\"\"\n",
    "\n",
    "        mult = self.true_s[j] * self.true_s[k] * self.l * jnp.sqrt(jnp.pi) * 0.5\n",
    "        second_term = self.h(k,j, t_prime, t) + self.h(j,k, t, t_prime)\n",
    "        \n",
    "\n",
    "        kxx = mult * second_term\n",
    "\n",
    "        \"\"\"\n",
    "        print(second_term.shape)\n",
    "        print(f'mult {mult}, shape: {mult.shape}')\n",
    "        print(f'second term {second_term}, shape: {second_term.shape}')\n",
    "\n",
    "        print(f'kxx shape {kxx.shape}')\n",
    "        \"\"\"\n",
    "\n",
    "        return kxx.squeeze()\n",
    "        \n",
    "    \n",
    "    def h(self,j: Int[Array, \" O\"],k: Int[Array, \" O\"],t1: Int[Array, \" O\"],t2: Int[Array, \" O\"]) -> ScalarFloat:\n",
    "        \"\"\"\n",
    "        Analytical solution for the convolution of the exponential kernel with a step function.\n",
    "        \"\"\"\n",
    "\n",
    "        t_dist = jnp.abs(t1-t2)\n",
    "\n",
    "        multiplier = jnp.exp(self.gamma(k)**2) / (self.true_d[j] + self.true_d[k])\n",
    "\n",
    "        first_multiplier = jnp.exp(-self.true_d[k]*t_dist)\n",
    "        first_erf_terms = jax.scipy.special.erf((t_dist / self.l) - self.gamma(k)) + jax.scipy.special.erf(self.gamma(k))\n",
    "\n",
    "        second_multiplier = jnp.exp(-(self.true_d[k]*t2 + self.true_d[j]*t1))\n",
    "        second_erf_terms = jax.scipy.special.erf((t2 / self.l) - self.gamma(k)) + jax.scipy.special.erf(self.gamma(k))\n",
    "\n",
    "        result = multiplier * (jnp.multiply(first_multiplier, first_erf_terms) - jnp.multiply(second_multiplier, second_erf_terms))\n",
    "\n",
    "        return result\n",
    "    \n",
    "    def gamma(self, k: Int[Array, \" O\"]) -> ScalarFloat:\n",
    "        # Gamma term for h function\n",
    "        return (self.true_d[k] * self.l) /2\n"
   ]
  },
  {
   "cell_type": "code",
   "execution_count": 491,
   "metadata": {},
   "outputs": [],
   "source": [
    "@dataclass\n",
    "class p53_kxf(gpx.kernels.AbstractKernel):\n",
    "    r\"Cross-covariance between gene expression j at time t and f at time t'\"\n",
    "\n",
    "    # TODO: look at initialisation methods and sharing of parameters between covariances\n",
    "\n",
    "    # Use measured sensiivities and decays at first\n",
    "    true_s: Float[Array, \"1 5\"] = static_field(jnp.array([0.9075, 0.9748, 0.9785, 1.0000, 0.9680]))\n",
    "    true_d: Float[Array, \"1 5\"] = static_field(jnp.array([0.2829, 0.3720, 0.3617, 0.8000, 0.3573]))\n",
    "\n",
    "    # Use dummy lengthscale at first\n",
    "    l: Float[Array, \" O\"] = static_field(jnp.array([2.5]))\n",
    "\n",
    "    def __call__(self, t: Int[Array, \"1 3\"], t_prime: Int[Array, \"1 3\"]) -> ScalarFloat:\n",
    "        \n",
    "        # Error trap (JAX friendly)\n",
    "        def check_val_test(condition):\n",
    "            if condition:\n",
    "                raise ValueError(\"t and t' cannot both be testing points (z=0)\")\n",
    "            \n",
    "        def check_val_train(condition):\n",
    "            if condition:\n",
    "                raise ValueError(\"t and t' cannot both be training points (z=1)\")\n",
    "            \n",
    "        cond_test = jnp.logical_and(t[2] == 0, t_prime[2] == 0)\n",
    "        cond_train = jnp.logical_and(t[2] == 1, t_prime[2] == 1)\n",
    "\n",
    "        jax.debug.callback(check_val_test, cond_test)\n",
    "        jax.debug.callback(check_val_train, cond_train)\n",
    "\n",
    "        # Get gene expression and latent force from flag (kxf anf kfx are transposes)\n",
    "        gene_xpr = jnp.where(t[2] == 0, t_prime, t)\n",
    "        latent_force = jnp.where(t[2] == 0, t, t_prime)\n",
    "    \n",
    "        j = gene_xpr[1]\n",
    "\n",
    "        print(f'Latent force {latent_force}')\n",
    "        print(f'Gene expression {gene_xpr}')    \n",
    "        \n",
    "\n",
    "        return 0\n"
   ]
  },
  {
   "cell_type": "code",
   "execution_count": 454,
   "metadata": {},
   "outputs": [],
   "source": [
    "@dataclass\n",
    "class p53_combined_kernel(gpx.kernels.AbstractKernel):\n",
    "    r\"Combined covariance for learning the latent replication of p53\"\n",
    "\n",
    "    name: str = 'p53 Cov'\n",
    "\n",
    "    # Define external kernels\n",
    "    kernel_xx: gpx.kernels.AbstractKernel = field(default_factory=lambda: p53_kxx(active_dims=[0]))\n",
    "\n",
    "    kernel_xf: int = 2\n",
    "    kernel_ff: int = 3\n",
    "\n",
    "    def __call__(self, t: Int[Array, \"1 3\"], t_prime: Int[Array, \"1 3\"]) -> ScalarFloat:\n",
    "\n",
    "        # Get flag from input (1 = gene expression, 0 = latent force function)\n",
    "        f1 = jnp.array(t[2], dtype=int)\n",
    "        f2 = jnp.array(t_prime[2], dtype=int)\n",
    "\n",
    "        # Cannot use if statements in kernels -> use switches\n",
    "        kxx_switch = f1 * f2\n",
    "        kff_switch = (1 - f1) * (1 - f2)\n",
    "        kxf_switch = f1 * (1 - f2)\n",
    "        kxf_t_switch = (1 - f1) * f2\n",
    "\n",
    "        #kernel_to_use = kxx_switch * self.kernel_xx(t, t_prime) + kff_switch * self.kernel_ff(t, t_prime) + kxf_switch * self.kernel_xf(t, t_prime) + kxf_t_switch * self.kernel_xf(t_prime, t)\n",
    "\n",
    "        # .squeeze() ?\n",
    "        #return kernel_to_use\n",
    "        print('hi')\n",
    "        #kernel_kxx = jnp.array(self.kernel_xx(t, t_prime))\n",
    "        kernel_kxx = self.kernel_xx(t, t_prime)\n",
    "        print(kernel_kxx)\n",
    "  \n",
    "\n",
    "        return 0"
   ]
  },
  {
   "cell_type": "code",
   "execution_count": 455,
   "metadata": {},
   "outputs": [],
   "source": [
    "## Look at shared training parameters (??)"
   ]
  },
  {
   "cell_type": "code",
   "execution_count": null,
   "metadata": {},
   "outputs": [],
   "source": []
  },
  {
   "cell_type": "code",
   "execution_count": 462,
   "metadata": {},
   "outputs": [
    {
     "name": "stdout",
     "output_type": "stream",
     "text": [
      "hi\n",
      "-0.032596097197167516\n"
     ]
    },
    {
     "data": {
      "text/plain": [
       "0"
      ]
     },
     "execution_count": 462,
     "metadata": {},
     "output_type": "execute_result"
    }
   ],
   "source": [
    "p53_ker = p53_combined_kernel()\n",
    "p53_ker(train_row,train_row)"
   ]
  },
  {
   "cell_type": "code",
   "execution_count": 488,
   "metadata": {},
   "outputs": [
    {
     "data": {
      "text/plain": [
       "Array([8., 2., 1.], dtype=float64)"
      ]
     },
     "execution_count": 488,
     "metadata": {},
     "output_type": "execute_result"
    }
   ],
   "source": [
    "train_row"
   ]
  },
  {
   "cell_type": "code",
   "execution_count": 494,
   "metadata": {},
   "outputs": [
    {
     "name": "stdout",
     "output_type": "stream",
     "text": [
      "Latent force [ 2.42424242 -1.          0.        ]\n",
      "Gene expression [8. 2. 1.]\n"
     ]
    },
    {
     "data": {
      "text/plain": [
       "0"
      ]
     },
     "execution_count": 494,
     "metadata": {},
     "output_type": "execute_result"
    }
   ],
   "source": [
    "k_xf = p53_kxf(active_dims=[0])\n",
    "k_xf(dataset_train.X[20],test_row)"
   ]
  },
  {
   "cell_type": "code",
   "execution_count": 458,
   "metadata": {},
   "outputs": [
    {
     "data": {
      "text/plain": [
       "Array([8., 2., 1.], dtype=float64)"
      ]
     },
     "execution_count": 458,
     "metadata": {},
     "output_type": "execute_result"
    }
   ],
   "source": [
    "train_row"
   ]
  },
  {
   "cell_type": "code",
   "execution_count": 528,
   "metadata": {},
   "outputs": [
    {
     "data": {
      "text/plain": [
       "(35, 3)"
      ]
     },
     "execution_count": 528,
     "metadata": {},
     "output_type": "execute_result"
    }
   ],
   "source": [
    "kxx_ker = p53_kxx(active_dims=[0])\n",
    "t1 = dataset_train.X\n",
    "t1.shape"
   ]
  },
  {
   "cell_type": "code",
   "execution_count": 529,
   "metadata": {},
   "outputs": [
    {
     "name": "stdout",
     "output_type": "stream",
     "text": [
      "Inputs have been sliced\n",
      "[8.] (1,)\n",
      "[8.] (1,)\n",
      "8.0 ()\n",
      "8.0 ()\n"
     ]
    },
    {
     "data": {
      "text/plain": [
       "Array(-0.0325961, dtype=float64)"
      ]
     },
     "execution_count": 529,
     "metadata": {},
     "output_type": "execute_result"
    }
   ],
   "source": [
    "kxx_ker(train_row,train_row)"
   ]
  },
  {
   "cell_type": "code",
   "execution_count": 503,
   "metadata": {},
   "outputs": [
    {
     "data": {
      "image/png": "[encoded data removed]",
      "text/plain": [
       "<Figure size 480x480 with 1 Axes>"
      ]
     },
     "metadata": {},
     "output_type": "display_data"
    }
   ],
   "source": [
    "plt.matshow(kxx_ker.gram(t1).to_dense())\n",
    "plt.show()"
   ]
  },
  {
   "cell_type": "code",
   "execution_count": 287,
   "metadata": {},
   "outputs": [
    {
     "data": {
      "text/plain": [
       "(35, 3)"
      ]
     },
     "execution_count": 287,
     "metadata": {},
     "output_type": "execute_result"
    }
   ],
   "source": []
  },
  {
   "cell_type": "code",
   "execution_count": null,
   "metadata": {},
   "outputs": [],
   "source": [
    "# HOW TO PLOT KERNEL AND CHECK IT LOOKS OK?"
   ]
  },
  {
   "cell_type": "code",
   "execution_count": 344,
   "metadata": {},
   "outputs": [],
   "source": [
    "n = 100\n",
    "noise = 0.3\n",
    "x_gpr = jr.uniform(key=key, minval=-3.0, maxval=3.0, shape=(n,)).reshape(-1, 1)\n",
    "f_gpr = lambda x: jnp.sin(4 * x) + jnp.cos(2 * x)\n",
    "\n",
    "kernel_gpr = gpx.kernels.RBF(active_dims=[0])"
   ]
  },
  {
   "cell_type": "code",
   "execution_count": 341,
   "metadata": {},
   "outputs": [
    {
     "data": {
      "text/plain": [
       "Array([[-0.15513296,  0.        ],\n",
       "       [ 0.20999486,  0.        ],\n",
       "       [ 2.70871393,  0.        ],\n",
       "       [-0.24233199,  0.        ],\n",
       "       [ 0.62798972,  0.        ],\n",
       "       [-1.04605396,  0.        ],\n",
       "       [-0.29715902,  0.        ],\n",
       "       [ 0.89566759,  0.        ],\n",
       "       [-2.13326535,  0.        ],\n",
       "       [-1.59715151,  0.        ],\n",
       "       [ 0.02428609,  0.        ],\n",
       "       [ 1.92848615,  0.        ],\n",
       "       [ 1.6970173 ,  0.        ],\n",
       "       [-0.6035951 ,  0.        ],\n",
       "       [ 0.26813325,  0.        ],\n",
       "       [-0.25503812,  0.        ],\n",
       "       [ 2.57459184,  0.        ],\n",
       "       [-0.99307462,  0.        ],\n",
       "       [ 2.10230002,  0.        ],\n",
       "       [-1.58137953,  0.        ],\n",
       "       [ 1.57460624,  0.        ],\n",
       "       [ 0.12240851,  0.        ],\n",
       "       [-0.70544628,  0.        ],\n",
       "       [-1.86591987,  0.        ],\n",
       "       [-1.53468077,  0.        ],\n",
       "       [ 2.15706123,  0.        ],\n",
       "       [-1.70874549,  0.        ],\n",
       "       [-2.28593996,  0.        ],\n",
       "       [-0.66266154,  0.        ],\n",
       "       [ 0.61508803,  0.        ],\n",
       "       [ 2.17109311,  0.        ],\n",
       "       [ 0.2357363 ,  0.        ],\n",
       "       [ 1.01281358,  0.        ],\n",
       "       [ 0.2641702 ,  0.        ],\n",
       "       [ 2.81608552,  0.        ],\n",
       "       [ 1.65937594,  0.        ],\n",
       "       [ 0.90771755,  0.        ],\n",
       "       [ 0.575871  ,  0.        ],\n",
       "       [ 2.59903443,  0.        ],\n",
       "       [-0.10699546,  0.        ],\n",
       "       [-2.35179917,  0.        ],\n",
       "       [-2.08384883,  0.        ],\n",
       "       [-2.19956605,  0.        ],\n",
       "       [ 2.87842957,  0.        ],\n",
       "       [-1.59577327,  0.        ],\n",
       "       [-2.50404514,  0.        ],\n",
       "       [-2.93501159,  0.        ],\n",
       "       [-2.90492061,  0.        ],\n",
       "       [ 1.70862188,  0.        ],\n",
       "       [ 1.36790482,  0.        ],\n",
       "       [-1.4300857 ,  0.        ],\n",
       "       [-0.5245788 ,  0.        ],\n",
       "       [-0.43667227,  0.        ],\n",
       "       [-0.38118769,  0.        ],\n",
       "       [-0.79853644,  0.        ],\n",
       "       [-2.5947292 ,  0.        ],\n",
       "       [-0.77687526,  0.        ],\n",
       "       [-1.67737244,  0.        ],\n",
       "       [ 1.33946702,  0.        ],\n",
       "       [ 1.02414182,  0.        ],\n",
       "       [-1.3868861 ,  0.        ],\n",
       "       [ 1.37968158,  0.        ],\n",
       "       [-1.6194458 ,  0.        ],\n",
       "       [ 0.84857268,  0.        ],\n",
       "       [ 1.56640187,  0.        ],\n",
       "       [-0.41070465,  0.        ],\n",
       "       [-1.00654599,  0.        ],\n",
       "       [ 1.85781139,  0.        ],\n",
       "       [-1.81370437,  0.        ],\n",
       "       [-0.68089136,  0.        ],\n",
       "       [ 2.83650369,  0.        ],\n",
       "       [-0.55140034,  0.        ],\n",
       "       [-1.78634044,  0.        ],\n",
       "       [ 2.19685378,  0.        ],\n",
       "       [ 1.80444834,  0.        ],\n",
       "       [-1.11542926,  0.        ],\n",
       "       [ 2.69786122,  0.        ],\n",
       "       [-0.72118866,  0.        ],\n",
       "       [ 0.39203414,  0.        ],\n",
       "       [-1.37921512,  0.        ],\n",
       "       [-1.37504227,  0.        ],\n",
       "       [-1.23681397,  0.        ],\n",
       "       [ 0.14469467,  0.        ],\n",
       "       [-1.12270135,  0.        ],\n",
       "       [-0.33614141,  0.        ],\n",
       "       [-2.64589151,  0.        ],\n",
       "       [ 1.59492601,  0.        ],\n",
       "       [-1.10561629,  0.        ],\n",
       "       [ 2.42740041,  0.        ],\n",
       "       [ 0.62877862,  0.        ],\n",
       "       [-0.56280794,  0.        ],\n",
       "       [ 2.66521249,  0.        ],\n",
       "       [-0.13236756,  0.        ],\n",
       "       [ 1.7954025 ,  0.        ],\n",
       "       [-2.0609105 ,  0.        ],\n",
       "       [-1.19542842,  0.        ],\n",
       "       [-2.06575465,  0.        ],\n",
       "       [-0.34454231,  0.        ],\n",
       "       [ 0.14723158,  0.        ],\n",
       "       [-1.3484917 ,  0.        ]], dtype=float64)"
      ]
     },
     "execution_count": 341,
     "metadata": {},
     "output_type": "execute_result"
    }
   ],
   "source": [
    "x_gpr_new = jnp.stack((x_gpr.reshape(-1,), jnp.repeat(0, 100)), axis=-1)\n",
    "x_gpr_new\n",
    "\n"
   ]
  },
  {
   "cell_type": "code",
   "execution_count": 346,
   "metadata": {},
   "outputs": [
    {
     "data": {
      "text/plain": [
       "Array(1., dtype=float64)"
      ]
     },
     "execution_count": 346,
     "metadata": {},
     "output_type": "execute_result"
    }
   ],
   "source": [
    "kernel_gpr(x_gpr_new,x_gpr_new)"
   ]
  },
  {
   "cell_type": "code",
   "execution_count": 384,
   "metadata": {},
   "outputs": [
    {
     "data": {
      "text/plain": [
       "(100, 3)"
      ]
     },
     "execution_count": 384,
     "metadata": {},
     "output_type": "execute_result"
    }
   ],
   "source": [
    "testing_times.shape"
   ]
  },
  {
   "cell_type": "code",
   "execution_count": 472,
   "metadata": {},
   "outputs": [
    {
     "name": "stdout",
     "output_type": "stream",
     "text": [
      "kxx: 0\n",
      "kff: 0\n",
      "kxf: 1\n",
      "kfx: 0\n"
     ]
    }
   ],
   "source": [
    "kernel_switch_testing(train_row, test_row)"
   ]
  },
  {
   "cell_type": "code",
   "execution_count": null,
   "metadata": {},
   "outputs": [],
   "source": [
    "plt.matshow(kxx_ker.gram)"
   ]
  }
 ],
 "metadata": {
  "kernelspec": {
   "display_name": "project_wp289",
   "language": "python",
   "name": "python3"
  },
  "language_info": {
   "codemirror_mode": {
    "name": "ipython",
    "version": 3
   },
   "file_extension": ".py",
   "mimetype": "text/x-python",
   "name": "python",
   "nbconvert_exporter": "python",
   "pygments_lexer": "ipython3",
   "version": "3.11.7"
  }
 },
 "nbformat": 4,
 "nbformat_minor": 2
}
