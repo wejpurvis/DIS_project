{
 "cells": [
  {
   "cell_type": "markdown",
   "metadata": {},
   "source": [
    "### Comparing kxx, kxf, and kff across pytorch and gpjax"
   ]
  },
  {
   "cell_type": "markdown",
   "metadata": {},
   "source": [
    "# Pytorch implementation"
   ]
  },
  {
   "cell_type": "code",
   "execution_count": 1,
   "metadata": {},
   "outputs": [],
   "source": [
    "import torch\n",
    "import gpytorch\n",
    "import numpy as np\n",
    "import pandas as pd\n",
    "import matplotlib.pyplot as plt"
   ]
  },
  {
   "cell_type": "code",
   "execution_count": 2,
   "metadata": {},
   "outputs": [],
   "source": [
    "# Define paramaters\n",
    "sensitivity = torch.tensor([1, 1, 1, 1, 1], dtype=torch.float64)\n",
    "decays = torch.tensor([0.4000, 0.4000, 0.4000, 0.4000, 0.4000], dtype=torch.float64)\n",
    "lengthscale = torch.tensor([2.5000], dtype=torch.float64)"
   ]
  },
  {
   "cell_type": "code",
   "execution_count": 7,
   "metadata": {},
   "outputs": [],
   "source": [
    "# Load variances.npy\n",
    "variances = np.load('variances.npy')"
   ]
  },
  {
   "cell_type": "code",
   "execution_count": 57,
   "metadata": {},
   "outputs": [],
   "source": [
    "# Kxx\n",
    "PI = torch.tensor(np.pi, requires_grad=False)\n",
    "\n",
    "class pytorch_kxx():\n",
    "\n",
    "    def __init__(self, num_genes, variance, noisy=True):\n",
    "        self.num_genes = 5\n",
    "        self.variance = torch.diag(variance)\n",
    "        self.noisy = noisy\n",
    "\n",
    "        self.sensitivity = torch.tensor([1, 1, 1, 1, 1], dtype=torch.float64)\n",
    "        self.decay = torch.tensor([0.4000, 0.4000, 0.4000, 0.4000, 0.4000], dtype=torch.float64)\n",
    "        self.lengthscale = torch.tensor([2.5000], dtype=torch.float64)\n",
    "\n",
    "    def forward(self, t1, t2, **params):\n",
    "        \"\"\"\n",
    "        This calculates Kxx (not cross-covariance)\n",
    "        t1, t2 are blocked timepoint vectors\n",
    "        Parameters:\n",
    "           x1 shape (num_genes*num_times)\n",
    "        \"\"\"\n",
    "        print('forward')\n",
    "        print(f'Sensitivity: {self.sensitivity}')\n",
    "        print(f'Decays {self.decay}')\n",
    "        print(f'Lengthscale {self.lengthscale}')\n",
    "\n",
    "        vert_block_size = int(t1.shape[0] / self.num_genes)\n",
    "        hori_block_size = int(t2.shape[0] / self.num_genes)\n",
    "        t1_block, t2_block = t1[:vert_block_size], t2[:hori_block_size]\n",
    "        shape = [vert_block_size * self.num_genes, hori_block_size * self.num_genes]\n",
    "        K_xx = torch.zeros(shape, dtype=torch.float64)\n",
    "        for j in range(self.num_genes):\n",
    "            for k in range(self.num_genes):\n",
    "                kxx = self.k_xx(j, k, t1_block, t2_block)\n",
    "                K_xx[j * vert_block_size:(j + 1) * vert_block_size,\n",
    "                     k * hori_block_size:(k + 1) * hori_block_size] = kxx\n",
    "        if self.noisy:\n",
    "            if hori_block_size == vert_block_size:\n",
    "                jitter = 1e-4 * torch.eye(K_xx.shape[0], dtype=torch.float64)\n",
    "                K_xx += jitter\n",
    "                if K_xx.shape[0] == self.variance.shape[0]:\n",
    "                    K_xx += self.variance\n",
    "        \n",
    "        print(K_xx)\n",
    "        return K_xx\n",
    "    \n",
    "\n",
    "    def k_xx(self, j, k, t1_block, t2_block):\n",
    "        \"\"\"\n",
    "        k_xx(t, t')\n",
    "        t2 = t'\n",
    "        Parameters:\n",
    "            t1_block: tensor shape (T1,)\n",
    "            t2_block: tensor shape (T2,)\n",
    "        \"\"\"\n",
    "        t1_block = t1_block.view(-1, 1)\n",
    "        t2_block = t2_block.view(1, -1)\n",
    "\n",
    "        mult = self.sensitivity[j] * self.sensitivity[k] * self.lengthscale * 0.5 * torch.sqrt(PI)\n",
    "        second_term = (self.h(k, j, t2_block, t1_block) + self.h(j, k, t1_block, t2_block))\n",
    "\n",
    "        k_xx = mult * second_term\n",
    "        #debug\n",
    "        \"\"\"\n",
    "        print(second_term.shape)\n",
    "        print(f'mult {mult}, shape: {mult.shape}')\n",
    "        print(f'second term {second_term}, shape: {second_term.shape}')\n",
    "\n",
    "        print(f'kxx shape {k_xx.shape}')\n",
    "\n",
    "        print(f'j index {j}, k index {k}')\n",
    "        print(f'time 1 {t1_block}, time 2 {t2_block}')\n",
    "        print(f'sj {self.sensitivity[j]}, sk {self.sensitivity[k]}, l {self.lengthscale}, dj {self.decay[j]}, dk {self.decay[k]}')\n",
    "        print(f'all sensitivity {self.sensitivity}')\n",
    "        print(f'all decay {self.decay}')\n",
    "        \"\"\"\n",
    "        return k_xx\n",
    "\n",
    "    def h(self, k, j, t2, t1):\n",
    "        l = self.lengthscale\n",
    "        t_dist = t2 - t1\n",
    "        multiplier = torch.exp(self.gamma(k) ** 2) / (self.decay[j] + self.decay[k])  # (1, 1)\n",
    "        first_erf_term = torch.erf(t_dist / l - self.gamma(k)) + torch.erf(t1 / l + self.gamma(k))  # (T,T)\n",
    "        second_erf_term = torch.erf(t2 / l - self.gamma(k)) + torch.erf(self.gamma(k))\n",
    "        return multiplier * (torch.multiply(torch.exp(-self.decay[k] * t_dist), first_erf_term) - \\\n",
    "                             torch.multiply(torch.exp(-self.decay[k] * t2 - self.decay[j] * t1), second_erf_term))\n",
    "\n",
    "    def gamma(self, k):\n",
    "        return self.decay[k] * self.lengthscale / 2"
   ]
  },
  {
   "cell_type": "code",
   "execution_count": 29,
   "metadata": {},
   "outputs": [],
   "source": [
    "# Kxf\n",
    "class pytorch_kxf():\n",
    "    def __init__(self, num_genes):\n",
    "        self.num_genes = num_genes\n",
    "        self.sensitivity = torch.tensor([1, 1, 1, 1, 1], dtype=torch.float64)\n",
    "        self.decay = torch.tensor([0.4000, 0.4000, 0.4000, 0.4000, 0.4000], dtype=torch.float64)\n",
    "        self.lengthscale = torch.tensor([2.5000], dtype=torch.float64)\n",
    "\n",
    "    def K_xf(self, x, f):\n",
    "        \"\"\"\n",
    "        K_xf\n",
    "        Cross-covariance. Not optimised (not in marginal likelihood).\n",
    "        Parameters:\n",
    "            x: tensor (JT, JT) the blocked observation vector\n",
    "            f: tensor (T*) the non-blocked f prediction timepoint vector\n",
    "        \"\"\"\n",
    "        shape = [x.shape[0], f.shape[0]]\n",
    "        K_xf = torch.zeros(shape, dtype=torch.float32)\n",
    "        self.block_size = int(x.shape[0] / self.num_genes)  # 7\n",
    "        t1_block, t2_block = x[:self.block_size].view(-1, 1), f.view(1, -1)\n",
    "        for j in range(self.num_genes):\n",
    "            kxf = self.k_xf(j, t1_block, t2_block)\n",
    "            K_xf[j * self.block_size:(j + 1) * self.block_size] = kxf\n",
    "        \n",
    "        # save k_xf as global variable\n",
    "        self.k_xf = K_xf\n",
    "        print(K_xf)\n",
    "        return K_xf\n",
    "\n",
    "    def k_xf(self, j, x, t_f):\n",
    "        l = self.lengthscale\n",
    "        t_dist = x - t_f\n",
    "        \n",
    "        first_term = 0.5 * l * torch.sqrt(PI) * self.sensitivity[j]\n",
    "        first_expon_term = torch.exp(self.gamma(j) ** 2)\n",
    "        second_expon_term = torch.exp(-self.decay[j] * t_dist)\n",
    "        erf_terms = torch.erf((t_dist / l) - self.gamma(j)) + torch.erf(t_f/l + self.gamma(j))\n",
    "\n",
    "        kxf = first_term * first_expon_term * second_expon_term * erf_terms\n",
    "\n",
    "        return kxf\n",
    "    \n",
    "    def gamma(self, k):\n",
    "        return self.decay[k] * self.lengthscale / 2      "
   ]
  },
  {
   "cell_type": "code",
   "execution_count": 96,
   "metadata": {},
   "outputs": [],
   "source": [
    "# Kff\n",
    "class pytorch_kff():\n",
    "    def __init__(self, noisy=True):\n",
    "        self.noisy = noisy\n",
    "        self.lengthscale = torch.tensor([2.5000], dtype=torch.float64)\n",
    "\n",
    "    def K_ff(self, x1, x2):\n",
    "        \"\"\"Returns the RBF kernel between latent TF\"\"\"\n",
    "        x1 = x1.view(-1)\n",
    "        x2 = x2.view(-1)\n",
    "        sq_dist = torch.square(x1.view(-1, 1)-x2)\n",
    "        sq_dist = torch.div(sq_dist, 2*self.lengthscale.view((-1, 1)))\n",
    "        K = torch.exp(-sq_dist)\n",
    "\n",
    "        if self.noisy:\n",
    "            if K.shape[0] == K.shape[1]:\n",
    "                jitter = 1e-3 * torch.eye(x1.shape[0])\n",
    "                K += jitter\n",
    "\n",
    "        print(K)\n",
    "        return K"
   ]
  },
  {
   "cell_type": "code",
   "execution_count": 22,
   "metadata": {},
   "outputs": [],
   "source": [
    "train_t_pytorch = torch.tensor([ 0.,  2.,  4.,  6.,  8., 10., 12.,  0.,  2.,  4.,  6.,  8., 10., 12., 0.,  2.,  4.,  6.,  8., 10., 12.,  0.,  2.,  4.,  6.,  8., 10., 12., 0.,  2.,  4.,  6.,  8., 10., 12.], dtype=torch.float64)\n",
    "t_predict = torch.linspace(0, 13, 80, dtype=torch.float64)\n",
    "\n",
    "variances_torch = torch.tensor(variances).reshape(-1)"
   ]
  },
  {
   "cell_type": "code",
   "execution_count": 63,
   "metadata": {},
   "outputs": [
    {
     "name": "stdout",
     "output_type": "stream",
     "text": [
      "forward\n",
      "Sensitivity: tensor([1., 1., 1., 1., 1.], dtype=torch.float64)\n",
      "Decays tensor([0.4000, 0.4000, 0.4000, 0.4000, 0.4000], dtype=torch.float64)\n",
      "Lengthscale tensor([2.5000], dtype=torch.float64)\n",
      "tensor([[3.1382e-03, 0.0000e+00, 0.0000e+00,  ..., 0.0000e+00, 0.0000e+00,\n",
      "         0.0000e+00],\n",
      "        [0.0000e+00, 1.7403e+00, 1.7904e+00,  ..., 4.6886e-01, 2.1099e-01,\n",
      "         9.4805e-02],\n",
      "        [0.0000e+00, 1.7904e+00, 3.0532e+00,  ..., 1.3148e+00, 6.0511e-01,\n",
      "         2.7221e-01],\n",
      "        ...,\n",
      "        [0.0000e+00, 4.6886e-01, 1.3148e+00,  ..., 3.5005e+00, 2.6371e+00,\n",
      "         1.3988e+00],\n",
      "        [0.0000e+00, 2.1099e-01, 6.0511e-01,  ..., 2.6371e+00, 3.4420e+00,\n",
      "         2.6436e+00],\n",
      "        [0.0000e+00, 9.4805e-02, 2.7221e-01,  ..., 1.3988e+00, 2.6436e+00,\n",
      "         3.4463e+00]], dtype=torch.float64)\n"
     ]
    }
   ],
   "source": [
    "kxx_pytorch = pytorch_kxx(5, variances_torch, noisy=True)\n",
    "Kxx_torch = kxx_pytorch.forward(train_t_pytorch.view(-1,1), train_t_pytorch.view(-1,1))"
   ]
  },
  {
   "cell_type": "code",
   "execution_count": 31,
   "metadata": {},
   "outputs": [
    {
     "name": "stdout",
     "output_type": "stream",
     "text": [
      "tensor([[0.0000e+00, 0.0000e+00, 0.0000e+00,  ..., 0.0000e+00, 0.0000e+00,\n",
      "         0.0000e+00],\n",
      "        [1.0854e+00, 1.1412e+00, 1.1905e+00,  ..., 3.1407e-09, 1.7595e-09,\n",
      "         9.7742e-10],\n",
      "        [8.0451e-01, 8.7895e-01, 9.5488e-01,  ..., 1.8244e-06, 1.1329e-06,\n",
      "         6.9758e-07],\n",
      "        ...,\n",
      "        [1.7630e-01, 1.9522e-01, 2.1535e-01,  ..., 1.4926e-02, 1.1346e-02,\n",
      "         8.5544e-03],\n",
      "        [7.9226e-02, 8.7727e-02, 9.6780e-02,  ..., 2.1989e-01, 1.8420e-01,\n",
      "         1.5310e-01],\n",
      "        [3.5598e-02, 3.9418e-02, 4.3486e-02,  ..., 1.0313e+00, 9.4620e-01,\n",
      "         8.6192e-01]])\n"
     ]
    }
   ],
   "source": [
    "Kxf_pytorch = pytorch_kxf(5)\n",
    "Kxf_torch = Kxf_pytorch.K_xf(train_t_pytorch.view(-1,1), t_predict.view(-1,1))"
   ]
  },
  {
   "cell_type": "code",
   "execution_count": 97,
   "metadata": {},
   "outputs": [
    {
     "name": "stdout",
     "output_type": "stream",
     "text": [
      "tensor([[1.0000e+00, 9.9460e-01, 9.7857e-01,  ..., 1.1342e-14, 4.8991e-15,\n",
      "         2.0934e-15],\n",
      "        [9.9460e-01, 1.0000e+00, 9.9460e-01,  ..., 2.5975e-14, 1.1342e-14,\n",
      "         4.8991e-15],\n",
      "        [9.7857e-01, 9.9460e-01, 1.0000e+00,  ..., 5.8845e-14, 2.5975e-14,\n",
      "         1.1342e-14],\n",
      "        ...,\n",
      "        [1.1342e-14, 2.5975e-14, 5.8845e-14,  ..., 1.0000e+00, 9.9460e-01,\n",
      "         9.7857e-01],\n",
      "        [4.8991e-15, 1.1342e-14, 2.5975e-14,  ..., 9.9460e-01, 1.0000e+00,\n",
      "         9.9460e-01],\n",
      "        [2.0934e-15, 4.8991e-15, 1.1342e-14,  ..., 9.7857e-01, 9.9460e-01,\n",
      "         1.0000e+00]], dtype=torch.float64)\n"
     ]
    }
   ],
   "source": [
    "Kff_pytorch = pytorch_kff(noisy=False)\n",
    "Kff_torch = Kff_pytorch.K_ff(t_predict, t_predict)"
   ]
  },
  {
   "cell_type": "markdown",
   "metadata": {},
   "source": [
    "# JAX implementation"
   ]
  },
  {
   "cell_type": "code",
   "execution_count": 88,
   "metadata": {},
   "outputs": [],
   "source": [
    "import gpjax as gpx\n",
    "import jax\n",
    "import jax.random as jr\n",
    "import jax.numpy as jnp\n",
    "import tensorflow_probability.substrates.jax.bijectors as tfb\n",
    "\n",
    "from dataclasses import dataclass, field\n",
    "from jaxtyping import Float\n",
    "from gpjax.base import param_field, static_field\n",
    "from gpjax.kernels.stationary.utils import squared_distance\n",
    "\n",
    "from gpjax.typing import (\n",
    "    Array,\n",
    "    ScalarFloat,\n",
    ")\n",
    "\n",
    "jax.config.update('jax_enable_x64', True)"
   ]
  },
  {
   "cell_type": "code",
   "execution_count": 48,
   "metadata": {},
   "outputs": [],
   "source": [
    "# Kxx\n",
    "@dataclass\n",
    "class gpjax_kxx(gpx.kernels.AbstractKernel):\n",
    "    \" Test kernel for kxx\"\n",
    "\n",
    "    true_s: Float[Array, \"1 5\"] = static_field(jnp.array([1, 1, 1, 1, 1], dtype=jnp.float64))\n",
    "\n",
    "    true_d: Float[Array, \"1 5\"] = static_field(jnp.array([0.4000, 0.4000, 0.4000, 0.4000, 0.4000], dtype=jnp.float64))\n",
    "\n",
    "    l: Float[Array, \"1 1\"] = static_field(jnp.array([2.5000], dtype=jnp.float64))\n",
    "\n",
    "    def __call__(self, t: Float[Array, \"1 3\"], t_prime: Float[Array, \"1 3\"]) -> ScalarFloat:\n",
    "\n",
    "        # Get gene indices\n",
    "        j = t[1].astype(int)\n",
    "        k = t_prime[1].astype(int)\n",
    "\n",
    "        t = t[0]\n",
    "        t_prime = t_prime[0]\n",
    "\n",
    "        # Equation 5\n",
    "        mult = self.true_s[j] * self.true_s[k] * self.l * jnp.sqrt(jnp.pi) * 0.5\n",
    "        second_term = self.h(k, j, t_prime, t) + self.h(j, k, t, t_prime)\n",
    "\n",
    "        kxx = mult * second_term\n",
    "        \n",
    "        return kxx.squeeze()\n",
    "    \n",
    "    # Helper functions\n",
    "    def h(self, j: Float[Array, \" O\"], k: Float[Array, \" O\"], t1: Float[Array, \" O\"], t2: Float[Array, \" O\"]) -> ScalarFloat:\n",
    "        \"\"\"\n",
    "        Analytical solution for the convolution of the exponential kernel with a step function.\n",
    "        \"\"\"\n",
    "\n",
    "        # Debug print\n",
    "        \"\"\"\n",
    "        print(f\"j: {j}\")\n",
    "        print(f\"k: {k}\")\n",
    "        print(f\"t1: {t1}\")\n",
    "        print(f\"t2: {t2}\")\n",
    "        \"\"\"\n",
    "        t_dist = t2 - t1\n",
    "\n",
    "        multiplier = jnp.exp(self.gamma(k) ** 2) / (self.true_d[j] + self.true_d[k])\n",
    "\n",
    "        first_multiplier = jnp.exp(-self.true_d[k] * t_dist)\n",
    "        \n",
    "        first_erf_terms = jax.scipy.special.erf(\n",
    "            (t_dist / self.l) - self.gamma(k)\n",
    "        ) + jax.scipy.special.erf(t1 / self.l + self.gamma(k))\n",
    "\n",
    "        second_multiplier = jnp.exp(-(self.true_d[k] * t2 + self.true_d[j] * t1))\n",
    "        \n",
    "        second_erf_terms = jax.scipy.special.erf(\n",
    "            (t2 / self.l) - self.gamma(k)\n",
    "        ) + jax.scipy.special.erf(self.gamma(k))\n",
    "\n",
    "        result = multiplier * (\n",
    "            jnp.multiply(first_multiplier, first_erf_terms)\n",
    "            - jnp.multiply(second_multiplier, second_erf_terms)\n",
    "        )\n",
    "\n",
    "        #print(f\"result: {result}\")\n",
    "        return result\n",
    "\n",
    "    def gamma(self, k: Float[Array, \" O\"]) -> ScalarFloat:\n",
    "        # Gamma term for h function\n",
    "        return (self.true_d[k] * self.l) / 2"
   ]
  },
  {
   "cell_type": "code",
   "execution_count": 77,
   "metadata": {},
   "outputs": [],
   "source": [
    "# Kxf\n",
    "\n",
    "@dataclass\n",
    "class gpjax_kxf(gpx.kernels.AbstractKernel):\n",
    "    \" Test kernel for kxf\"\n",
    "\n",
    "    true_s: Float[Array, \"1 5\"] = static_field(jnp.array([1, 1, 1, 1, 1], dtype=jnp.float64))\n",
    "\n",
    "    true_d: Float[Array, \"1 5\"] = static_field(jnp.array([0.4000, 0.4000, 0.4000, 0.4000, 0.4000], dtype=jnp.float64))\n",
    "\n",
    "    l: Float[Array, \"1 1\"] = static_field(jnp.array([2.5000], dtype=jnp.float64))\n",
    "\n",
    "    def __call__(self, t: Float[Array, \"1 3\"], t_prime: Float[Array, \"1 3\"]) -> ScalarFloat:\n",
    "\n",
    "        # Get gene expression and latent force from flag (kxf anf kfx are transposes)\n",
    "        gene_xpr = jnp.where(t[2] == 0, t_prime, t)\n",
    "        latent_force = jnp.where(t[2] == 0, t, t_prime)\n",
    "\n",
    "        j = gene_xpr[1].astype(int)\n",
    "\n",
    "        # Slice inputs\n",
    "        gene_xpr = gene_xpr[0]\n",
    "        latent_force = latent_force[0]\n",
    "\n",
    "        t_dist = jnp.abs(gene_xpr - latent_force)\n",
    "\n",
    "        first_term = 0.5 * self.l * jnp.sqrt(jnp.pi) * self.true_s[j]\n",
    "        first_expon_term = jnp.exp(self.gamma(j) ** 2)\n",
    "        second_expon_term = jnp.exp(-self.true_d[j] * t_dist)\n",
    "        erf_terms = jax.scipy.special.erf(\n",
    "            (t_dist / self.l) - self.gamma(j)\n",
    "        ) + jax.scipy.special.erf(latent_force / self.l + self.gamma(j))\n",
    "\n",
    "        kxf = first_term * first_expon_term * second_expon_term * erf_terms\n",
    "        return kxf.squeeze()\n",
    "    \n",
    "    def gamma(self, k: Float[Array, \" O\"]) -> ScalarFloat:\n",
    "        # Gamma term for h function\n",
    "        return (self.true_d[k] * self.l) / 2"
   ]
  },
  {
   "cell_type": "code",
   "execution_count": 152,
   "metadata": {},
   "outputs": [],
   "source": [
    "# Kff\n",
    "@dataclass\n",
    "class gpjax_kff(gpx.kernels.AbstractKernel):\n",
    "    \"Test kernel for kxf\"\n",
    "\n",
    "    l: Float[Array, \"1 1\"] = static_field(jnp.array([2.5000], dtype=jnp.float64))\n",
    "\n",
    "    def __call__(self, t: Float[Array, \"1 3\"], t_prime: Float[Array, \"1 3\"]) -> ScalarFloat:\n",
    "\n",
    "        t = t[0] / self.l\n",
    "        t_prime = t_prime[0] / self.l\n",
    "\n",
    "        # NOTE: squared distance returns jnp.sum((x - y) ** 2)\n",
    "        K = jnp.exp(-0.5 * squared_distance(t, t_prime))\n",
    "\n",
    "        #print(f'K shape {K.shape}')\n",
    "        #print(f'K squeezed shape {K.squeeze().shape}')\n",
    "        #print(K)\n",
    "        return K.squeeze()"
   ]
  },
  {
   "cell_type": "code",
   "execution_count": 153,
   "metadata": {},
   "outputs": [],
   "source": [
    "@dataclass\n",
    "class gpjax_kff2(gpx.kernels.AbstractKernel):\n",
    "    \"Test kernel for kxf\"\n",
    "\n",
    "    l: Float[Array, \"1 1\"] = static_field(jnp.array([2.5000], dtype=jnp.float64))\n",
    "\n",
    "    def __call__(self, t: Float[Array, \"1 3\"], t_prime: Float[Array, \"1 3\"]) -> ScalarFloat:\n",
    "        \n",
    "        t = t[0].reshape(-1)\n",
    "        t_prime = t_prime[0].reshape(-1)\n",
    "\n",
    "        sq_dist = jnp.square(t.reshape(-1, 1) - t_prime)\n",
    "        sq_dist = jnp.divide(sq_dist, 2 * self.l.reshape((-1, 1)))\n",
    "\n",
    "        K = jnp.exp(-sq_dist)\n",
    "\n",
    "        #print(f'K shape {K.shape}')\n",
    "        #print(f'K squeezed shape {K.squeeze().shape}')\n",
    "        #print(K)\n",
    "        return K.squeeze()"
   ]
  },
  {
   "cell_type": "code",
   "execution_count": 131,
   "metadata": {},
   "outputs": [],
   "source": [
    "from p53_data import JAXP53_Data, dataset_3d, generate_test_times\n",
    "\n",
    "p53_data = JAXP53_Data(replicate=0)\n",
    "training_times, gene_expressions, variances = dataset_3d(p53_data)\n",
    "testing_times = generate_test_times()"
   ]
  },
  {
   "cell_type": "code",
   "execution_count": 66,
   "metadata": {},
   "outputs": [
    {
     "data": {
      "text/plain": [
       "Array([[0.        , 0.        , 0.        , ..., 0.        , 0.        ,\n",
       "        0.        ],\n",
       "       [0.        , 1.72164567, 1.7903864 , ..., 0.46885754, 0.21098658,\n",
       "        0.09480457],\n",
       "       [0.        , 1.7903864 , 2.98299634, ..., 1.31475285, 0.60510698,\n",
       "        0.27220838],\n",
       "       ...,\n",
       "       [0.        , 0.46885754, 1.31475285, ..., 3.39229088, 2.63712898,\n",
       "        1.39875369],\n",
       "       [0.        , 0.21098658, 0.60510698, ..., 2.63712898, 3.40663082,\n",
       "        2.64357242],\n",
       "       [0.        , 0.09480457, 0.27220838, ..., 1.39875369, 2.64357242,\n",
       "        3.40952609]], dtype=float64)"
      ]
     },
     "execution_count": 66,
     "metadata": {},
     "output_type": "execute_result"
    }
   ],
   "source": [
    "kxx_gpjax = gpjax_kxx()\n",
    "kxx_gpjax.gram(training_times).to_dense()"
   ]
  },
  {
   "cell_type": "code",
   "execution_count": 64,
   "metadata": {},
   "outputs": [
    {
     "data": {
      "text/plain": [
       "False"
      ]
     },
     "execution_count": 64,
     "metadata": {},
     "output_type": "execute_result"
    }
   ],
   "source": [
    "# Compare Kxx covariance between pytorch and GPJAX\n",
    "np.allclose(Kxx_torch.detach().numpy(), kxx_gpjax.gram(training_times).to_dense())"
   ]
  },
  {
   "cell_type": "markdown",
   "metadata": {},
   "source": [
    "`Kxx` is computed differently between PyTorch and GPJax due to jitter and noise being added to calculation in Pytorch, when `kxx_pytorch` is initialised with `noisy=False` then the two covariance matrices are the same."
   ]
  },
  {
   "cell_type": "code",
   "execution_count": 76,
   "metadata": {},
   "outputs": [
    {
     "data": {
      "text/plain": [
       "True"
      ]
     },
     "execution_count": 76,
     "metadata": {},
     "output_type": "execute_result"
    }
   ],
   "source": [
    "# Add noise to Kxx from GPJAX\n",
    "def add_noise_kxx(kxx, variances):\n",
    "    diag_var = jnp.diag(variances.reshape(-1))\n",
    "    jitter = 1e-4 * jnp.eye(kxx.shape[0])\n",
    "\n",
    "    return kxx + diag_var + jitter\n",
    "\n",
    "Kxx_noisy = add_noise_kxx(kxx_gpjax.gram(training_times).to_dense(), variances)\n",
    "\n",
    "np.allclose(Kxx_torch.detach().numpy(), Kxx_noisy, atol=1e-9)"
   ]
  },
  {
   "cell_type": "markdown",
   "metadata": {},
   "source": [
    "When the measured variance is diagnoalised and added to the `Kxx` covariance matrix as well as a jitter of `1e-4`, then the computation is the same in Pytorch and GPJax (within `1e-9`)."
   ]
  },
  {
   "cell_type": "code",
   "execution_count": 81,
   "metadata": {},
   "outputs": [
    {
     "data": {
      "text/plain": [
       "Array([[0.        , 0.30792584, 0.57537127, ..., 0.03580389, 0.03352307,\n",
       "        0.03138754],\n",
       "       [1.08541408, 1.14119253, 1.1905356 , ..., 0.07968302, 0.07460695,\n",
       "        0.06985425],\n",
       "       [0.80451484, 0.87894687, 0.95488369, ..., 0.17733544, 0.16603936,\n",
       "        0.15546259],\n",
       "       ...,\n",
       "       [0.17630484, 0.1952162 , 0.21535103, ..., 0.85509555, 0.80491451,\n",
       "        0.75696595],\n",
       "       [0.07922583, 0.08772708, 0.09678004, ..., 1.54281993, 1.49188222,\n",
       "        1.43762525],\n",
       "       [0.03559848, 0.03941835, 0.04348613, ..., 1.61669951, 1.65907612,\n",
       "        1.69249458]], dtype=float64)"
      ]
     },
     "execution_count": 81,
     "metadata": {},
     "output_type": "execute_result"
    }
   ],
   "source": [
    "# Comparing Kxf\n",
    "kxf_gpjax = gpjax_kxf()\n",
    "Kxf_gpjax = kxf_gpjax.cross_covariance(training_times, testing_times)\n",
    "Kxf_gpjax"
   ]
  },
  {
   "cell_type": "code",
   "execution_count": 83,
   "metadata": {},
   "outputs": [
    {
     "data": {
      "text/plain": [
       "False"
      ]
     },
     "execution_count": 83,
     "metadata": {},
     "output_type": "execute_result"
    }
   ],
   "source": [
    "np.allclose(Kxf_torch.detach().numpy(), Kxf_gpjax, atol=1e-4)"
   ]
  },
  {
   "cell_type": "code",
   "execution_count": 87,
   "metadata": {},
   "outputs": [
    {
     "data": {
      "text/plain": [
       "<matplotlib.image.AxesImage at 0x32894dff0>"
      ]
     },
     "execution_count": 87,
     "metadata": {},
     "output_type": "execute_result"
    },
    {
     "data": {
      "image/png": "[encoded data removed]",
      "text/plain": [
       "<Figure size 640x480 with 1 Axes>"
      ]
     },
     "metadata": {},
     "output_type": "display_data"
    }
   ],
   "source": [
    "import matplotlib.pyplot as plt\n",
    "\n",
    "diff_kxf = Kxf_torch.detach().numpy() - Kxf_gpjax\n",
    "\n",
    "plt.imshow(diff_kxf)"
   ]
  },
  {
   "cell_type": "code",
   "execution_count": 154,
   "metadata": {},
   "outputs": [
    {
     "data": {
      "text/plain": [
       "Array([[1.00000000e+00, 9.94598840e-01, 9.78569767e-01, ...,\n",
       "        1.13419201e-14, 4.89912589e-15, 2.09337249e-15],\n",
       "       [9.94598840e-01, 1.00000000e+00, 9.94598840e-01, ...,\n",
       "        2.59746955e-14, 1.13419201e-14, 4.89912589e-15],\n",
       "       [9.78569767e-01, 9.94598840e-01, 1.00000000e+00, ...,\n",
       "        5.88450916e-14, 2.59746955e-14, 1.13419201e-14],\n",
       "       ...,\n",
       "       [1.13419201e-14, 2.59746955e-14, 5.88450916e-14, ...,\n",
       "        1.00000000e+00, 9.94598840e-01, 9.78569767e-01],\n",
       "       [4.89912589e-15, 1.13419201e-14, 2.59746955e-14, ...,\n",
       "        9.94598840e-01, 1.00000000e+00, 9.94598840e-01],\n",
       "       [2.09337249e-15, 4.89912589e-15, 1.13419201e-14, ...,\n",
       "        9.78569767e-01, 9.94598840e-01, 1.00000000e+00]], dtype=float64)"
      ]
     },
     "execution_count": 154,
     "metadata": {},
     "output_type": "execute_result"
    }
   ],
   "source": [
    "# Comparing Kff\n",
    "kff_gpjax = gpjax_kff2()\n",
    "Kff_gpjax = kff_gpjax.gram(testing_times).to_dense()\n",
    "Kff_gpjax"
   ]
  },
  {
   "cell_type": "code",
   "execution_count": 155,
   "metadata": {},
   "outputs": [
    {
     "data": {
      "text/plain": [
       "True"
      ]
     },
     "execution_count": 155,
     "metadata": {},
     "output_type": "execute_result"
    }
   ],
   "source": [
    "np.allclose(Kff_torch.detach().numpy(), Kff_gpjax)"
   ]
  },
  {
   "cell_type": "code",
   "execution_count": 156,
   "metadata": {},
   "outputs": [
    {
     "data": {
      "image/png": "[encoded data removed]",
      "text/plain": [
       "<Figure size 640x480 with 2 Axes>"
      ]
     },
     "metadata": {},
     "output_type": "display_data"
    }
   ],
   "source": [
    "kff_diff = Kff_torch.detach().numpy() - Kff_gpjax\n",
    "\n",
    "plt.imshow(kff_diff)\n",
    "plt.colorbar()\n",
    "plt.show()"
   ]
  },
  {
   "cell_type": "markdown",
   "metadata": {},
   "source": [
    "Using the GPJAX `RBF` kernel straight out of the box gives different results to re-implementing the kernel by hand. The custom implementation computes a matrix of exponential values reflecting more complex, dimension-specific scaling and distances."
   ]
  }
 ],
 "metadata": {
  "kernelspec": {
   "display_name": "gpjax_wp289",
   "language": "python",
   "name": "python3"
  },
  "language_info": {
   "codemirror_mode": {
    "name": "ipython",
    "version": 3
   },
   "file_extension": ".py",
   "mimetype": "text/x-python",
   "name": "python",
   "nbconvert_exporter": "python",
   "pygments_lexer": "ipython3",
   "version": "3.10.14"
  }
 },
 "nbformat": 4,
 "nbformat_minor": 2
}
