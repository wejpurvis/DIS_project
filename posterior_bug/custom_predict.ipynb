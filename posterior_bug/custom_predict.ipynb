{
 "cells": [
  {
   "cell_type": "markdown",
   "metadata": {},
   "source": [
    "## Posterior distribution has no Stdev"
   ]
  },
  {
   "cell_type": "code",
   "execution_count": 1,
   "metadata": {},
   "outputs": [
    {
     "name": "stderr",
     "output_type": "stream",
     "text": [
      "/opt/anaconda3/envs/gpjax_wp289/lib/python3.10/site-packages/tqdm/auto.py:21: TqdmWarning: IProgress not found. Please update jupyter and ipywidgets. See https://ipywidgets.readthedocs.io/en/stable/user_install.html\n",
      "  from .autonotebook import tqdm as notebook_tqdm\n",
      "/opt/anaconda3/envs/gpjax_wp289/lib/python3.10/site-packages/cola/backends/backends.py:75: UserWarning: torch.utils._pytree._register_pytree_node is deprecated. Please use torch.utils._pytree.register_pytree_node instead.\n",
      "  torch.utils._pytree._register_pytree_node(cls, tree_flatten, tree_unflatten)\n"
     ]
    }
   ],
   "source": [
    "import numpy as np\n",
    "import gpjax as gpx\n",
    "import os\n",
    "import jax\n",
    "import matplotlib.pyplot as plt\n",
    "import jax.random as jr\n",
    "\n",
    "from dataclasses import dataclass, field\n",
    "\n",
    "from beartype.typing import Union\n",
    "import jax.numpy as jnp\n",
    "from jaxtyping import Float\n",
    "import tensorflow_probability.substrates.jax.bijectors as tfb\n",
    "import tensorflow_probability.substrates.jax.distributions as tfd\n",
    "\n",
    "from gpjax.base import param_field, static_field\n",
    "from gpjax.kernels.base import AbstractKernel\n",
    "from gpjax.kernels.stationary.utils import squared_distance\n",
    "from gpjax.typing import (\n",
    "    Array,\n",
    "    ScalarFloat,\n",
    ")\n",
    "\n",
    "from beartype.typing import Callable\n",
    "from jaxtyping import Int\n",
    "\n",
    "from p53_data import JAXP53_Data, dataset_3d, generate_test_times\n",
    "jax.config.update('jax_enable_x64', True)\n",
    "\n",
    "from matplotlib import rcParams\n",
    "\n",
    "plt.style.use(\"https://raw.githubusercontent.com/JaxGaussianProcesses/GPJax/main/docs/examples/gpjax.mplstyle\")\n",
    "\n",
    "# Check if LaTeX is in notebook path\n",
    "if os.environ.get('PATH') is not None:\n",
    "    if 'TeX' not in os.environ['PATH']:\n",
    "        os.environ['PATH'] += os.pathsep + '/Library/TeX/texbin'\n",
    "\n",
    "colors = rcParams[\"axes.prop_cycle\"].by_key()[\"color\"]\n",
    "\n",
    "import tensorflow_probability.substrates.jax.bijectors as tfb\n",
    "\n",
    "key = jr.PRNGKey(42)"
   ]
  },
  {
   "cell_type": "code",
   "execution_count": 2,
   "metadata": {},
   "outputs": [],
   "source": [
    "p53_data = JAXP53_Data(replicate=0)\n",
    "training_times, gene_expressions, variances = dataset_3d(p53_data)"
   ]
  },
  {
   "cell_type": "code",
   "execution_count": 3,
   "metadata": {},
   "outputs": [],
   "source": [
    "@dataclass\n",
    "class latent_kernel(gpx.kernels.AbstractKernel):\n",
    "    r\"Combined covariance for learning the latent replication of p53\"\n",
    "\n",
    "    name: str = \"p53 Cov\"\n",
    "\n",
    "    # Define parameters\n",
    "    # BUG: crashes when using unconstrained parameters\n",
    "\n",
    "    # Sensitivities of the genes\n",
    "    initial_sensitivities = jnp.array([1.0, 1.0, 1.0, 1.0, 1.0], dtype=jnp.float64)\n",
    "    #initial_unconstrained_s = tfb.Softplus().inverse(initial_constrained_s)\n",
    "\n",
    "    true_s: Float[Array, \"1 5\"] = param_field(\n",
    "        initial_sensitivities,\n",
    "        bijector=tfb.Softplus(),\n",
    "        metadata={\"name\": \" kxx_sensitivities\"},\n",
    "        trainable=True,\n",
    "    )\n",
    "\n",
    "    # Degradation rates of the genes\n",
    "    initial_decays = jnp.array([0.4, 0.4, 0.4, 0.4, 0.4], dtype=jnp.float64)\n",
    "    #initial_unconstrained_d = tfb.Softplus().inverse(initial_constrained_d)\n",
    "\n",
    "    true_d: Float[Array, \"1 5\"] = param_field(\n",
    "        initial_decays,\n",
    "        bijector=tfb.Softplus(),\n",
    "        metadata={\"name\": \" kxx_degradations\"},\n",
    "        trainable=True,\n",
    "    )\n",
    "\n",
    "    # Sigmoid to map real numbers to (0,1) and then scales and shifts to get(0.5, 3.5) # NOTE: tfb.Chain acts Right to Left\n",
    "    l_bijector = tfb.Chain(\n",
    "        [\n",
    "            tfb.Shift(jnp.array(0.5, dtype=jnp.float64)),\n",
    "            tfb.Scale(jnp.array(3.0, dtype=jnp.float64)),\n",
    "            tfb.Sigmoid(),\n",
    "        ]\n",
    "    )\n",
    "\n",
    "    initial_lengthscale = jnp.array(2.5, dtype=jnp.float64)\n",
    "    #initial_unconstrained_l = l_bijector.inverse(initial_lengthscale)\n",
    "\n",
    "    l: Float[Array, \" O\"] = param_field(\n",
    "        initial_lengthscale, bijector=l_bijector, metadata={\"name\": \"lengthscale\"}\n",
    "    )\n",
    "\n",
    "    # Redefine parameters as static fields\n",
    "    #true_s: Float[Array, \"1 5\"] = static_field(jnp.array([1.0,1.0,1.0,1.0,1.0]))\n",
    "    #true_d: Float[Array, \"1 5\"] = static_field(jnp.array([0.4,0.4,0.4,0.4,0.4]))\n",
    "    #l: Float[Array, \" O\"] = static_field(jnp.array(2.5))\n",
    "\n",
    "    def __call__(self, t: Float[Array, \"1 3\"], t_prime: Float[Array, \"1 3\"]) -> ScalarFloat:\n",
    "        \n",
    "        # Get flag from input (1 = gene expression, 0 = latent force function)\n",
    "        f1 = jnp.array(t[2], dtype=int)\n",
    "        f2 = jnp.array(t_prime[2], dtype=int)\n",
    "\n",
    "        # Cannot use if statements in kernels -> use switches\n",
    "        kxx_switch = f1 * f2\n",
    "        kff_switch = (1 - f1) * (1 - f2)\n",
    "        kxf_switch = f1 * (1 - f2)\n",
    "        kxf_t_switch = (1 - f1) * f2\n",
    "\n",
    "        final_kernel = (\n",
    "            kxx_switch * self.kernel_xx(t, t_prime)\n",
    "            + kff_switch * self.kernel_ff(t, t_prime)\n",
    "            + kxf_switch * self.kernel_xf(t, t_prime)\n",
    "            + kxf_t_switch * self.kernel_xf(t_prime, t)\n",
    "        )\n",
    "\n",
    "        return final_kernel\n",
    "\n",
    "    def kernel_xx(\n",
    "        self, t: Float[Array, \"1 3\"], t_prime: Float[Array, \"1 3\"]\n",
    "    ) -> ScalarFloat:\n",
    "        \"\"\"\n",
    "        Equation 5 in paper k_xx(t,t')\n",
    "        \n",
    "        print('Input to kxx')\n",
    "        print(f\"t: {t}\")\n",
    "        print(f\"t_prime: {t_prime}\")\n",
    "        \"\"\"\n",
    "\n",
    "        # Error trap (JAX friendly)\n",
    "        def check_validity(condition):\n",
    "            if condition:\n",
    "                # raise ValueError(\"t or t' cannot be testing points (z=0)\")\n",
    "                return 0\n",
    "\n",
    "        condition = jnp.logical_or(t[2] == 0, t_prime[2] == 0)\n",
    "        jax.debug.callback(check_validity, condition)\n",
    "\n",
    "        # Get gene indices\n",
    "        j = t[1].astype(int)\n",
    "        k = t_prime[1].astype(int)\n",
    "\n",
    "        t = t[0]\n",
    "        t_prime = t_prime[0]\n",
    "\n",
    "        # Equation 5\n",
    "        mult = self.true_s[j] * self.true_s[k] * self.l * jnp.sqrt(jnp.pi) * 0.5\n",
    "        second_term = self.h(k, j, t_prime, t) + self.h(j, k, t, t_prime)\n",
    "\n",
    "        kxx = mult * second_term\n",
    "        \n",
    "        return kxx.squeeze()\n",
    "\n",
    "    def kernel_xf(\n",
    "        self, t: Float[Array, \"1 3\"], t_prime: Float[Array, \"1 3\"]\n",
    "    ) -> ScalarFloat:\n",
    "        # Get gene expression and latent force from flag (kxf anf kfx are transposes)\n",
    "        gene_xpr = jnp.where(t[2] == 0, t_prime, t)\n",
    "        latent_force = jnp.where(t[2] == 0, t, t_prime)\n",
    "\n",
    "        j = gene_xpr[1].astype(int)\n",
    "\n",
    "        # Slice inputs\n",
    "        gene_xpr = gene_xpr[0]\n",
    "        latent_force = latent_force[0]\n",
    "\n",
    "        t_dist = jnp.abs(gene_xpr - latent_force)\n",
    "\n",
    "        first_term = 0.5 * self.l * jnp.sqrt(jnp.pi) * self.true_s[j]\n",
    "        first_expon_term = jnp.exp(self.gamma(j) ** 2)\n",
    "        second_expon_term = jnp.exp(-self.true_d[j] * t_dist)\n",
    "        erf_terms = jax.scipy.special.erf(\n",
    "            (t_dist / self.l) - self.gamma(j)\n",
    "        ) + jax.scipy.special.erf(latent_force / self.l + self.gamma(j))\n",
    "\n",
    "        kxf = first_term * first_expon_term * second_expon_term * erf_terms\n",
    "        return kxf.squeeze()\n",
    "\n",
    "    def kernel_ff(\n",
    "        self, t: Float[Array, \"1 3\"], t_prime: Float[Array, \"1 3\"]\n",
    "    ) -> ScalarFloat:\n",
    "\n",
    "        t = t[0] / self.l\n",
    "        t_prime = t_prime[0] / self.l\n",
    "\n",
    "        K = jnp.exp(-0.5 * squared_distance(t, t_prime))\n",
    "\n",
    "        return K.squeeze()\n",
    "\n",
    "    # Helper functions\n",
    "    def h(\n",
    "        self,\n",
    "        j: Int[Array, \" O\"],\n",
    "        k: Int[Array, \" O\"],\n",
    "        t1: Float[Array, \" O\"],\n",
    "        t2: Float[Array, \" O\"],\n",
    "    ) -> ScalarFloat:\n",
    "        \"\"\"\n",
    "        Analytical solution for the convolution of the exponential kernel with a step function.\n",
    "        \"\"\"\n",
    "\n",
    "        # Debug print\n",
    "        \"\"\"\n",
    "        print(f\"j: {j}\")\n",
    "        print(f\"k: {k}\")\n",
    "        print(f\"t1: {t1}\")\n",
    "        print(f\"t2: {t2}\")\n",
    "        \"\"\"\n",
    "        t_dist = t2 - t1\n",
    "\n",
    "        multiplier = jnp.exp(self.gamma(k) ** 2) / (self.true_d[j] + self.true_d[k])\n",
    "\n",
    "        first_multiplier = jnp.exp(-self.true_d[k] * t_dist)\n",
    "        first_erf_terms = jax.scipy.special.erf(\n",
    "            (t_dist / self.l) - self.gamma(k)\n",
    "        ) + jax.scipy.special.erf(t1 / self.l + self.gamma(k))\n",
    "\n",
    "        second_multiplier = jnp.exp(-(self.true_d[k] * t2 + self.true_d[j] * t1))\n",
    "        second_erf_terms = jax.scipy.special.erf(\n",
    "            (t2 / self.l) - self.gamma(k)\n",
    "        ) + jax.scipy.special.erf(self.gamma(k))\n",
    "\n",
    "        result = multiplier * (\n",
    "            jnp.multiply(first_multiplier, first_erf_terms)\n",
    "            - jnp.multiply(second_multiplier, second_erf_terms)\n",
    "        )\n",
    "\n",
    "        #print(f\"result: {result}\")\n",
    "        return result\n",
    "\n",
    "    def gamma(self, k: Int[Array, \" O\"]) -> ScalarFloat:\n",
    "        # Gamma term for h function\n",
    "        return (self.true_d[k] * self.l) / 2\n"
   ]
  },
  {
   "cell_type": "markdown",
   "metadata": {},
   "source": [
    "### Custom mean function\n",
    "\n",
    "The mean function for the gene expressions per time is used to obtain the basal rates:\n",
    "\n",
    "$$\n",
    "f(x_{j}) = \\frac{B_{j}}{D_{j}} \n",
    "$$"
   ]
  },
  {
   "cell_type": "code",
   "execution_count": 4,
   "metadata": {},
   "outputs": [],
   "source": [
    "# Define custom mean\n",
    "@dataclass\n",
    "class latent_mean(gpx.mean_functions.AbstractMeanFunction):\n",
    "    r\"\"\"\n",
    "    Simple Input Motif mean function\n",
    "\n",
    "    ```math\n",
    "        f(x_{j}) = \\frac{B_{j}}{D_{j}} \n",
    "    ```\n",
    "\n",
    "    From equation 2 in paper.\n",
    "\n",
    "    $B_{j}$ represents the basal rate for gene $j$ and is a trainable paramater.\n",
    "    \"\"\"\n",
    "\n",
    "    # Pass kernel instance that contains true_d parameter\n",
    "    kernel: gpx.kernels.AbstractKernel = field(default_factory=lambda: latent_kernel())\n",
    "    \n",
    "    #true_d: Float[Array, \"1 5\"] = static_field(jnp.array([0.05, 0.05, 0.05, 0.05, 0.05], dtype=jnp.float64))\n",
    "    \n",
    "    # Define parameters\n",
    "    initial_constrained_b = jnp.array([0.05, 0.05, 0.05, 0.05, 0.05], dtype=jnp.float64)\n",
    "    \n",
    "    true_b: Float[Array, \"1 5\"] = param_field(initial_constrained_b, bijector=tfb.Softplus(), metadata={\"name\": \" basal_rates\"}, trainable=True,)\n",
    "\n",
    "    def __call__(self, x: Float[Array, \"N D\"]) -> Float[Array, \"N O\"]:\n",
    "        r\"\"\"Evaluate the mean function at the given points.\n",
    "\n",
    "        Args:\n",
    "            x (Float[Array, \" D\"]): The point at which to evaluate the mean function.\n",
    "\n",
    "        Returns\n",
    "        -------\n",
    "            Float[Array, \"1\"]: The evaluated mean function.\n",
    "        \"\"\"\n",
    "        # BUG: Concretization error if this is used ?\n",
    "        #num_genes = len(jnp.unique(x[:, 1]))\n",
    "        num_genes = 5\n",
    "\n",
    "        decays = self.kernel.true_d\n",
    "        \n",
    "        block_size = (x.shape[0] // num_genes)\n",
    "        # Define the mean function\n",
    "        #mean = (self.true_b / self.true_d).reshape(1, -1)\n",
    "        mean = (self.true_b / decays).reshape(1, -1)\n",
    "        mean = mean.repeat(block_size, jnp.newaxis).reshape(-1,1)\n",
    "\n",
    "        return mean\n",
    "\n"
   ]
  },
  {
   "cell_type": "markdown",
   "metadata": {},
   "source": [
    "## GP regression"
   ]
  },
  {
   "cell_type": "code",
   "execution_count": 5,
   "metadata": {},
   "outputs": [],
   "source": [
    "dataset_train = gpx.Dataset(training_times, gene_expressions)\n",
    "\n",
    "testing_times = generate_test_times()"
   ]
  },
  {
   "cell_type": "code",
   "execution_count": 6,
   "metadata": {},
   "outputs": [],
   "source": [
    "def optimise_mll(posterior, dataset, NIters=1000, key=key):\n",
    "    # define the MLL using dataset_train\n",
    "    objective = gpx.objectives.ConjugateMLL(negative=True)\n",
    "    print(f'MLL before opt: {objective(posterior, dataset):.3f}')\n",
    "    # Optimise to minimise the MLL\n",
    "    opt_posterior, history = gpx.fit_scipy(\n",
    "        model=posterior,\n",
    "        objective=objective,\n",
    "        train_data=dataset,\n",
    "    )\n",
    "    return opt_posterior, history"
   ]
  },
  {
   "cell_type": "code",
   "execution_count": 96,
   "metadata": {},
   "outputs": [],
   "source": [
    "mean_function = latent_mean()\n",
    "kernel = latent_kernel()\n",
    "\n",
    "# Define the model\n",
    "prior = gpx.gps.Prior(mean_function = mean_function, kernel = kernel, jitter=1e-4)\n",
    "likelihood = gpx.likelihoods.Gaussian(num_datapoints=dataset_train.n)\n",
    "posterior = prior * likelihood"
   ]
  },
  {
   "cell_type": "code",
   "execution_count": 97,
   "metadata": {},
   "outputs": [
    {
     "name": "stdout",
     "output_type": "stream",
     "text": [
      "MLL before opt: 44.032\n",
      "Optimization terminated successfully.\n",
      "         Current function value: 4.615128\n",
      "         Iterations: 56\n",
      "         Function evaluations: 65\n",
      "         Gradient evaluations: 65\n"
     ]
    }
   ],
   "source": [
    "optimised_posterior, history = optimise_mll(posterior, dataset_train)"
   ]
  },
  {
   "cell_type": "code",
   "execution_count": 98,
   "metadata": {},
   "outputs": [
    {
     "data": {
      "text/plain": [
       "[({'bijector': <tfp.bijectors.Softplus 'softplus' batch_shape=[] forward_min_event_ndims=0 inverse_min_event_ndims=0 dtype_x=? dtype_y=?>,\n",
       "   'trainable': True,\n",
       "   'pytree_node': True},\n",
       "  Array(0.14486784, dtype=float32)),\n",
       " ({'name': 'lengthscale',\n",
       "   'bijector': <tfp.bijectors.Chain 'chain_of_shift_of_scale_of_sigmoid' batch_shape=[] forward_min_event_ndims=0 inverse_min_event_ndims=0 dtype_x=float64 dtype_y=float64 bijectors=[<tfp.bijectors.Shift 'shift' batch_shape=[] forward_min_event_ndims=0 inverse_min_event_ndims=0 dtype_x=float64 dtype_y=float64>, <tfp.bijectors.Scale 'scale' batch_shape=[] forward_min_event_ndims=0 inverse_min_event_ndims=0 dtype_x=float64 dtype_y=float64>, <tfp.bijectors.Sigmoid 'sigmoid' batch_shape=[] forward_min_event_ndims=0 inverse_min_event_ndims=0 dtype_x=? dtype_y=?>]>,\n",
       "   'trainable': True,\n",
       "   'pytree_node': True},\n",
       "  Array(1.33019446, dtype=float64)),\n",
       " ({'name': ' kxx_degradations',\n",
       "   'bijector': <tfp.bijectors.Softplus 'softplus' batch_shape=[] forward_min_event_ndims=0 inverse_min_event_ndims=0 dtype_x=? dtype_y=?>,\n",
       "   'trainable': True,\n",
       "   'pytree_node': True},\n",
       "  Array([0.28903954, 0.3518012 , 0.33486477, 1.95412392, 0.34354064],      dtype=float64)),\n",
       " ({'name': ' kxx_sensitivities',\n",
       "   'bijector': <tfp.bijectors.Softplus 'softplus' batch_shape=[] forward_min_event_ndims=0 inverse_min_event_ndims=0 dtype_x=? dtype_y=?>,\n",
       "   'trainable': True,\n",
       "   'pytree_node': True},\n",
       "  Array([0.88587132, 0.97235583, 0.94578183, 2.99576778, 0.96737261],      dtype=float64)),\n",
       " ({'name': 'lengthscale',\n",
       "   'bijector': <tfp.bijectors.Chain 'chain_of_shift_of_scale_of_sigmoid' batch_shape=[] forward_min_event_ndims=0 inverse_min_event_ndims=0 dtype_x=float64 dtype_y=float64 bijectors=[<tfp.bijectors.Shift 'shift' batch_shape=[] forward_min_event_ndims=0 inverse_min_event_ndims=0 dtype_x=float64 dtype_y=float64>, <tfp.bijectors.Scale 'scale' batch_shape=[] forward_min_event_ndims=0 inverse_min_event_ndims=0 dtype_x=float64 dtype_y=float64>, <tfp.bijectors.Sigmoid 'sigmoid' batch_shape=[] forward_min_event_ndims=0 inverse_min_event_ndims=0 dtype_x=? dtype_y=?>]>,\n",
       "   'trainable': True,\n",
       "   'pytree_node': True},\n",
       "  Array(2.5, dtype=float64)),\n",
       " ({'name': ' kxx_degradations',\n",
       "   'bijector': <tfp.bijectors.Softplus 'softplus' batch_shape=[] forward_min_event_ndims=0 inverse_min_event_ndims=0 dtype_x=? dtype_y=?>,\n",
       "   'trainable': True,\n",
       "   'pytree_node': True},\n",
       "  Array([0.28492316, 0.96775795, 0.54752149, 0.70786141, 0.31207021],      dtype=float64)),\n",
       " ({'name': ' kxx_sensitivities',\n",
       "   'bijector': <tfp.bijectors.Softplus 'softplus' batch_shape=[] forward_min_event_ndims=0 inverse_min_event_ndims=0 dtype_x=? dtype_y=?>,\n",
       "   'trainable': True,\n",
       "   'pytree_node': True},\n",
       "  Array([1., 1., 1., 1., 1.], dtype=float64)),\n",
       " ({'name': ' basal_rates',\n",
       "   'bijector': <tfp.bijectors.Softplus 'softplus' batch_shape=[] forward_min_event_ndims=0 inverse_min_event_ndims=0 dtype_x=? dtype_y=?>,\n",
       "   'trainable': True,\n",
       "   'pytree_node': True},\n",
       "  Array([0.08991631, 0.00753754, 0.03344953, 0.02075685, 0.07566642],      dtype=float64))]"
      ]
     },
     "execution_count": 98,
     "metadata": {},
     "output_type": "execute_result"
    }
   ],
   "source": [
    "from gpjax.base import meta_leaves\n",
    "meta_leaves(optimised_posterior)"
   ]
  },
  {
   "cell_type": "code",
   "execution_count": 11,
   "metadata": {},
   "outputs": [],
   "source": [
    "# load t_predict.pt\n",
    "import torch\n",
    "\n",
    "t_predict_torch = torch.load('t_predict.pt')\n",
    "\n",
    "# Convert tensor of size ([80]) to jnp array of size ([80, 1])\n",
    "t_predict_torch = jnp.array(t_predict_torch).reshape(-1)\n",
    "t_predict_torch = jnp.stack((t_predict_torch, jnp.repeat(-1, 80), jnp.repeat(0, 80)), axis=-1)"
   ]
  },
  {
   "cell_type": "code",
   "execution_count": 100,
   "metadata": {},
   "outputs": [],
   "source": [
    "latent_dist = optimised_posterior.predict(t_predict_torch, train_data=dataset_train)\n",
    "predictive_dist = optimised_posterior.likelihood(latent_dist)"
   ]
  },
  {
   "cell_type": "code",
   "execution_count": 102,
   "metadata": {},
   "outputs": [
    {
     "name": "stdout",
     "output_type": "stream",
     "text": [
      "[0.51049945        nan        nan        nan        nan        nan\n",
      "        nan        nan        nan        nan        nan        nan\n",
      "        nan        nan        nan        nan        nan        nan\n",
      "        nan        nan        nan        nan        nan        nan\n",
      "        nan        nan        nan        nan        nan        nan\n",
      "        nan        nan        nan        nan        nan        nan\n",
      "        nan        nan        nan        nan        nan        nan\n",
      "        nan        nan        nan        nan        nan        nan\n",
      "        nan        nan        nan        nan        nan        nan\n",
      "        nan        nan        nan        nan        nan        nan\n",
      "        nan        nan        nan        nan        nan        nan\n",
      "        nan        nan        nan        nan        nan        nan\n",
      "        nan        nan        nan        nan        nan        nan\n",
      "        nan        nan]\n",
      "[nan nan nan nan nan nan nan nan nan nan nan nan nan nan nan nan nan nan\n",
      " nan nan nan nan nan nan nan nan nan nan nan nan nan nan nan nan nan nan\n",
      " nan nan nan nan nan nan nan nan nan nan nan nan nan nan nan nan nan nan\n",
      " nan nan nan nan nan nan nan nan nan nan nan nan nan nan nan nan nan nan\n",
      " nan nan nan nan nan nan nan nan]\n"
     ]
    }
   ],
   "source": [
    "print(latent_dist.stddev())\n",
    "print(predictive_dist.stddev())"
   ]
  },
  {
   "cell_type": "markdown",
   "metadata": {},
   "source": [
    "## Define custom .predict method"
   ]
  },
  {
   "cell_type": "code",
   "execution_count": 163,
   "metadata": {},
   "outputs": [],
   "source": [
    "import cola\n",
    "from cola.linalg.decompositions.decompositions import Cholesky\n",
    "\n",
    "from gpjax.dataset import Dataset\n",
    "from gpjax.distributions import GaussianDistribution\n",
    "from jaxtyping import Num\n",
    "\n",
    "class opt_p53_posterior(gpx.gps.ConjugatePosterior):\n",
    "    \n",
    "    def custom_predict_noisy(self, test_inputs: Num[Array, \"N D\"], train_data: Dataset) -> GaussianDistribution:\n",
    "        x, y = train_data.X, train_data.y\n",
    "        t = test_inputs\n",
    "        jitter = 1e-3\n",
    "\n",
    "        # Unpack test inputs\n",
    "        t = test_inputs\n",
    "\n",
    "        # Observation noise o²\n",
    "        likelihood_obs_stddev = jnp.array(1.0)\n",
    "        obs_noise = likelihood_obs_stddev**2\n",
    "        mx = self.prior.mean_function(x)\n",
    "\n",
    "        # Precompute Gram matrix, Kxx, at training inputs, x\n",
    "        Kxx = self.prior.kernel.gram(x)\n",
    "        Kxx += cola.ops.I_like(Kxx) * self.prior.jitter\n",
    "\n",
    "        # Σ = Kxx + Io²\n",
    "        Sigma = Kxx + cola.ops.I_like(Kxx) * obs_noise\n",
    "        Sigma = cola.PSD(Sigma)\n",
    "\n",
    "        mean_t = self.prior.mean_function(t)\n",
    "        \n",
    "        Ktt = self.prior.kernel.gram(t)\n",
    "        Kxt = self.prior.kernel.cross_covariance(x, t)\n",
    "        \n",
    "        Sigma_inv_Kxt = cola.solve(Sigma, Kxt)\n",
    "\n",
    "        # μt  +  Ktx (Kxx + Io²)⁻¹ (y  -  μx)\n",
    "        mean = mean_t + jnp.matmul(Sigma_inv_Kxt.T, y - mx)\n",
    "\n",
    "        # Ktt  -  Ktx (Kxx + Io²)⁻¹ Kxt\n",
    "        \n",
    "        covariance = Ktt - jnp.matmul(Kxt.T, Sigma_inv_Kxt)\n",
    "        print(covariance.to_dense().shape)\n",
    "        #covariance += cola.ops.I_like(covariance) * jitter\n",
    "        covariance = cola.PSD(covariance)\n",
    "\n",
    "        # Check PSD of final covariance matrix\n",
    "        def is_pos_def(x):\n",
    "              return jnp.all(jnp.linalg.eigvals(x) > 0)\n",
    "        if not is_pos_def(covariance.to_dense()):\n",
    "            print(\"Covariance matrix is not positive definite\")\n",
    "\n",
    "        \n",
    "        # Diagonalise covariance matrix\n",
    "        diag_cov = jnp.diag(jnp.diag(covariance.to_dense()))\n",
    "        #diag_cov += prior_testing.jitter * jnp.eye(diag_cov.shape[-1])\n",
    "        diag_cov += cola.ops.I_like(diag_cov) * jitter\n",
    "\n",
    "        # Convert diag_cov to Cola LinearOperator\n",
    "        diag_cov = cola.PSD(diag_cov)\n",
    "        \n",
    "\n",
    "        return diag_cov, GaussianDistribution(jnp.atleast_1d(mean.squeeze()), diag_cov)\n",
    "    \n",
    "    def custom_predict(self, test_inputs: Num[Array, \"N D\"], train_data: Dataset) -> GaussianDistribution:\n",
    "\n",
    "        jitter = 2\n",
    "        \n",
    "        x, y = train_data.X, train_data.y\n",
    "        t = test_inputs\n",
    "\n",
    "        diag_variances = jnp.diag(variances.reshape(-1))\n",
    "         \n",
    "        Kxx = self.prior.kernel.gram(x)\n",
    "        Kxx += diag_variances\n",
    "        #Kxx += cola.ops.I_like(Kxx) * self.prior.jitter # + 1e-4\n",
    "        Kxx += cola.ops.I_like(Kxx) * jitter\n",
    "        K_inv = cola.inv(Kxx)\n",
    "\n",
    "        Kxf = self.prior.kernel.cross_covariance(x, t)\n",
    "        KfxKxx = jnp.matmul(Kxf.T, K_inv.to_dense())\n",
    "        mean = jnp.matmul(KfxKxx, y)\n",
    "\n",
    "        Kff = self.prior.kernel.gram(t)\n",
    "        Kff += cola.ops.I_like(Kff) * jitter # + 1e-3\n",
    "\n",
    "        var = Kff - jnp.matmul(KfxKxx, Kxf)\n",
    "        var = jnp.diag(jnp.diag(var.to_dense()))\n",
    "        var += cola.ops.I_like(var) * jitter\n",
    "\n",
    "         \n",
    "        return var, GaussianDistribution(jnp.atleast_1d(mean.squeeze()), var)\n",
    "        #return Kxx.to_dense(), Kxf, Kff.to_dense()"
   ]
  },
  {
   "cell_type": "code",
   "execution_count": 164,
   "metadata": {},
   "outputs": [
    {
     "name": "stdout",
     "output_type": "stream",
     "text": [
      "(80, 80)\n",
      "Covariance matrix is not positive definite\n"
     ]
    }
   ],
   "source": [
    "custom_posterior = opt_p53_posterior(prior=optimised_posterior.prior, likelihood=optimised_posterior.likelihood)\n",
    "\n",
    "cov_mat, latent2 = custom_posterior.custom_predict_noisy(testing_times, train_data=dataset_train)"
   ]
  },
  {
   "cell_type": "code",
   "execution_count": 165,
   "metadata": {},
   "outputs": [],
   "source": [
    "custom_posterior = opt_p53_posterior(prior=optimised_posterior.prior, likelihood=optimised_posterior.likelihood)\n",
    "\n",
    "#final_kxx, final_kxf, final_kff = custom_posterior.custom_predict(testing_times, train_data=dataset_train)\n",
    "var3, latent3 = custom_posterior.custom_predict(testing_times, train_data=dataset_train)"
   ]
  },
  {
   "cell_type": "code",
   "execution_count": 166,
   "metadata": {},
   "outputs": [
    {
     "data": {
      "text/plain": [
       "Array([2.17621233, 2.06483952, 1.86457551, 1.63823953, 1.41081622,\n",
       "       1.20248496, 1.0360066 , 0.9346056 , 0.91098217, 0.95602106,\n",
       "       1.04470613, 1.15205981, 1.26085189, 1.32362606, 1.3749419 ,\n",
       "       1.42155235, 1.463607  , 1.50167344, 1.53657505, 1.56931348,\n",
       "       1.60092619, 1.63223576, 1.66356749, 1.69457836, 1.72431397,\n",
       "       1.7497688 , 1.76964267, 1.78545192, 1.79824862, 1.80894599,\n",
       "       1.81840605, 1.82752314, 1.83719824, 1.84816657, 1.86074213,\n",
       "       1.87461799, 1.88885789, 1.90109967, 1.90923776, 1.91445517,\n",
       "       1.9175622 , 1.919238  , 1.92012028, 1.92091611, 1.92241706,\n",
       "       1.9253586 , 1.93016531, 1.9367115 , 1.94424527, 1.95096349,\n",
       "       1.95413057, 1.95468589, 1.95345371, 1.95111485, 1.94828428,\n",
       "       1.94563024, 1.94391407, 1.94387605, 1.94599096, 1.9502128 ,\n",
       "       1.95586168, 1.9614907 , 1.96401278, 1.96388579, 1.96189398,\n",
       "       1.95869323, 1.95491202, 1.95132982, 1.94899798, 1.94919034,\n",
       "       1.95315813, 1.96177391, 1.97522291, 1.99161426, 1.99390056,\n",
       "       1.99641248, 2.00026723, 2.0060538 , 2.01379127, 2.0230637 ],      dtype=float64)"
      ]
     },
     "execution_count": 166,
     "metadata": {},
     "output_type": "execute_result"
    }
   ],
   "source": [
    "latent3.stddev()"
   ]
  },
  {
   "cell_type": "code",
   "execution_count": 167,
   "metadata": {},
   "outputs": [
    {
     "data": {
      "text/plain": [
       "Array([2.18102884, 2.0699152 , 1.87019478, 1.64463232, 1.4182345 ,\n",
       "       1.21117991, 1.04608622, 0.94576652, 0.92242897, 0.96693483,\n",
       "       1.0547026 , 1.16113242, 1.26914703, 1.33153019, 1.38255268,\n",
       "       1.4289149 , 1.47075904, 1.50864502, 1.54338899, 1.57598588,\n",
       "       1.60746737, 1.63865196, 1.66986332, 1.70075939, 1.73038879,\n",
       "       1.75575554, 1.77556241, 1.79131942, 1.80407449, 1.81473753,\n",
       "       1.82416756, 1.83325599, 1.84290099, 1.85383558, 1.86637295,\n",
       "       1.88020725, 1.89440513, 1.9066113 , 1.91472596, 1.91992846,\n",
       "       1.92302665, 1.92469769, 1.92557746, 1.92637104, 1.92786774,\n",
       "       1.93080098, 1.93559418, 1.94212206, 1.94963493, 1.95633464,\n",
       "       1.95949304, 1.96004684, 1.95881804, 1.95648558, 1.9536628 ,\n",
       "       1.95101608, 1.94930464, 1.94926673, 1.9513758 , 1.95558601,\n",
       "       1.96121942, 1.96683311, 1.96934834, 1.9692217 , 1.96723528,\n",
       "       1.96404324, 1.96027235, 1.95669996, 1.95437453, 1.95456636,\n",
       "       1.95852327, 1.96711554, 1.98052827, 1.99687608, 1.99915636,\n",
       "       2.00166168, 2.00550634, 2.01127784, 2.01899528, 2.02824392],      dtype=float64)"
      ]
     },
     "execution_count": 167,
     "metadata": {},
     "output_type": "execute_result"
    }
   ],
   "source": [
    "predictive_dist3 = optimised_posterior.likelihood(latent3)\n",
    "\n",
    "predictive_dist3.stddev()"
   ]
  },
  {
   "cell_type": "code",
   "execution_count": 150,
   "metadata": {},
   "outputs": [],
   "source": [
    "def plot_gp(x_test, predictive_dist):\n",
    "    \"\"\"\n",
    "    Plot LF GP given test points and prediction\n",
    "\n",
    "    Parameters\n",
    "    ----------\n",
    "    x_test: array of shape (n, 3)\n",
    "    predictive_dist:  jax mvn\n",
    "    \"\"\"\n",
    "\n",
    "    predictive_mean = predictive_dist.mean()\n",
    "    predictive_std = predictive_dist.variance()\n",
    "\n",
    "    # (100,)\n",
    "    x_test = x_test[:,0]\n",
    "\n",
    "    import matplotlib as mpl\n",
    "    cols = mpl.rcParams[\"axes.prop_cycle\"].by_key()[\"color\"]\n",
    "    fig, ax = plt.subplots(figsize=(7.5, 2.5))\n",
    "\n",
    "    ax.fill_between(\n",
    "        x_test.squeeze(),\n",
    "        predictive_mean - 2 * predictive_std,\n",
    "        predictive_mean + 2 * predictive_std,\n",
    "        alpha=0.2,\n",
    "        label=\"Two sigma\",\n",
    "        color=cols[1],\n",
    "    )\n",
    "    ax.plot(\n",
    "        x_test,\n",
    "        predictive_mean - 2 * predictive_std,\n",
    "        linestyle=\"--\",\n",
    "        linewidth=1,\n",
    "        color=cols[1],\n",
    "    )\n",
    "    ax.plot(\n",
    "        x_test,\n",
    "        predictive_mean + 2 * predictive_std,\n",
    "        linestyle=\"--\",\n",
    "        linewidth=1,\n",
    "        color=cols[1],\n",
    "    )\n",
    "    \n",
    "    ax.plot(x_test, predictive_mean, label=\"Predictive mean\", color=cols[1])\n",
    "    ax.legend(loc=\"center left\", bbox_to_anchor=(0.975, 0.5))\n",
    "    ax.set_xlabel(\"Time\")\n",
    "    ax.set_ylabel(\"mRNA Expression\")"
   ]
  },
  {
   "cell_type": "code",
   "execution_count": 168,
   "metadata": {},
   "outputs": [
    {
     "data": {
      "image/png": "[encoded data removed]",
      "text/plain": [
       "<Figure size 900x300 with 1 Axes>"
      ]
     },
     "metadata": {},
     "output_type": "display_data"
    }
   ],
   "source": [
    "plot_gp(testing_times, predictive_dist3)"
   ]
  },
  {
   "cell_type": "code",
   "execution_count": 169,
   "metadata": {},
   "outputs": [],
   "source": [
    "# Load kxx, kxf, kff from .npy files\n",
    "kxx_torch = np.load('trained_kxx.npy')\n",
    "kxf_torch = np.load('trained_kxf.npy')\n",
    "kff_torch = np.load('trained_kff.npy')"
   ]
  },
  {
   "cell_type": "code",
   "execution_count": 173,
   "metadata": {},
   "outputs": [],
   "source": [
    "kxx_torch_inv = np.linalg.inv(kxx_torch)\n",
    "kfx_kxx_torch = np.matmul(kxf_torch.T, kxx_torch_inv)\n",
    "mean_func_torch = np.matmul(kfx_kxx_torch, np.asarray(dataset_train.y))\n",
    "\n",
    "var = kff_torch - np.matmul(kfx_kxx_torch, kxf_torch)\n",
    "var = np.diag(np.diag(var))\n",
    "var += np.eye(var.shape[0]) * 1e-3\n",
    "\n",
    "mean_tensor = torch.tensor(mean_func_torch)\n",
    "var_tensor = torch.tensor(var)\n",
    "\n",
    "import gpytorch\n",
    "\n",
    "mvn = gpytorch.distributions.MultivariateNormal(mean_tensor.squeeze(-1), var_tensor)"
   ]
  },
  {
   "cell_type": "code",
   "execution_count": 199,
   "metadata": {},
   "outputs": [],
   "source": [
    "var2 = cola.ops.Dense(jnp.array(var))\n",
    "mvn_gpjax = GaussianDistribution(jnp.atleast_1d(mean_func_torch.squeeze()), var2)"
   ]
  },
  {
   "cell_type": "code",
   "execution_count": 201,
   "metadata": {},
   "outputs": [
    {
     "data": {
      "image/png": "[encoded data removed]",
      "text/plain": [
       "<Figure size 900x300 with 1 Axes>"
      ]
     },
     "metadata": {},
     "output_type": "display_data"
    }
   ],
   "source": [
    "pred_gpjax = optimised_posterior.likelihood(mvn_gpjax)\n",
    "plot_gp(testing_times, pred_gpjax)"
   ]
  },
  {
   "cell_type": "code",
   "execution_count": 183,
   "metadata": {},
   "outputs": [
    {
     "data": {
      "text/plain": [
       "[<matplotlib.lines.Line2D at 0x349246320>]"
      ]
     },
     "execution_count": 183,
     "metadata": {},
     "output_type": "execute_result"
    },
    {
     "data": {
      "image/png": "[encoded data removed]",
      "text/plain": [
       "<Figure size 900x300 with 1 Axes>"
      ]
     },
     "metadata": {},
     "output_type": "display_data"
    }
   ],
   "source": [
    "torch_mean = mvn.mean.detach()\n",
    "torch_std = mvn.variance.sqrt().detach()\n",
    "\n",
    "# Plot the GP\n",
    "fig, ax = plt.subplots(figsize=(7.5, 2.5))\n",
    "\n",
    "ax.fill_between(\n",
    "    testing_times[:,0].squeeze(),\n",
    "    torch_mean - 2 * torch_std,\n",
    "    torch_mean + 2 * torch_std,\n",
    "    alpha=0.2,\n",
    "    label=\"Two sigma\",\n",
    "    color=colors[1],\n",
    ")\n",
    "ax.plot(\n",
    "    testing_times[:,0],\n",
    "    torch_mean - 2 * torch_std,\n",
    "    linestyle=\"--\",\n",
    "    linewidth=1,\n",
    "    color=colors[1],\n",
    ")\n",
    "ax.plot(\n",
    "    testing_times[:,0],\n",
    "    torch_mean + 2 * torch_std,\n",
    "    linestyle=\"--\",\n",
    "    linewidth=1,\n",
    "    color=colors[1],\n",
    ")\n",
    "\n",
    "ax.plot(testing_times[:,0], torch_mean, label=\"Predictive mean\", color=colors[1])"
   ]
  },
  {
   "cell_type": "code",
   "execution_count": 106,
   "metadata": {},
   "outputs": [],
   "source": [
    "kxx_inv = jnp.linalg.inv(final_kxx)\n",
    "kfx_kxx = jnp.matmul(final_kxf.T, kxx_inv)\n",
    "mean_func = jnp.matmul(kfx_kxx, dataset_train.y)\n",
    "\n",
    "var = final_kff - jnp.matmul(kfx_kxx, final_kxf)\n",
    "var = jnp.diag(jnp.diag(var))\n",
    "var += jnp.eye(var.shape[0]) * 1e-3"
   ]
  },
  {
   "cell_type": "code",
   "execution_count": 109,
   "metadata": {},
   "outputs": [
    {
     "data": {
      "text/plain": [
       "((80, 1), (80, 80))"
      ]
     },
     "execution_count": 109,
     "metadata": {},
     "output_type": "execute_result"
    }
   ],
   "source": [
    "mean_func.shape, var.shape"
   ]
  },
  {
   "cell_type": "code",
   "execution_count": 108,
   "metadata": {},
   "outputs": [
    {
     "ename": "_LinAlgError",
     "evalue": "linalg.cholesky: The factorization could not be completed because the input is not positive-definite (the leading minor of order 2 is not positive-definite).",
     "output_type": "error",
     "traceback": [
      "\u001b[0;31m---------------------------------------------------------------------------\u001b[0m",
      "\u001b[0;31m_LinAlgError\u001b[0m                              Traceback (most recent call last)",
      "Cell \u001b[0;32mIn[108], line 7\u001b[0m\n\u001b[1;32m      4\u001b[0m mean_tensor \u001b[38;5;241m=\u001b[39m torch\u001b[38;5;241m.\u001b[39mtensor(np\u001b[38;5;241m.\u001b[39masarray(mean_func))\n\u001b[1;32m      5\u001b[0m var_tensor \u001b[38;5;241m=\u001b[39m torch\u001b[38;5;241m.\u001b[39mtensor(np\u001b[38;5;241m.\u001b[39masarray(var))\n\u001b[0;32m----> 7\u001b[0m mvn \u001b[38;5;241m=\u001b[39m \u001b[43mgpytorch\u001b[49m\u001b[38;5;241;43m.\u001b[39;49m\u001b[43mdistributions\u001b[49m\u001b[38;5;241;43m.\u001b[39;49m\u001b[43mMultivariateNormal\u001b[49m\u001b[43m(\u001b[49m\u001b[43mmean_tensor\u001b[49m\u001b[38;5;241;43m.\u001b[39;49m\u001b[43msqueeze\u001b[49m\u001b[43m(\u001b[49m\u001b[38;5;241;43m-\u001b[39;49m\u001b[38;5;241;43m1\u001b[39;49m\u001b[43m)\u001b[49m\u001b[43m,\u001b[49m\u001b[43m \u001b[49m\u001b[43mvar_tensor\u001b[49m\u001b[43m)\u001b[49m\n",
      "File \u001b[0;32m/opt/anaconda3/envs/gpjax_wp289/lib/python3.10/site-packages/gpytorch/distributions/multivariate_normal.py:65\u001b[0m, in \u001b[0;36mMultivariateNormal.__init__\u001b[0;34m(self, mean, covariance_matrix, validate_args)\u001b[0m\n\u001b[1;32m     63\u001b[0m     \u001b[38;5;28msuper\u001b[39m(TMultivariateNormal, \u001b[38;5;28mself\u001b[39m)\u001b[38;5;241m.\u001b[39m\u001b[38;5;21m__init__\u001b[39m(batch_shape, event_shape, validate_args\u001b[38;5;241m=\u001b[39m\u001b[38;5;28;01mFalse\u001b[39;00m)\n\u001b[1;32m     64\u001b[0m \u001b[38;5;28;01melse\u001b[39;00m:\n\u001b[0;32m---> 65\u001b[0m     \u001b[38;5;28;43msuper\u001b[39;49m\u001b[43m(\u001b[49m\u001b[43m)\u001b[49m\u001b[38;5;241;43m.\u001b[39;49m\u001b[38;5;21;43m__init__\u001b[39;49m\u001b[43m(\u001b[49m\u001b[43mloc\u001b[49m\u001b[38;5;241;43m=\u001b[39;49m\u001b[43mmean\u001b[49m\u001b[43m,\u001b[49m\u001b[43m \u001b[49m\u001b[43mcovariance_matrix\u001b[49m\u001b[38;5;241;43m=\u001b[39;49m\u001b[43mcovariance_matrix\u001b[49m\u001b[43m,\u001b[49m\u001b[43m \u001b[49m\u001b[43mvalidate_args\u001b[49m\u001b[38;5;241;43m=\u001b[39;49m\u001b[43mvalidate_args\u001b[49m\u001b[43m)\u001b[49m\n",
      "File \u001b[0;32m/opt/anaconda3/envs/gpjax_wp289/lib/python3.10/site-packages/torch/distributions/multivariate_normal.py:182\u001b[0m, in \u001b[0;36mMultivariateNormal.__init__\u001b[0;34m(self, loc, covariance_matrix, precision_matrix, scale_tril, validate_args)\u001b[0m\n\u001b[1;32m    180\u001b[0m     \u001b[38;5;28mself\u001b[39m\u001b[38;5;241m.\u001b[39m_unbroadcasted_scale_tril \u001b[38;5;241m=\u001b[39m scale_tril\n\u001b[1;32m    181\u001b[0m \u001b[38;5;28;01melif\u001b[39;00m covariance_matrix \u001b[38;5;129;01mis\u001b[39;00m \u001b[38;5;129;01mnot\u001b[39;00m \u001b[38;5;28;01mNone\u001b[39;00m:\n\u001b[0;32m--> 182\u001b[0m     \u001b[38;5;28mself\u001b[39m\u001b[38;5;241m.\u001b[39m_unbroadcasted_scale_tril \u001b[38;5;241m=\u001b[39m \u001b[43mtorch\u001b[49m\u001b[38;5;241;43m.\u001b[39;49m\u001b[43mlinalg\u001b[49m\u001b[38;5;241;43m.\u001b[39;49m\u001b[43mcholesky\u001b[49m\u001b[43m(\u001b[49m\u001b[43mcovariance_matrix\u001b[49m\u001b[43m)\u001b[49m\n\u001b[1;32m    183\u001b[0m \u001b[38;5;28;01melse\u001b[39;00m:  \u001b[38;5;66;03m# precision_matrix is not None\u001b[39;00m\n\u001b[1;32m    184\u001b[0m     \u001b[38;5;28mself\u001b[39m\u001b[38;5;241m.\u001b[39m_unbroadcasted_scale_tril \u001b[38;5;241m=\u001b[39m _precision_to_scale_tril(precision_matrix)\n",
      "\u001b[0;31m_LinAlgError\u001b[0m: linalg.cholesky: The factorization could not be completed because the input is not positive-definite (the leading minor of order 2 is not positive-definite)."
     ]
    }
   ],
   "source": [
    "import gpytorch\n",
    "\n",
    "# convert to tensors\n",
    "mean_tensor = torch.tensor(np.asarray(mean_func))\n",
    "var_tensor = torch.tensor(np.asarray(var))\n",
    "\n",
    "mvn = gpytorch.distributions.MultivariateNormal(mean_tensor.squeeze(-1), var_tensor)"
   ]
  },
  {
   "cell_type": "code",
   "execution_count": 115,
   "metadata": {},
   "outputs": [
    {
     "name": "stdout",
     "output_type": "stream",
     "text": [
      "True\n",
      "True\n"
     ]
    }
   ],
   "source": [
    "def is_pos_def(x):\n",
    "    return jnp.all(jnp.linalg.eigvals(x) > 0)\n",
    "\n",
    "\n",
    "print(is_pos_def(final_kxx))\n",
    "#print(is_pos_def(final_kxf))\n",
    "print(is_pos_def(final_kff))\n"
   ]
  },
  {
   "cell_type": "code",
   "execution_count": 54,
   "metadata": {},
   "outputs": [
    {
     "data": {
      "text/plain": [
       "Array([[0.00303819, 0.        , 0.        , ..., 0.        , 0.        ,\n",
       "        0.        ],\n",
       "       [0.        , 0.01856116, 0.        , ..., 0.        , 0.        ,\n",
       "        0.        ],\n",
       "       [0.        , 0.        , 0.0701199 , ..., 0.        , 0.        ,\n",
       "        0.        ],\n",
       "       ...,\n",
       "       [0.        , 0.        , 0.        , ..., 0.10808126, 0.        ,\n",
       "        0.        ],\n",
       "       [0.        , 0.        , 0.        , ..., 0.        , 0.03522394,\n",
       "        0.        ],\n",
       "       [0.        , 0.        , 0.        , ..., 0.        , 0.        ,\n",
       "        0.03665315]], dtype=float64)"
      ]
     },
     "execution_count": 54,
     "metadata": {},
     "output_type": "execute_result"
    }
   ],
   "source": [
    "jnp.diag(variances.reshape(-1))"
   ]
  },
  {
   "cell_type": "code",
   "execution_count": 18,
   "metadata": {},
   "outputs": [],
   "source": [
    "outa_box_rbf = gpx.kernels.RBF()\n",
    "outa_box_rbf_l = outa_box_rbf.replace(lengthscale = 1.25089093)\n",
    "rbf_gpjax = outa_box_rbf.replace_trainable(variance=False)\n"
   ]
  },
  {
   "cell_type": "code",
   "execution_count": 19,
   "metadata": {},
   "outputs": [
    {
     "data": {
      "text/plain": [
       "(80, 1)"
      ]
     },
     "execution_count": 19,
     "metadata": {},
     "output_type": "execute_result"
    }
   ],
   "source": [
    "x_test = jnp.linspace(0,13,80).reshape(-1,1)\n",
    "x_test.shape"
   ]
  },
  {
   "cell_type": "code",
   "execution_count": 20,
   "metadata": {},
   "outputs": [],
   "source": [
    "kff_test = outa_box_rbf.gram(x_test).to_dense()"
   ]
  },
  {
   "cell_type": "code",
   "execution_count": 26,
   "metadata": {},
   "outputs": [
    {
     "data": {
      "text/plain": [
       "Array([[nan,  0.,  0., ...,  0.,  0.,  0.],\n",
       "       [nan, nan,  0., ...,  0.,  0.,  0.],\n",
       "       [nan, nan, nan, ...,  0.,  0.,  0.],\n",
       "       ...,\n",
       "       [nan, nan, nan, ..., nan,  0.,  0.],\n",
       "       [nan, nan, nan, ..., nan, nan,  0.],\n",
       "       [nan, nan, nan, ..., nan, nan, nan]], dtype=float64)"
      ]
     },
     "execution_count": 26,
     "metadata": {},
     "output_type": "execute_result"
    }
   ],
   "source": [
    "jnp.linalg.cholesky(kff_test)"
   ]
  },
  {
   "cell_type": "code",
   "execution_count": 25,
   "metadata": {},
   "outputs": [
    {
     "data": {
      "text/plain": [
       "Array([ True,  True,  True,  True,  True,  True,  True,  True,  True,\n",
       "        True,  True,  True,  True,  True,  True,  True,  True,  True,\n",
       "        True,  True,  True,  True,  True,  True,  True,  True,  True,\n",
       "        True,  True,  True,  True,  True,  True,  True,  True,  True,\n",
       "        True,  True,  True,  True,  True,  True,  True, False, False,\n",
       "        True,  True,  True,  True,  True,  True,  True, False, False,\n",
       "       False, False,  True,  True,  True, False, False, False, False,\n",
       "       False, False, False, False,  True,  True,  True,  True,  True,\n",
       "       False, False, False, False,  True,  True, False, False],      dtype=bool)"
      ]
     },
     "execution_count": 25,
     "metadata": {},
     "output_type": "execute_result"
    }
   ],
   "source": [
    "jnp.linalg.eigvals(kff_test) >= 0"
   ]
  },
  {
   "cell_type": "code",
   "execution_count": 22,
   "metadata": {},
   "outputs": [
    {
     "ename": "NameError",
     "evalue": "name 'latent3' is not defined",
     "output_type": "error",
     "traceback": [
      "\u001b[0;31m---------------------------------------------------------------------------\u001b[0m",
      "\u001b[0;31mNameError\u001b[0m                                 Traceback (most recent call last)",
      "Cell \u001b[0;32mIn[22], line 1\u001b[0m\n\u001b[0;32m----> 1\u001b[0m \u001b[43mlatent3\u001b[49m\u001b[38;5;241m.\u001b[39mcovariance()\n",
      "\u001b[0;31mNameError\u001b[0m: name 'latent3' is not defined"
     ]
    }
   ],
   "source": [
    "latent3.covariance()"
   ]
  },
  {
   "cell_type": "code",
   "execution_count": null,
   "metadata": {},
   "outputs": [],
   "source": [
    "cov_mat_dense = cov_mat.to_dense()"
   ]
  },
  {
   "cell_type": "code",
   "execution_count": 98,
   "metadata": {},
   "outputs": [
    {
     "data": {
      "text/plain": [
       "Array([[0.001, 0.   , 0.   , ..., 0.   , 0.   , 0.   ],\n",
       "       [0.   , 0.001, 0.   , ..., 0.   , 0.   , 0.   ],\n",
       "       [0.   , 0.   , 0.001, ..., 0.   , 0.   , 0.   ],\n",
       "       ...,\n",
       "       [0.   , 0.   , 0.   , ..., 0.001, 0.   , 0.   ],\n",
       "       [0.   , 0.   , 0.   , ..., 0.   , 0.001, 0.   ],\n",
       "       [0.   , 0.   , 0.   , ..., 0.   , 0.   , 0.001]], dtype=float64)"
      ]
     },
     "execution_count": 98,
     "metadata": {},
     "output_type": "execute_result"
    }
   ],
   "source": [
    "jnp.eye(cov_mat_dense.shape[0]) * 1e-3"
   ]
  }
 ],
 "metadata": {
  "kernelspec": {
   "display_name": "project_wp289",
   "language": "python",
   "name": "python3"
  },
  "language_info": {
   "codemirror_mode": {
    "name": "ipython",
    "version": 3
   },
   "file_extension": ".py",
   "mimetype": "text/x-python",
   "name": "python",
   "nbconvert_exporter": "python",
   "pygments_lexer": "ipython3",
   "version": "3.10.14"
  }
 },
 "nbformat": 4,
 "nbformat_minor": 2
}
